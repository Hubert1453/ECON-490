{
 "cells": [
  {
   "cell_type": "markdown",
   "metadata": {},
   "source": [
    "## Homework 1 - Yeehaw! Data Wrangling!\n",
    "### Hubert Wang\n",
    "\n",
    "**COLLABORATED WITH:_ _ _ _ _ _ _ _ _ _ _ _ _ _ _ _ _ _ _ _**\n",
    "\n",
    "***\n",
    "***\n",
    "***\n",
    "\n",
    "**Submit a PDF export of your notebook (100% PENALTY)** \n",
    "\n",
    "***\n",
    "***\n",
    "***\n",
    "\n",
    "#### Table of Contents\n",
    "- [Overview](#Overview)\n",
    "- [[10 Points] Preliminaries](#[10-Points]-Preliminaries)\n",
    "- [ACS](#ACS)\n",
    "    - [[15 Points] Prep](#[15-Points]-Prep)\n",
    "    - [[5 Points] Creating Keys](#[5-Points]-Creating-Keys)\n",
    "    - [[15 Points] Grouped Features](#[15-Points]-Grouped-Features)\n",
    "    - [[10 Points] Individual Features](#[10-Points]-Individual-Features)\n",
    "    - [[5 Points] Labels](#[5-Points]-Labels)\n",
    "- [[10 Points] FHFA](#[10-Points]-FHFA)\n",
    "- [[25 Points] Transformations](#[25-Points]-Transformations)\n",
    "- [[5 Points] Pickling](#[5-Points]-Pickling)\n",
    "\n",
    "# Overview\n",
    "\n",
    "**DOWNLOAD ALL DATA INTO THE SAME FOLDER**\n",
    "\n",
    "We will be primarily using data from the 2016 American Community Survey (ACS) sourced from https://ipums.org/. \n",
    "You will need to **create a free account** to access the data.\n",
    "\n",
    "ACS Steps:\n",
    "\n",
    "* On the USA IPUMS page either click the Get Data button or the Select Data tab\n",
    "* Click change samples. Ensure only ACS 2016 is selected (You can click the Default sample from each year button to unselect the preselected)\n",
    "* Select variables\n",
    "    - STATEFIP, COUNTYFIP, PUMA, DENSITY, NCHILD, SEX, AGE, RACE, HISPAN, EDUC, EMPSTAT, OCC2010, IND1990, UHRSWORK, INCWAGE\n",
    "* View cart\n",
    "* For reducing the size of the extract, **unselect** the following preselected variables (we need the others)\n",
    "    - YEAR, SAMPLE, CBSERIAL, HHWT, CLUSTER, STRATA\n",
    "* CREATE DATA EXTRACT\n",
    "* DATA FORMAT > Change > Comma delimited (.csv) > SUBMIT\n",
    "* Provide a description of the extract like: \"AML in Econ homework data\"\n",
    "* SUBMIT EXTRACT\n",
    "\n",
    "**SUPER IMPORTANT** Each variable (continuous or categorical) has an associated code to it. For an example of a codebook you will need, click on the EDUC variable, go to the codes tab, and select the Detailed codes (44 categories) *and* Case-count view.\n",
    "\n",
    "To extract:\n",
    "- **Windows Users**: Use 7zip to extract (like I do) https://www.7-zip.org/download.html\n",
    "- **MAC Users**: In your terminal, navigate to the location of your file. Type `gunzip usa_000XX.csv.gz`\n",
    "\n",
    "Because surveys tend to ask a let of yes or no questions, they primarily consist of dummy variables. \n",
    "We are going to add to our list of continuous variables by merging county-level housing data from the Federal Housing Finance Agency (FHFA) https://www.fhfa.gov/DataTools/Downloads/Pages/House-Price-Index-Datasets.aspx.\n",
    "\n",
    "FHFA Steps:\n",
    "\n",
    "* Download the counties developmental index\n",
    "* Open it and notice the preamble and where the data begins\n",
    "\n",
    "***\n",
    "\n",
    "Because we will be demonstrating different techniques for different types of labels in this class, we will create three different types of label that can be interchangeably used as features. \n",
    "\n",
    "* Labels\n",
    "    - wage (continuous)\n",
    "    - full-time dummy (binary)\n",
    "    - degree $\\in \\{\\leq$ HS, some college, $\\geq$ BA$\\}$\n",
    "- Features\n",
    "    * public use micro area (puma) unemployment rate\n",
    "    * percent of workers in an occupation with a bachelor's degree\n",
    "    * average industry wages\n",
    "    * experience = age - years of schooling - 6\n",
    "    * female indicator\n",
    "    * any kids at home indicator\n",
    "    * black indicator\n",
    "    * hispanic indicator\n",
    "    * 2000 based house price index\n",
    "\n",
    "# [10 Points] Preliminaries\n",
    "\n",
    "- **[5 points]** Import `pandas`, `numpy`, `matplotlib.pyplot`, `seaborn` and `os`.\n",
    "- **[1 point]** Change your working directory to where your data are saved.\n",
    "- **[2 points]** List the files in the directory\n",
    "- **[2 points]** Set up `seaborn` parameters"
   ]
  },
  {
   "cell_type": "code",
   "execution_count": 1,
   "metadata": {},
   "outputs": [
    {
     "name": "stdout",
     "output_type": "stream",
     "text": [
      "['.ipynb_checkpoints', 'HPI_AT_BDL_county.xlsx', 'HW1 Firstname Lastname.ipynb', 'HW1 Hubert Wang.ipynb', 'hw_data.pkl', 'usa_00001.csv']\n"
     ]
    }
   ],
   "source": [
    "import pandas as pd\n",
    "import numpy as np\n",
    "import matplotlib.pyplot as plt\n",
    "import seaborn as sns\n",
    "import os\n",
    "\n",
    "os.chdir('C:/Users/hubst/ECON_490/Homework 1')\n",
    "print(os.listdir())\n",
    "\n",
    "sns.set(rc = {'axes.titlesize': 24,\n",
    "             'axes.labelsize': 15,\n",
    "             'xtick.labelsize': 10,\n",
    "             'ytick.labelsize': 10,\n",
    "             'figure.figsize': (10, 5)})"
   ]
  },
  {
   "cell_type": "markdown",
   "metadata": {},
   "source": [
    "*******\n",
    "# ACS\n",
    "[TOP](#Homework-1---Yeehaw!-Data-Wrangling!)\n",
    "\n",
    "\n",
    "## [15 Points] Prep\n",
    "- **[1 point]** Load in the data as an object named `acs`"
   ]
  },
  {
   "cell_type": "code",
   "execution_count": 2,
   "metadata": {},
   "outputs": [],
   "source": [
    "acs = pd.read_csv('usa_00001.csv')"
   ]
  },
  {
   "cell_type": "markdown",
   "metadata": {},
   "source": [
    "- **[2 point]** Holding down shift is annoying. Make all of the variables lowercase."
   ]
  },
  {
   "cell_type": "code",
   "execution_count": 3,
   "metadata": {},
   "outputs": [],
   "source": [
    "acs = acs.rename(columns = str.lower)"
   ]
  },
  {
   "cell_type": "code",
   "execution_count": 4,
   "metadata": {},
   "outputs": [
    {
     "name": "stdout",
     "output_type": "stream",
     "text": [
      "478\n",
      "2351\n"
     ]
    }
   ],
   "source": [
    "acs['county'] = acs.statefip*1000 + acs.countyfip\n",
    "print(len(acs['county'].unique()))\n",
    "acs['puma_code'] = acs.statefip*100000 + acs.puma\n",
    "print(len(acs['puma_code'].unique()))"
   ]
  },
  {
   "cell_type": "markdown",
   "metadata": {},
   "source": [
    "Filter the data set such that:\n",
    "* **[2 points]** individuals are not in group quarters\n",
    "* **[2 points]** individuals are working age $\\in [16, 65)$\n",
    "* **[2 points]** there are no military or unemployed with no worth experience in the last five years occupations\n",
    "* **[2 points]** there are no N/A, military or last worked 1984 or earlier industries\n",
    "* **[2 points]** there are no N/A education values (*hint: EDUCD*)"
   ]
  },
  {
   "cell_type": "code",
   "execution_count": 5,
   "metadata": {},
   "outputs": [],
   "source": [
    "# not in group quarters\n",
    "\n",
    "acs = acs[acs['gq'] != 3]\n",
    "acs = acs[acs['gq'] != 4]\n",
    "acs = acs[acs['gq'] != 5]\n",
    "\n",
    "# working age\n",
    "\n",
    "acs = acs[acs['age'] >= 16]\n",
    "acs = acs[acs['age'] < 65]\n",
    "\n",
    "# no military occ\n",
    "\n",
    "acs = acs[acs['occ2010'] != 9800]\n",
    "acs = acs[acs['occ2010'] != 9810]\n",
    "acs = acs[acs['occ2010'] != 9820]\n",
    "acs = acs[acs['occ2010'] != 9830]\n",
    "\n",
    "# no unemployed occ\n",
    "\n",
    "acs = acs[acs['occ2010'] != 9920]\n",
    "\n",
    "# no n/a ind\n",
    "\n",
    "acs = acs[acs['ind1990'] != 0]\n",
    "\n",
    "# no military ind\n",
    "\n",
    "acs = acs[acs['ind1990'] != 940]\n",
    "acs = acs[acs['ind1990'] != 941]\n",
    "acs = acs[acs['ind1990'] != 942]\n",
    "acs = acs[acs['ind1990'] != 950]\n",
    "acs = acs[acs['ind1990'] != 951]\n",
    "acs = acs[acs['ind1990'] != 952]\n",
    "acs = acs[acs['ind1990'] != 960]\n",
    "\n",
    "# no last worked 1984 ind\n",
    "\n",
    "acs = acs[acs['ind1990'] != 992]\n",
    "\n",
    "# no n/a educ\n",
    "\n",
    "acs = acs[acs['educd'] != 0]\n",
    "acs = acs[acs['educd'] != 1]\n",
    "\n",
    "# no education\n",
    "\n",
    "acs = acs[acs['educd'] != 2]\n",
    "\n",
    "# missing values educ\n",
    "\n",
    "acs = acs[acs['educd'] != 999]"
   ]
  },
  {
   "cell_type": "markdown",
   "metadata": {},
   "source": [
    "* **[2 points]** drop the `gq` column"
   ]
  },
  {
   "cell_type": "code",
   "execution_count": 6,
   "metadata": {},
   "outputs": [],
   "source": [
    "acs = acs.drop(columns = 'gq')"
   ]
  },
  {
   "cell_type": "markdown",
   "metadata": {},
   "source": [
    "***\n",
    "## [5 Points] Creating Keys\n",
    "[TOP](#Homework-1---Yeehaw!-Data-Wrangling!)\n",
    "\n",
    "We need to create geographic and individual keys that will be used for linking.\n",
    "Firstly, create the geographic keys:\n",
    "* **[1 point]** `county` - county codes\n",
    "* **[1 point]** `puma_code` - public use micro area code\n",
    "\n",
    "*Hint: counties are fully identified by a 5 digit code. The first two are the state FIPS and the last three are the county FIPS. puma codes are a 7 digit code like counties. Think of a way using middle school level math to create these codes.*\n",
    "\n",
    "*For example: Champaign county, IL and Cherokee county, AL both have county FIPS of 019, but IL has state FIPS of 17 and AL has state FIPS 1. This makes Champaign 17019 and Cherokee 1019*"
   ]
  },
  {
   "cell_type": "code",
   "execution_count": 7,
   "metadata": {},
   "outputs": [],
   "source": [
    "acs['county'] = acs.statefip*1000 + acs.countyfip\n",
    "\n",
    "acs['puma_code'] = acs.statefip*100000 + acs.puma"
   ]
  },
  {
   "cell_type": "code",
   "execution_count": 8,
   "metadata": {},
   "outputs": [
    {
     "data": {
      "text/plain": [
       "478"
      ]
     },
     "execution_count": 8,
     "metadata": {},
     "output_type": "execute_result"
    }
   ],
   "source": [
    "acs['county'] = acs.statefip*1000 + acs.countyfip\n",
    "len(acs['county'].unique())"
   ]
  },
  {
   "cell_type": "markdown",
   "metadata": {},
   "source": [
    "Individuals on the other hand are identified by their household `serial` number combined with the person number (`pernum`) in the household such that the last two digits are the person number. \n",
    "- **[1 point]** Using the same methodology as above, create a variable `id`"
   ]
  },
  {
   "cell_type": "code",
   "execution_count": 9,
   "metadata": {},
   "outputs": [],
   "source": [
    "acs['id'] = acs.serial*100 + acs.pernum"
   ]
  },
  {
   "cell_type": "markdown",
   "metadata": {},
   "source": [
    "Now\n",
    "* **[2 points]** drop columns `countyfip`, `statefip`, `puma`, `pernum`, and `serial` in place"
   ]
  },
  {
   "cell_type": "code",
   "execution_count": 10,
   "metadata": {},
   "outputs": [],
   "source": [
    "acs.drop(columns = ['countyfip', 'statefip', 'puma', 'pernum', 'serial'], inplace = True)"
   ]
  },
  {
   "cell_type": "markdown",
   "metadata": {},
   "source": [
    "******\n",
    "## [15 Points] Grouped Features\n",
    "[TOP](#Homework-1---Yeehaw!-Data-Wrangling!)\n",
    "\n",
    "Next we will create the following grouped features: (1) unemployment rate grouped by PUMA, (2) percent with a bachelor's degree group by occupation, and (3) average wage grouped by industry. It should take three lines each (fewer if you are a better coder than I!):\n",
    "1. create an empty temporary data frame\n",
    "2. create a variable in the temporary data frame from a lambda function applied to the acs grouped by the group variable\n",
    "3. join the temporary data frame to the ACS data by the group variable\n",
    "\n",
    "Create the variables as described above\n",
    "- **[5 points]** `puma_urate`\n",
    "- **[5 points]** `occ_ba`\n",
    "- **[5 points]** `ind_wage`\n",
    "\n",
    "*Hints: Recall that the unemployment rate is given by*\n",
    "$$unemployment\\text{ }rate = 100 \\frac{\\sum_{i=1}^N I\\{unemployed_i\\}} {\\sum_{i=1}^N I\\{labor\\text{}force_i\\}}$$\n",
    "*where $I\\{unemployed_i\\} = 1$ indicates being unemployed and $I\\{labor\\text{}force_i\\} = 1$ indicates being in the labor force.*\n",
    "\n",
    "*BECAUSE WE HAVE SURVEY DATA, WE NEED INDIVIDUAL WEIGHTS TO CALCULATE AGGREGATE STATISTICS. That means we need to multiply each element in the fraction by* `perwt` *in our code. This also needs to be done in the other two variables.*\n",
    "\n",
    "*Use logic statements*"
   ]
  },
  {
   "cell_type": "code",
   "execution_count": 11,
   "metadata": {},
   "outputs": [],
   "source": [
    "# puma_urate\n",
    "\n",
    "urate = pd.DataFrame()\n",
    "urate['puma_urate'] = acs['empstat'].groupby(acs['puma_code']).apply(lambda x: sum((x == 2)*acs['perwt'].loc[x.index])/(sum(((x == 1) | (x == 2))*acs['perwt'].loc[x.index])))*100\n",
    "acs = acs.join(urate, on = 'puma_code')"
   ]
  },
  {
   "cell_type": "code",
   "execution_count": 12,
   "metadata": {},
   "outputs": [],
   "source": [
    "# occ_ba\n",
    "\n",
    "bach = pd.DataFrame()\n",
    "bach['occ_ba'] = acs.groupby(acs['occ2010']).apply(lambda y: sum(((y['educd'] == 101) | (y['educd'] == 114) | (y['educd'] == 115) | (y['educd'] == 116))*y['perwt'].loc[y.index])/\n",
    "                                                   sum(y['perwt']))*100\n",
    "acs = acs.join(bach, on = 'occ2010')"
   ]
  },
  {
   "cell_type": "code",
   "execution_count": 13,
   "metadata": {},
   "outputs": [],
   "source": [
    "# ind_wage\n",
    "\n",
    "wage = pd.DataFrame()\n",
    "wage['ind_wage'] = acs.groupby(acs['ind1990']).apply(lambda z: sum(z['incwage']*z['perwt'])/sum(z['perwt']))\n",
    "acs = acs.join(wage, on = 'ind1990')"
   ]
  },
  {
   "cell_type": "markdown",
   "metadata": {},
   "source": [
    "****\n",
    "## [10 Points] Individual Features\n",
    "[TOP](#Homework-1---Yeehaw!-Data-Wrangling!)\n",
    "\n",
    "Filter you data set such that\n",
    "- **[1 point]** all individuals are employed"
   ]
  },
  {
   "cell_type": "code",
   "execution_count": 14,
   "metadata": {},
   "outputs": [],
   "source": [
    "acs = acs[acs['empstat'] == 1]"
   ]
  },
  {
   "cell_type": "markdown",
   "metadata": {},
   "source": [
    "Next, create the `experience` variable.\n",
    "To do so, map a dictionary of all detailed education codes to years of schooling `yos`. For clarification: \n",
    "* Define one yos to start at 1st grade (set kindergarten and nursery school/preschool to zero).\n",
    "* Define from 12th grade, no diploma to Some college, but less than one year as 12 yos\n",
    "* Define bachelor's degree as 16 yos\n",
    "* Define master's degree as 18 yos\n",
    "* Define professional/doctoral degree as 20 yos\n",
    "\n",
    "One you have mapped the dictionary to the detailed education variable, create the experience variable:\n",
    "* **[5 points]** `experience` = `age` - `yos` - 6"
   ]
  },
  {
   "cell_type": "code",
   "execution_count": 15,
   "metadata": {},
   "outputs": [],
   "source": [
    "yos = {11 : 0, 12 : 0, 14 : 1, 15 : 2, 16 : 3, 17 : 4, 22 : 5, 23 : 6, 25 : 7, \n",
    "       26 : 8, 30 : 9, 40 : 10, 50 : 11, 61 : 12, 63 : 12, 64 : 12, 65 : 12, \n",
    "       71 : 13, 81 : 14, 101 : 16, 114 : 18, 115 : 20, 116 : 20}\n",
    "\n",
    "acs['experience'] = acs.age - acs['educd'].map(yos) - 6"
   ]
  },
  {
   "cell_type": "markdown",
   "metadata": {},
   "source": [
    "Finally, create the dummy features for:\n",
    "\n",
    "* **[1 point]** `female`\n",
    "* **[1 point]** `any_kids`\n",
    "* **[1 point]** `black`\n",
    "* **[1 point]** `hispanic`"
   ]
  },
  {
   "cell_type": "code",
   "execution_count": 16,
   "metadata": {},
   "outputs": [],
   "source": [
    "acs['female'] = (acs.sex == 2)*1\n",
    "\n",
    "acs['any_kids'] = (acs.nchild != 0)*1\n",
    "\n",
    "acs['black'] = (acs.race == 2 )*1\n",
    "\n",
    "acs['hispanic'] = (acs.hispan != 0)*1"
   ]
  },
  {
   "cell_type": "markdown",
   "metadata": {},
   "source": [
    "*******\n",
    "## [5 Points] Labels\n",
    "[TOP](#Homework-1---Yeehaw!-Data-Wrangling!)\n",
    "\n",
    "Now to create our three different labels:\n",
    "1. **[1 points]** `full_time` - works weakly greater than 35 hours\n",
    "    - *hint: logic statement made integer*\n",
    "2. **[2 points]** `degree` with values `hs or less`, `some college`, and `ba or more`\n",
    "    - *hint: use a nested* `np.where()`\n",
    "3. **[0 points]** `incwage`\n",
    "    - *hint: this hint is intentionally left blank, but by leaving a message it is now no longer blank*"
   ]
  },
  {
   "cell_type": "code",
   "execution_count": 17,
   "metadata": {},
   "outputs": [],
   "source": [
    "acs['full_time'] = (acs.uhrswork > 35)*1\n",
    "\n",
    "acs['degree'] = np.where(acs['educd'] <= 64, 'hs or less',\n",
    "                np.where(acs['educd'] <= 100, 'some college', 'ba or more'))"
   ]
  },
  {
   "cell_type": "code",
   "execution_count": 18,
   "metadata": {},
   "outputs": [],
   "source": [
    "acs['incwage'] = acs['incwage'].replace('', 0)"
   ]
  },
  {
   "cell_type": "markdown",
   "metadata": {},
   "source": [
    "Here are the variables we need: `id`, `county`, `occ2010`, `ind1990`, `incwage`, `full_time`, `degree`, `density`, `experience`, `puma_urate`, `occ_ba`, `ind_wage`, `female`, `any_kids`, `black`, `hispanic`\n",
    "\n",
    "* **[1 point]** Trim the `acs` data frame by explicitly selecting the variables we need\n",
    "* **[1 point]** print the shape of `acs`"
   ]
  },
  {
   "cell_type": "code",
   "execution_count": 19,
   "metadata": {},
   "outputs": [],
   "source": [
    "acs = acs[['id', 'county', 'occ2010', 'ind1990', 'incwage', 'full_time', 'degree',\n",
    "           'density', 'experience', 'puma_urate', 'occ_ba', 'ind_wage', 'female',\n",
    "           'any_kids', 'black', 'hispanic']]"
   ]
  },
  {
   "cell_type": "markdown",
   "metadata": {},
   "source": [
    "*** \n",
    "# [10 Points] FHFA\n",
    "[TOP](#Homework-1---Yeehaw!-Data-Wrangling!)\n",
    "\n",
    "* **[2 points]** Load in the HPI data as `hpi` taking into account the preamble.\n",
    "\n",
    "When you get a message that says you need the package xlrd and then you are like okay, I'll go install that and then you run the code again and then you get the message the xlsx file not support and you are like w(hy)tf not?! specify the option `engine = 'openpyxl'` inside of the pandas read function."
   ]
  },
  {
   "cell_type": "code",
   "execution_count": 20,
   "metadata": {},
   "outputs": [],
   "source": [
    "hpi = pd.read_excel('HPI_AT_BDL_county.xlsx', engine = 'openpyxl', skiprows = 6)"
   ]
  },
  {
   "cell_type": "markdown",
   "metadata": {},
   "source": [
    "* **[2 points]** Make the variables lower case"
   ]
  },
  {
   "cell_type": "code",
   "execution_count": 21,
   "metadata": {},
   "outputs": [],
   "source": [
    "hpi = hpi.rename(columns = str.lower)"
   ]
  },
  {
   "cell_type": "markdown",
   "metadata": {},
   "source": [
    "In one line\n",
    "* **[4 points]** filter to only have 2016 data, select the FIPS code and the 2000-based hpi, and rename the selected columns with a dictionary to be `county` and `hpi` respectively"
   ]
  },
  {
   "cell_type": "code",
   "execution_count": 22,
   "metadata": {},
   "outputs": [],
   "source": [
    "hpi = hpi[hpi['year'] == 2016].filter(items = ['fips code', 'hpi with 2000 base']).rename(columns = {'fips code': 'county',\n",
    "                                                   'hpi with 2000 base': 'hpi'})"
   ]
  },
  {
   "cell_type": "markdown",
   "metadata": {},
   "source": [
    "In one line\n",
    "* **[2 points]** create the data frame `df` using an inner merge with `acs` and `hpi` on the appropriate key variable and then set the index to `id`"
   ]
  },
  {
   "cell_type": "code",
   "execution_count": 23,
   "metadata": {},
   "outputs": [],
   "source": [
    "df = acs.set_index('county').join(hpi.set_index('county'), how = 'inner').reset_index().set_index('id')"
   ]
  },
  {
   "cell_type": "markdown",
   "metadata": {},
   "source": [
    "***** \n",
    "# [25 Points] Transformations\n",
    "[TOP](#Homework-1---Yeehaw!-Data-Wrangling!)\n",
    "\n",
    "By this point, you should have **wrangled** the data set for *all* subsequent homework assignments.\n",
    "Now it is time to clean it and deal with any necessary (logarithm) transformations.\n",
    "\n",
    "* **[1 point]** print the info from `df`"
   ]
  },
  {
   "cell_type": "code",
   "execution_count": 24,
   "metadata": {},
   "outputs": [
    {
     "name": "stdout",
     "output_type": "stream",
     "text": [
      "<class 'pandas.core.frame.DataFrame'>\n",
      "Int64Index: 822787 entries, 14401 to 137759302\n",
      "Data columns (total 16 columns):\n",
      " #   Column      Non-Null Count   Dtype  \n",
      "---  ------      --------------   -----  \n",
      " 0   county      822787 non-null  int64  \n",
      " 1   occ2010     822787 non-null  int64  \n",
      " 2   ind1990     822787 non-null  int64  \n",
      " 3   incwage     822787 non-null  int64  \n",
      " 4   full_time   822787 non-null  int32  \n",
      " 5   degree      822787 non-null  object \n",
      " 6   density     822787 non-null  float64\n",
      " 7   experience  822787 non-null  int64  \n",
      " 8   puma_urate  822787 non-null  float64\n",
      " 9   occ_ba      822787 non-null  float64\n",
      " 10  ind_wage    822787 non-null  float64\n",
      " 11  female      822787 non-null  int32  \n",
      " 12  any_kids    822787 non-null  int32  \n",
      " 13  black       822787 non-null  int32  \n",
      " 14  hispanic    822787 non-null  int32  \n",
      " 15  hpi         822787 non-null  object \n",
      "dtypes: float64(4), int32(5), int64(5), object(2)\n",
      "memory usage: 91.0+ MB\n"
     ]
    }
   ],
   "source": [
    "df.info()"
   ]
  },
  {
   "cell_type": "markdown",
   "metadata": {},
   "source": [
    "One variable should not be string. \n",
    "* **[1 point]** identify which variable should not be a string and convert it as a float type\n",
    "* **[4 points]** read the error and drop the troublesome value(s), then convert the variable as a float type\n",
    "* **[2 point]** print the info again to show you have handled it"
   ]
  },
  {
   "cell_type": "code",
   "execution_count": 25,
   "metadata": {},
   "outputs": [
    {
     "name": "stdout",
     "output_type": "stream",
     "text": [
      "<class 'pandas.core.frame.DataFrame'>\n",
      "Int64Index: 818234 entries, 14401 to 137759302\n",
      "Data columns (total 16 columns):\n",
      " #   Column      Non-Null Count   Dtype  \n",
      "---  ------      --------------   -----  \n",
      " 0   county      818234 non-null  int64  \n",
      " 1   occ2010     818234 non-null  int64  \n",
      " 2   ind1990     818234 non-null  int64  \n",
      " 3   incwage     818234 non-null  int64  \n",
      " 4   full_time   818234 non-null  int32  \n",
      " 5   degree      818234 non-null  object \n",
      " 6   density     818234 non-null  float64\n",
      " 7   experience  818234 non-null  int64  \n",
      " 8   puma_urate  818234 non-null  float64\n",
      " 9   occ_ba      818234 non-null  float64\n",
      " 10  ind_wage    818234 non-null  float64\n",
      " 11  female      818234 non-null  int32  \n",
      " 12  any_kids    818234 non-null  int32  \n",
      " 13  black       818234 non-null  int32  \n",
      " 14  hispanic    818234 non-null  int32  \n",
      " 15  hpi         818234 non-null  float64\n",
      "dtypes: float64(5), int32(5), int64(5), object(1)\n",
      "memory usage: 90.5+ MB\n"
     ]
    }
   ],
   "source": [
    "# code that shows error\n",
    "# df['hpi'] = df['hpi'].astype(float)\n",
    "\n",
    "df = df[df['hpi'] != '.']\n",
    "df['hpi'] = df['hpi'].astype(float)\n",
    "\n",
    "df.info()"
   ]
  },
  {
   "cell_type": "markdown",
   "metadata": {},
   "source": [
    "***\n",
    "Here is a helping hand. \n",
    "Only two variables need a log transformation.\n",
    "\n",
    "For the two identified variables\n",
    "* **[10 points, 1 per item over 2 figures]** produce a figure with \n",
    "    - two side-by-side histograms where the left is the raw data and the left is the data on a log axis\n",
    "    - with a tight layout\n",
    "    - with appropriate titles and x-axis labels\n",
    "    - adjust the number of bins (say 10)\n",
    "    - *hint: what is log(0)?*\n",
    "* **[2 points]** drop any observations with troublesome values\n",
    "* **[4 points]** create a new variable with the prefix `l_` and drop the original \n",
    "    - `julian` $\\rightarrow$ `l_julian`\n"
   ]
  },
  {
   "cell_type": "code",
   "execution_count": 26,
   "metadata": {},
   "outputs": [],
   "source": [
    "# Drop\n",
    "\n",
    "df = df[df['density'] != 0]\n",
    "df = df[df['incwage'] != 0]"
   ]
  },
  {
   "cell_type": "code",
   "execution_count": 27,
   "metadata": {},
   "outputs": [
    {
     "data": {
      "image/png": "[encoded data removed]",
      "text/plain": [
       "<Figure size 720x360 with 2 Axes>"
      ]
     },
     "metadata": {},
     "output_type": "display_data"
    }
   ],
   "source": [
    "# Figure 1\n",
    "\n",
    "plt.subplot(1, 2, 1)\n",
    "sns.histplot(data = df, x = 'density', bins = 10)\n",
    "plt.title('PUMA Population Density')\n",
    "plt.ylabel('Number of Areas')\n",
    "plt.xlabel('Population Density (persons per square mile)')\n",
    "\n",
    "plt.subplot(1, 2, 2)\n",
    "sns.histplot(data = df, x = 'density', log_scale = True, bins = 10)\n",
    "plt.title('log PUMA Population Density')\n",
    "plt.ylabel('Number of Areas')\n",
    "plt.xlabel('Population Density (persons per square mile)')\n",
    "\n",
    "plt.tight_layout()"
   ]
  },
  {
   "cell_type": "code",
   "execution_count": 28,
   "metadata": {},
   "outputs": [],
   "source": [
    "# Variable 1\n",
    "\n",
    "df['l_density'] = np.log10(df['density'])\n",
    "df = df.drop(columns = 'density')"
   ]
  },
  {
   "cell_type": "code",
   "execution_count": 29,
   "metadata": {},
   "outputs": [
    {
     "data": {
      "image/png": "[encoded data removed]",
      "text/plain": [
       "<Figure size 720x360 with 2 Axes>"
      ]
     },
     "metadata": {},
     "output_type": "display_data"
    }
   ],
   "source": [
    "# Figure 2\n",
    "\n",
    "plt.subplot(1, 2, 1)\n",
    "sns.histplot(data = df, x = 'incwage', bins = 10)\n",
    "plt.title('Individual Income')\n",
    "plt.ylabel('Number of Individuals')\n",
    "plt.xlabel('Income')\n",
    "\n",
    "plt.subplot(1, 2, 2)\n",
    "sns.histplot(data = df, x = 'incwage', log_scale = True, bins = 10)\n",
    "plt.title('log Individual Income')\n",
    "plt.ylabel('Number of Individuals')\n",
    "plt.xlabel('Income')\n",
    "\n",
    "plt.tight_layout()"
   ]
  },
  {
   "cell_type": "code",
   "execution_count": 30,
   "metadata": {},
   "outputs": [],
   "source": [
    "# Variable 2\n",
    "\n",
    "df['l_incwage'] = np.log10(df['incwage'])\n",
    "df = df.drop(columns = 'incwage')"
   ]
  },
  {
   "cell_type": "markdown",
   "metadata": {},
   "source": [
    "* **[1 point]** reorder the variables matching the `acs` selection above with the transformed variables\n",
    "    - Order: keys, labels, continuous features, discrete features\n",
    "    - `hpi` wink, wink"
   ]
  },
  {
   "cell_type": "code",
   "execution_count": 31,
   "metadata": {},
   "outputs": [],
   "source": [
    "df = df[['county', 'full_time', 'degree', 'l_incwage', 'puma_urate', 'occ_ba', 'ind_wage', 'hpi', 'l_density', \n",
    "         'experience', 'any_kids', 'female', 'black', 'hispanic', 'occ2010', 'ind1990']]"
   ]
  },
  {
   "cell_type": "markdown",
   "metadata": {},
   "source": [
    "*********\n",
    "# [5 Points] Pickling\n",
    "[TOP](#Homework-1---Yeehaw!-Data-Wrangling!)\n",
    "\n",
    "* **[2 point]** First, print the head of your data frame."
   ]
  },
  {
   "cell_type": "code",
   "execution_count": 32,
   "metadata": {},
   "outputs": [
    {
     "data": {
      "text/html": [
       "<div>\n",
       "<style scoped>\n",
       "    .dataframe tbody tr th:only-of-type {\n",
       "        vertical-align: middle;\n",
       "    }\n",
       "\n",
       "    .dataframe tbody tr th {\n",
       "        vertical-align: top;\n",
       "    }\n",
       "\n",
       "    .dataframe thead th {\n",
       "        text-align: right;\n",
       "    }\n",
       "</style>\n",
       "<table border=\"1\" class=\"dataframe\">\n",
       "  <thead>\n",
       "    <tr style=\"text-align: right;\">\n",
       "      <th></th>\n",
       "      <th>county</th>\n",
       "      <th>full_time</th>\n",
       "      <th>degree</th>\n",
       "      <th>l_incwage</th>\n",
       "      <th>puma_urate</th>\n",
       "      <th>occ_ba</th>\n",
       "      <th>ind_wage</th>\n",
       "      <th>hpi</th>\n",
       "      <th>l_density</th>\n",
       "      <th>experience</th>\n",
       "      <th>any_kids</th>\n",
       "      <th>female</th>\n",
       "      <th>black</th>\n",
       "      <th>hispanic</th>\n",
       "      <th>occ2010</th>\n",
       "      <th>ind1990</th>\n",
       "    </tr>\n",
       "    <tr>\n",
       "      <th>id</th>\n",
       "      <th></th>\n",
       "      <th></th>\n",
       "      <th></th>\n",
       "      <th></th>\n",
       "      <th></th>\n",
       "      <th></th>\n",
       "      <th></th>\n",
       "      <th></th>\n",
       "      <th></th>\n",
       "      <th></th>\n",
       "      <th></th>\n",
       "      <th></th>\n",
       "      <th></th>\n",
       "      <th></th>\n",
       "      <th></th>\n",
       "      <th></th>\n",
       "    </tr>\n",
       "  </thead>\n",
       "  <tbody>\n",
       "    <tr>\n",
       "      <th>14401</th>\n",
       "      <td>1003</td>\n",
       "      <td>1</td>\n",
       "      <td>ba or more</td>\n",
       "      <td>4.330414</td>\n",
       "      <td>2.655123</td>\n",
       "      <td>47.754789</td>\n",
       "      <td>52873.612161</td>\n",
       "      <td>138.88</td>\n",
       "      <td>2.399154</td>\n",
       "      <td>2</td>\n",
       "      <td>0</td>\n",
       "      <td>1</td>\n",
       "      <td>0</td>\n",
       "      <td>0</td>\n",
       "      <td>4850</td>\n",
       "      <td>542</td>\n",
       "    </tr>\n",
       "    <tr>\n",
       "      <th>17301</th>\n",
       "      <td>1003</td>\n",
       "      <td>1</td>\n",
       "      <td>some college</td>\n",
       "      <td>4.845098</td>\n",
       "      <td>2.655123</td>\n",
       "      <td>15.251667</td>\n",
       "      <td>65637.668547</td>\n",
       "      <td>138.88</td>\n",
       "      <td>2.399154</td>\n",
       "      <td>29</td>\n",
       "      <td>1</td>\n",
       "      <td>0</td>\n",
       "      <td>0</td>\n",
       "      <td>0</td>\n",
       "      <td>7020</td>\n",
       "      <td>441</td>\n",
       "    </tr>\n",
       "    <tr>\n",
       "      <th>18501</th>\n",
       "      <td>1003</td>\n",
       "      <td>1</td>\n",
       "      <td>ba or more</td>\n",
       "      <td>4.892095</td>\n",
       "      <td>2.655123</td>\n",
       "      <td>24.793268</td>\n",
       "      <td>16368.306561</td>\n",
       "      <td>138.88</td>\n",
       "      <td>2.399154</td>\n",
       "      <td>31</td>\n",
       "      <td>0</td>\n",
       "      <td>1</td>\n",
       "      <td>0</td>\n",
       "      <td>0</td>\n",
       "      <td>310</td>\n",
       "      <td>641</td>\n",
       "    </tr>\n",
       "    <tr>\n",
       "      <th>26701</th>\n",
       "      <td>1003</td>\n",
       "      <td>1</td>\n",
       "      <td>hs or less</td>\n",
       "      <td>3.892095</td>\n",
       "      <td>2.655123</td>\n",
       "      <td>40.414456</td>\n",
       "      <td>47867.063406</td>\n",
       "      <td>138.88</td>\n",
       "      <td>2.399154</td>\n",
       "      <td>36</td>\n",
       "      <td>1</td>\n",
       "      <td>0</td>\n",
       "      <td>0</td>\n",
       "      <td>0</td>\n",
       "      <td>3710</td>\n",
       "      <td>901</td>\n",
       "    </tr>\n",
       "    <tr>\n",
       "      <th>37101</th>\n",
       "      <td>1003</td>\n",
       "      <td>0</td>\n",
       "      <td>some college</td>\n",
       "      <td>4.380211</td>\n",
       "      <td>2.655123</td>\n",
       "      <td>21.519082</td>\n",
       "      <td>40205.435206</td>\n",
       "      <td>138.88</td>\n",
       "      <td>2.399154</td>\n",
       "      <td>43</td>\n",
       "      <td>0</td>\n",
       "      <td>1</td>\n",
       "      <td>0</td>\n",
       "      <td>0</td>\n",
       "      <td>3410</td>\n",
       "      <td>642</td>\n",
       "    </tr>\n",
       "  </tbody>\n",
       "</table>\n",
       "</div>"
      ],
      "text/plain": [
       "       county  full_time        degree  l_incwage  puma_urate     occ_ba  \\\n",
       "id                                                                         \n",
       "14401    1003          1    ba or more   4.330414    2.655123  47.754789   \n",
       "17301    1003          1  some college   4.845098    2.655123  15.251667   \n",
       "18501    1003          1    ba or more   4.892095    2.655123  24.793268   \n",
       "26701    1003          1    hs or less   3.892095    2.655123  40.414456   \n",
       "37101    1003          0  some college   4.380211    2.655123  21.519082   \n",
       "\n",
       "           ind_wage     hpi  l_density  experience  any_kids  female  black  \\\n",
       "id                                                                            \n",
       "14401  52873.612161  138.88   2.399154           2         0       1      0   \n",
       "17301  65637.668547  138.88   2.399154          29         1       0      0   \n",
       "18501  16368.306561  138.88   2.399154          31         0       1      0   \n",
       "26701  47867.063406  138.88   2.399154          36         1       0      0   \n",
       "37101  40205.435206  138.88   2.399154          43         0       1      0   \n",
       "\n",
       "       hispanic  occ2010  ind1990  \n",
       "id                                 \n",
       "14401         0     4850      542  \n",
       "17301         0     7020      441  \n",
       "18501         0      310      641  \n",
       "26701         0     3710      901  \n",
       "37101         0     3410      642  "
      ]
     },
     "execution_count": 32,
     "metadata": {},
     "output_type": "execute_result"
    }
   ],
   "source": [
    "df.head()"
   ]
  },
  {
   "cell_type": "markdown",
   "metadata": {},
   "source": [
    "* **[3 points]** Save the final data frame to a pickle with a fancy name like \"hw_data.pkl\""
   ]
  },
  {
   "cell_type": "code",
   "execution_count": 33,
   "metadata": {},
   "outputs": [],
   "source": [
    "df.to_pickle('hw_data.pkl')"
   ]
  }
 ],
 "metadata": {
  "kernelspec": {
   "display_name": "Python 3",
   "language": "python",
   "name": "python3"
  },
  "language_info": {
   "codemirror_mode": {
    "name": "ipython",
    "version": 3
   },
   "file_extension": ".py",
   "mimetype": "text/x-python",
   "name": "python",
   "nbconvert_exporter": "python",
   "pygments_lexer": "ipython3",
   "version": "3.8.5"
  }
 },
 "nbformat": 4,
 "nbformat_minor": 4
}
