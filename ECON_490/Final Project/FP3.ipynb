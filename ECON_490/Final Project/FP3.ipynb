{
 "cells": [
  {
   "cell_type": "markdown",
   "metadata": {},
   "source": [
    "*******\n",
    "# Inference"
   ]
  },
  {
   "cell_type": "code",
   "execution_count": 1,
   "metadata": {},
   "outputs": [],
   "source": [
    "# import tools\n",
    "import pandas as pd\n",
    "import numpy as np\n",
    "import matplotlib.pyplot as plt\n",
    "import seaborn as sns\n",
    "import os\n",
    "import statsmodels.api as sm\n",
    "from sklearn.model_selection import GridSearchCV, train_test_split\n",
    "import sklearn.linear_model as lm\n",
    "from sklearn.preprocessing import StandardScaler\n",
    "from sklearn.svm import SVR\n",
    "from sklearn.metrics import mean_squared_error\n",
    "from sklearn.ensemble import StackingRegressor\n",
    "import xgboost as xgb\n",
    "from sklearn.ensemble import RandomForestRegressor\n",
    "from sklearn.linear_model import LinearRegression\n",
    "\n",
    "# change directory\n",
    "os.chdir('C:/Users/hubst/ECON_490/Final Project')\n",
    "\n",
    "# increase size of figures\n",
    "sns.set(rc = {'axes.titlesize': 20,\n",
    "              'axes.labelsize': 15,\n",
    "              'xtick.labelsize': 10,\n",
    "              'ytick.labelsize': 10,\n",
    "              'figure.figsize': (10, 5)})"
   ]
  },
  {
   "cell_type": "code",
   "execution_count": 2,
   "metadata": {},
   "outputs": [],
   "source": [
    "df = pd.read_pickle('C:/Users/hubst/ECON_490/Final Project/final_project.pkl')"
   ]
  },
  {
   "cell_type": "code",
   "execution_count": 3,
   "metadata": {},
   "outputs": [],
   "source": [
    "y = df['log Unemployment Rate']\n",
    "x = df.drop(columns = 'log Unemployment Rate')\n",
    "\n",
    "x_train, x_test, y_train, y_test = train_test_split(x, y, train_size = 3/10, random_state = 490)\n",
    "\n",
    "x_train_std = pd.DataFrame(StandardScaler().fit(x_train).transform(x_train), \n",
    "                           columns = x_train.columns, index = x_train.index)\n",
    "x_test_std = pd.DataFrame(StandardScaler().fit(x_test).transform(x_test), \n",
    "                          columns = x_test.columns, index = x_test.index)\n",
    "\n",
    "x_train_std = sm.add_constant(x_train_std)\n",
    "x_test_std = sm.add_constant(x_test_std)\n",
    "x_train = sm.add_constant(x_train)\n",
    "x_test = sm.add_constant(x_test)"
   ]
  },
  {
   "cell_type": "code",
   "execution_count": 4,
   "metadata": {},
   "outputs": [
    {
     "data": {
      "text/plain": [
       "{'alpha': 0.001}"
      ]
     },
     "execution_count": 4,
     "metadata": {},
     "output_type": "execute_result"
    }
   ],
   "source": [
    "param_grid = {'alpha': 10.**np.arange(-10, -1, 1)}\n",
    "\n",
    "cv_enet = lm.ElasticNet(fit_intercept = False, normalize = False,\n",
    "                        random_state = 490)\n",
    "grid_search = GridSearchCV(cv_enet, param_grid, cv = 5,\n",
    "                           scoring = 'neg_root_mean_squared_error',\n",
    "                           n_jobs = 10)\n",
    "grid_search.fit(x_train_std, y_train)\n",
    "best_ols = grid_search.best_params_\n",
    "best_ols"
   ]
  },
  {
   "cell_type": "code",
   "execution_count": 5,
   "metadata": {},
   "outputs": [
    {
     "data": {
      "text/plain": [
       "const                                    0.590848\n",
       "Female Labor Force Participation Rate    0.016863\n",
       "Median Age                               0.000000\n",
       "Average Household Size                   0.032254\n",
       "Median Household Income                 -0.000124\n",
       "Average Rent                             0.015247\n",
       "Average Commute Time                     0.006330\n",
       "Metro Status                             0.000000\n",
       "cube Female                              0.003942\n",
       "log African American                     0.006214\n",
       "log Hispanic                             0.000000\n",
       "log Bachelor's or more                  -0.010293\n",
       "log Agriculture and Mining              -0.024129\n",
       "log Poverty Level                        0.075322\n",
       "log Immigrant                           -0.002630\n",
       "log Manufacturing                       -0.003822\n",
       "dtype: float64"
      ]
     },
     "execution_count": 5,
     "metadata": {},
     "output_type": "execute_result"
    }
   ],
   "source": [
    "lasso_model = sm.OLS(y_train, x_train_std).fit_regularized(alpha = best_ols['alpha'])\n",
    "lasso_model.params"
   ]
  },
  {
   "cell_type": "code",
   "execution_count": 6,
   "metadata": {},
   "outputs": [],
   "source": [
    "x_train_std = x_train_std.drop(columns = ['Median Age', 'Metro Status', 'log Hispanic'])\n",
    "x_test_std = x_test_std.drop(columns = ['Median Age', 'Metro Status', 'log Hispanic'])"
   ]
  },
  {
   "cell_type": "code",
   "execution_count": 7,
   "metadata": {},
   "outputs": [
    {
     "name": "stdout",
     "output_type": "stream",
     "text": [
      "                           Results: Ordinary least squares\n",
      "======================================================================================\n",
      "Model:                    OLS                       Adj. R-squared:         0.404     \n",
      "Dependent Variable:       log Unemployment Rate     AIC:                    -1471.7320\n",
      "Date:                     2021-04-19 20:39          BIC:                    -1408.4078\n",
      "No. Observations:         964                       Log-Likelihood:         748.87    \n",
      "Df Model:                 12                        F-statistic:            55.44     \n",
      "Df Residuals:             951                       Prob (F-statistic):     7.59e-101 \n",
      "R-squared:                0.412                     Scale:                  0.012551  \n",
      "--------------------------------------------------------------------------------------\n",
      "                                       Coef.  Std.Err.    t     P>|t|   [0.025  0.975]\n",
      "--------------------------------------------------------------------------------------\n",
      "const                                  0.5918   0.0036 164.0255 0.0000  0.5848  0.5989\n",
      "Female Labor Force Participation Rate  0.0223   0.0057   3.9133 0.0001  0.0111  0.0334\n",
      "Average Household Size                 0.0341   0.0045   7.5024 0.0000  0.0252  0.0430\n",
      "Median Household Income               -0.0109   0.0116  -0.9422 0.3463 -0.0337  0.0118\n",
      "Average Rent                           0.0242   0.0088   2.7600 0.0059  0.0070  0.0413\n",
      "Average Commute Time                   0.0077   0.0049   1.5824 0.1139 -0.0019  0.0174\n",
      "cube Female                            0.0057   0.0041   1.3939 0.1637 -0.0023  0.0138\n",
      "log African American                   0.0060   0.0044   1.3672 0.1719 -0.0026  0.0146\n",
      "log Bachelor's or more                -0.0142   0.0065  -2.1767 0.0298 -0.0269 -0.0014\n",
      "log Agriculture and Mining            -0.0243   0.0060  -4.0485 0.0001 -0.0361 -0.0125\n",
      "log Poverty Level                      0.0719   0.0083   8.7010 0.0000  0.0557  0.0881\n",
      "log Immigrant                         -0.0065   0.0054  -1.1886 0.2349 -0.0172  0.0042\n",
      "log Manufacturing                     -0.0069   0.0046  -1.5161 0.1298 -0.0159  0.0020\n",
      "--------------------------------------------------------------------------------------\n",
      "Omnibus:                    83.267              Durbin-Watson:                 1.961  \n",
      "Prob(Omnibus):              0.000               Jarque-Bera (JB):              219.366\n",
      "Skew:                       -0.458              Prob(JB):                      0.000  \n",
      "Kurtosis:                   5.150               Condition No.:                 8      \n",
      "======================================================================================\n",
      "\n"
     ]
    }
   ],
   "source": [
    "model = sm.OLS(y_train, x_train_std).fit()\n",
    "print(model.summary2())"
   ]
  },
  {
   "cell_type": "code",
   "execution_count": 8,
   "metadata": {},
   "outputs": [
    {
     "name": "stdout",
     "output_type": "stream",
     "text": [
      "0.08168298933793317\n",
      "0.18004888806896657\n",
      "-0.05441625040245435\n"
     ]
    }
   ],
   "source": [
    "print(10**0.0341 - 1)\n",
    "print(10**0.0719 - 1)\n",
    "print(10**-0.0243 - 1)"
   ]
  },
  {
   "cell_type": "markdown",
   "metadata": {},
   "source": [
    "Average Household Size:\n",
    "\n",
    "A one standard deviation increase in the average household size in a county is associated with an increase in the unemployment rate by 0.081683."
   ]
  },
  {
   "cell_type": "markdown",
   "metadata": {},
   "source": [
    "Log Poverty Level:\n",
    "\n",
    "A one standard deviation increase in the log of (proportion of individuals within a county living at or below the poverty level + 1) is associated with an increase in the unemployment rate by 0.180049."
   ]
  },
  {
   "cell_type": "markdown",
   "metadata": {},
   "source": [
    "Log Agriculture and Mining:\n",
    "\n",
    "A one standard deviation increase in the log of (proportion of adults within a county working in agriculture or mining occupations + 1) is associated with a decrease in the unemployment rate by 0.054416."
   ]
  },
  {
   "cell_type": "markdown",
   "metadata": {},
   "source": [
    "*******\n",
    "# Prediction"
   ]
  },
  {
   "cell_type": "code",
   "execution_count": 9,
   "metadata": {},
   "outputs": [
    {
     "data": {
      "text/plain": [
       "0.11582119920527055"
      ]
     },
     "execution_count": 9,
     "metadata": {},
     "output_type": "execute_result"
    }
   ],
   "source": [
    "rmse_inf = mean_squared_error(model.predict(x_test_std), y_test, squared = False)\n",
    "rmse_inf"
   ]
  },
  {
   "cell_type": "markdown",
   "metadata": {},
   "source": [
    "# SVM"
   ]
  },
  {
   "cell_type": "code",
   "execution_count": 10,
   "metadata": {},
   "outputs": [
    {
     "data": {
      "text/plain": [
       "{'C': 1000.0, 'degree': 1, 'epsilon': 1e-10}"
      ]
     },
     "execution_count": 10,
     "metadata": {},
     "output_type": "execute_result"
    }
   ],
   "source": [
    "param_grid1 = {\n",
    "    'C': 10.**np.arange(2, 4, step = 1),\n",
    "    'degree': [1, 2, 3],\n",
    "    'epsilon': 10.**np.arange(-10, -8, step = 1)\n",
    "}\n",
    "\n",
    "poly_cv = SVR(kernel = 'poly')\n",
    "\n",
    "grid_search1 = GridSearchCV(poly_cv, param_grid1, cv = 5,\n",
    "                           scoring = 'neg_root_mean_squared_error', \n",
    "                            n_jobs = 10).fit(x_train_std, y_train)\n",
    "\n",
    "best_poly = grid_search1.best_params_\n",
    "best_poly"
   ]
  },
  {
   "cell_type": "code",
   "execution_count": 11,
   "metadata": {},
   "outputs": [],
   "source": [
    "svmr_poly = SVR(kernel = 'poly', C = best_poly['C'], epsilon = best_poly['epsilon'],\n",
    "               degree = best_poly['degree']).fit(x_train_std, y_train)"
   ]
  },
  {
   "cell_type": "code",
   "execution_count": 12,
   "metadata": {},
   "outputs": [
    {
     "data": {
      "text/plain": [
       "0.11670821874878633"
      ]
     },
     "execution_count": 12,
     "metadata": {},
     "output_type": "execute_result"
    }
   ],
   "source": [
    "rmse_poly = mean_squared_error(svmr_poly.predict(x_test_std), y_test, squared = False)\n",
    "rmse_poly"
   ]
  },
  {
   "cell_type": "code",
   "execution_count": 13,
   "metadata": {},
   "outputs": [
    {
     "data": {
      "text/plain": [
       "{'C': 1000.0, 'gamma': 0.0001}"
      ]
     },
     "execution_count": 13,
     "metadata": {},
     "output_type": "execute_result"
    }
   ],
   "source": [
    "param_grid = {\n",
    "    'C': 10.**np.arange(3, 5, step = 1), \n",
    "    'gamma': 10.**np.arange(-4, -2, step = 1),\n",
    "}\n",
    "\n",
    "rbf_cv = SVR(kernel = 'rbf')\n",
    "\n",
    "grid_search = GridSearchCV(rbf_cv, param_grid, cv = 5,\n",
    "                           scoring = 'neg_root_mean_squared_error', \n",
    "                           n_jobs = 10).fit(x_train_std, y_train)\n",
    "\n",
    "best_rbf = grid_search.best_params_\n",
    "best_rbf"
   ]
  },
  {
   "cell_type": "code",
   "execution_count": 14,
   "metadata": {},
   "outputs": [],
   "source": [
    "svmr_rbf = SVR(kernel = 'rbf', C = best_rbf['C'],\n",
    "               gamma = best_rbf['gamma']).fit(x_train_std, y_train)"
   ]
  },
  {
   "cell_type": "code",
   "execution_count": 15,
   "metadata": {},
   "outputs": [
    {
     "data": {
      "text/plain": [
       "0.11464457574785258"
      ]
     },
     "execution_count": 15,
     "metadata": {},
     "output_type": "execute_result"
    }
   ],
   "source": [
    "rmse_rbf = mean_squared_error(svmr_rbf.predict(x_test_std), y_test, squared = False)\n",
    "rmse_rbf"
   ]
  },
  {
   "cell_type": "markdown",
   "metadata": {},
   "source": [
    "# XGBoost"
   ]
  },
  {
   "cell_type": "code",
   "execution_count": 16,
   "metadata": {},
   "outputs": [],
   "source": [
    "x_train_train, x_train_test, y_train_train, y_train_test = train_test_split(x_train_std, y_train,\n",
    "                                                                            train_size = 4/5,\n",
    "                                                                            random_state = 490)"
   ]
  },
  {
   "cell_type": "code",
   "execution_count": 17,
   "metadata": {},
   "outputs": [
    {
     "name": "stdout",
     "output_type": "stream",
     "text": [
      "[20:54:56] WARNING: ..\\src\\learner.cc:541: \n",
      "Parameters: { learning } might not be used.\n",
      "\n",
      "  This may not be accurate due to some parameters are only used in language bindings but\n",
      "  passed down to XGBoost core.  Or some parameters are not used but slip through this\n",
      "  verification. Please open an issue if you find above cases.\n",
      "\n",
      "\n",
      "[0]\tvalidation_0-rmse:0.13474\n",
      "[1]\tvalidation_0-rmse:0.12572\n",
      "[2]\tvalidation_0-rmse:0.12172\n",
      "[3]\tvalidation_0-rmse:0.11955\n",
      "[4]\tvalidation_0-rmse:0.11744\n",
      "[5]\tvalidation_0-rmse:0.11667\n",
      "[6]\tvalidation_0-rmse:0.11621\n",
      "[7]\tvalidation_0-rmse:0.11727\n",
      "[8]\tvalidation_0-rmse:0.11630\n",
      "[9]\tvalidation_0-rmse:0.11552\n",
      "[10]\tvalidation_0-rmse:0.11639\n",
      "[11]\tvalidation_0-rmse:0.11770\n",
      "[12]\tvalidation_0-rmse:0.11744\n",
      "[13]\tvalidation_0-rmse:0.11701\n"
     ]
    },
    {
     "data": {
      "text/plain": [
       "XGBRegressor(base_score=0.5, booster='gbtree', colsample_bylevel=1,\n",
       "             colsample_bynode=1, colsample_bytree=1, gamma=0, gpu_id=-1,\n",
       "             importance_type='gain', interaction_constraints='', learning=0.1,\n",
       "             learning_rate=0.300000012, max_delta_step=0, max_depth=2,\n",
       "             min_child_weight=1, missing=nan, monotone_constraints='()',\n",
       "             n_estimators=200, n_jobs=12, num_parallel_tree=1, random_state=490,\n",
       "             reg_alpha=0, reg_lambda=1, scale_pos_weight=1, subsample=1,\n",
       "             tree_method='exact', validate_parameters=1, verbosity=None)"
      ]
     },
     "execution_count": 17,
     "metadata": {},
     "output_type": "execute_result"
    }
   ],
   "source": [
    "reg_xgb = xgb.XGBRegressor(n_estimators = 200,\n",
    "                           max_depth = 2,\n",
    "                           learning = 0.1,\n",
    "                           random_state = 490)\n",
    "\n",
    "reg_xgb.fit(x_train_train, y_train_train,\n",
    "            eval_set = [(x_train_test, y_train_test)],\n",
    "            early_stopping_rounds = 4)"
   ]
  },
  {
   "cell_type": "code",
   "execution_count": 18,
   "metadata": {},
   "outputs": [
    {
     "data": {
      "text/plain": [
       "9"
      ]
     },
     "execution_count": 18,
     "metadata": {},
     "output_type": "execute_result"
    }
   ],
   "source": [
    "best_xgboost = reg_xgb.best_iteration\n",
    "best_xgboost"
   ]
  },
  {
   "cell_type": "code",
   "execution_count": 19,
   "metadata": {},
   "outputs": [
    {
     "name": "stdout",
     "output_type": "stream",
     "text": [
      "[20:54:56] WARNING: ..\\src\\learner.cc:541: \n",
      "Parameters: { learning } might not be used.\n",
      "\n",
      "  This may not be accurate due to some parameters are only used in language bindings but\n",
      "  passed down to XGBoost core.  Or some parameters are not used but slip through this\n",
      "  verification. Please open an issue if you find above cases.\n",
      "\n",
      "\n",
      "[0]\tvalidation_0-rmse:0.13474\n",
      "[1]\tvalidation_0-rmse:0.12572\n",
      "[2]\tvalidation_0-rmse:0.12172\n",
      "[3]\tvalidation_0-rmse:0.11955\n",
      "[4]\tvalidation_0-rmse:0.11744\n",
      "[5]\tvalidation_0-rmse:0.11667\n",
      "[6]\tvalidation_0-rmse:0.11621\n",
      "[7]\tvalidation_0-rmse:0.11727\n",
      "[8]\tvalidation_0-rmse:0.11630\n"
     ]
    },
    {
     "data": {
      "text/plain": [
       "XGBRegressor(base_score=0.5, booster='gbtree', colsample_bylevel=1,\n",
       "             colsample_bynode=1, colsample_bytree=1, gamma=0, gpu_id=-1,\n",
       "             importance_type='gain', interaction_constraints='', learning=0.1,\n",
       "             learning_rate=0.300000012, max_delta_step=0, max_depth=2,\n",
       "             min_child_weight=1, missing=nan, monotone_constraints='()',\n",
       "             n_estimators=9, n_jobs=12, num_parallel_tree=1, random_state=490,\n",
       "             reg_alpha=0, reg_lambda=1, scale_pos_weight=1, subsample=1,\n",
       "             tree_method='exact', validate_parameters=1, verbosity=None)"
      ]
     },
     "execution_count": 19,
     "metadata": {},
     "output_type": "execute_result"
    }
   ],
   "source": [
    "xgboost_refit = xgb.XGBRegressor(n_estimators = best_xgboost,\n",
    "                                 max_depth = 2,\n",
    "                                 learning = 0.1,\n",
    "                                 random_state = 490)\n",
    "\n",
    "xgboost_refit.fit(x_train_train, y_train_train,\n",
    "                  eval_set = [(x_train_test, y_train_test)],\n",
    "                  early_stopping_rounds = 4)"
   ]
  },
  {
   "cell_type": "code",
   "execution_count": 20,
   "metadata": {},
   "outputs": [
    {
     "data": {
      "text/plain": [
       "0.12433332211428724"
      ]
     },
     "execution_count": 20,
     "metadata": {},
     "output_type": "execute_result"
    }
   ],
   "source": [
    "rmse_xgb = mean_squared_error(xgboost_refit.predict(x_test_std), y_test, squared = False)\n",
    "rmse_xgb"
   ]
  },
  {
   "cell_type": "markdown",
   "metadata": {},
   "source": [
    "# Stacking"
   ]
  },
  {
   "cell_type": "code",
   "execution_count": 21,
   "metadata": {},
   "outputs": [
    {
     "name": "stdout",
     "output_type": "stream",
     "text": [
      "[20:54:56] WARNING: ..\\src\\learner.cc:541: \n",
      "Parameters: { learning } might not be used.\n",
      "\n",
      "  This may not be accurate due to some parameters are only used in language bindings but\n",
      "  passed down to XGBoost core.  Or some parameters are not used but slip through this\n",
      "  verification. Please open an issue if you find above cases.\n",
      "\n",
      "\n",
      "[20:54:56] WARNING: ..\\src\\learner.cc:541: \n",
      "Parameters: { learning } might not be used.\n",
      "\n",
      "  This may not be accurate due to some parameters are only used in language bindings but\n",
      "  passed down to XGBoost core.  Or some parameters are not used but slip through this\n",
      "  verification. Please open an issue if you find above cases.\n",
      "\n",
      "\n",
      "[20:54:56] WARNING: ..\\src\\learner.cc:541: \n",
      "Parameters: { learning } might not be used.\n",
      "\n",
      "  This may not be accurate due to some parameters are only used in language bindings but\n",
      "  passed down to XGBoost core.  Or some parameters are not used but slip through this\n",
      "  verification. Please open an issue if you find above cases.\n",
      "\n",
      "\n",
      "[20:54:56] WARNING: ..\\src\\learner.cc:541: \n",
      "Parameters: { learning } might not be used.\n",
      "\n",
      "  This may not be accurate due to some parameters are only used in language bindings but\n",
      "  passed down to XGBoost core.  Or some parameters are not used but slip through this\n",
      "  verification. Please open an issue if you find above cases.\n",
      "\n",
      "\n",
      "[20:54:56] WARNING: ..\\src\\learner.cc:541: \n",
      "Parameters: { learning } might not be used.\n",
      "\n",
      "  This may not be accurate due to some parameters are only used in language bindings but\n",
      "  passed down to XGBoost core.  Or some parameters are not used but slip through this\n",
      "  verification. Please open an issue if you find above cases.\n",
      "\n",
      "\n",
      "[20:54:56] WARNING: ..\\src\\learner.cc:541: \n",
      "Parameters: { learning } might not be used.\n",
      "\n",
      "  This may not be accurate due to some parameters are only used in language bindings but\n",
      "  passed down to XGBoost core.  Or some parameters are not used but slip through this\n",
      "  verification. Please open an issue if you find above cases.\n",
      "\n",
      "\n"
     ]
    },
    {
     "data": {
      "text/plain": [
       "StackingRegressor(cv=5,\n",
       "                  estimators=[('xgb',\n",
       "                               XGBRegressor(base_score=None, booster=None,\n",
       "                                            colsample_bylevel=None,\n",
       "                                            colsample_bynode=None,\n",
       "                                            colsample_bytree=None, gamma=None,\n",
       "                                            gpu_id=None, importance_type='gain',\n",
       "                                            interaction_constraints=None,\n",
       "                                            learning=0.1, learning_rate=None,\n",
       "                                            max_delta_step=None, max_depth=2,\n",
       "                                            min_child_weight=None, missing=nan,\n",
       "                                            monotone_constraints=None,\n",
       "                                            n_estimators=9, n_jobs=None,\n",
       "                                            num_parallel_tree=None,\n",
       "                                            random_state=490, reg_alpha=None,\n",
       "                                            reg_lambda=None,\n",
       "                                            scale_pos_weight=None,\n",
       "                                            subsample=None, tree_method=None,\n",
       "                                            validate_parameters=None,\n",
       "                                            verbosity=None)),\n",
       "                              ('ols', LinearRegression()),\n",
       "                              ('svm', SVR(C=1000.0, gamma=0.0001))],\n",
       "                  final_estimator=RandomForestRegressor(max_depth=2,\n",
       "                                                        max_features='sqrt',\n",
       "                                                        n_estimators=50,\n",
       "                                                        random_state=490))"
      ]
     },
     "execution_count": 21,
     "metadata": {},
     "output_type": "execute_result"
    }
   ],
   "source": [
    "# can't use OLS in stacking so used linearregression insead\n",
    "estimators = [\n",
    "    ('xgb', xgb.XGBRegressor(n_estimators = best_xgboost,\n",
    "                             max_depth = 2,\n",
    "                             learning = 0.1,\n",
    "                             random_state = 490)),\n",
    "    ('ols', LinearRegression()),\n",
    "    ('svm', SVR(kernel = 'rbf', C = best_rbf['C'],\n",
    "     gamma = best_rbf['gamma']))\n",
    "]\n",
    "stack = StackingRegressor(estimators = estimators, \n",
    "                          final_estimator = RandomForestRegressor(n_estimators = 50,\n",
    "                                                                  max_features = 'sqrt',\n",
    "                                                                  max_depth = 2,\n",
    "                                                                  random_state = 490), cv = 5)\n",
    "stack.fit(x_train_std, y_train)"
   ]
  },
  {
   "cell_type": "code",
   "execution_count": 22,
   "metadata": {},
   "outputs": [
    {
     "data": {
      "text/plain": [
       "0.11735549308532334"
      ]
     },
     "execution_count": 22,
     "metadata": {},
     "output_type": "execute_result"
    }
   ],
   "source": [
    "rmse_stack = mean_squared_error(stack.predict(x_test_std), y_test, squared = False)\n",
    "rmse_stack"
   ]
  },
  {
   "cell_type": "markdown",
   "metadata": {},
   "source": [
    "*******\n",
    "# Comparison"
   ]
  },
  {
   "cell_type": "markdown",
   "metadata": {},
   "source": [
    "Model | RMSE\n",
    "------|------\n",
    "OLS\t| 0.115821\n",
    "SVM RBF | 0.114645\n",
    "SVM Poly | 0.116708\n",
    "XGBoost | 0.124333\n",
    "Stacking | 0.117355"
   ]
  },
  {
   "cell_type": "markdown",
   "metadata": {},
   "source": [
    "Flexibility (from most to least flexible):\n",
    "\n",
    "1. Stacking\n",
    "2. XGBoost\n",
    "3. SVM\n",
    "4. OLS\n",
    "\n",
    "Ease of Interpretation (from most interpretable to least interpretable):\n",
    "\n",
    "1. OLS\n",
    "2. SVM\n",
    "3. XGBoost\n",
    "4. Stacking"
   ]
  },
  {
   "cell_type": "markdown",
   "metadata": {},
   "source": [
    "The best performing model was SVM using an RBF kernel."
   ]
  },
  {
   "cell_type": "code",
   "execution_count": null,
   "metadata": {},
   "outputs": [],
   "source": []
  }
 ],
 "metadata": {
  "kernelspec": {
   "display_name": "Python 3",
   "language": "python",
   "name": "python3"
  },
  "language_info": {
   "codemirror_mode": {
    "name": "ipython",
    "version": 3
   },
   "file_extension": ".py",
   "mimetype": "text/x-python",
   "name": "python",
   "nbconvert_exporter": "python",
   "pygments_lexer": "ipython3",
   "version": "3.8.5"
  }
 },
 "nbformat": 4,
 "nbformat_minor": 4
}
