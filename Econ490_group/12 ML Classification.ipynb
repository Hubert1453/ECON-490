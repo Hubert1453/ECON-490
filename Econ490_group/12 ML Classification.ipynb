{
 "cells": [
  {
   "cell_type": "markdown",
   "metadata": {},
   "source": [
    "## ML Classification\n",
    "\n",
    "#### Table of Contents\n",
    "\n",
    "* [Preliminaries](#Perliminaries)\n",
    "* [Naive Bayes](#Naive-Bayes)\n",
    "* [KNN Classification](#KNN-Classification)\n",
    "* [KNN Regression](#KNN-Regression)\n",
    "\n",
    "***\n",
    "# Preliminaries\n",
    "[TOP](#ML-Classification)\n",
    "\n",
    "We are going to set up our data to predict `urate_bin`. \n",
    "After showing how to use KNN for classification, we will take a quick tangent for regression."
   ]
  },
  {
   "cell_type": "code",
   "execution_count": 1,
   "metadata": {},
   "outputs": [],
   "source": [
    "import pandas as pd\n",
    "\n",
    "import sklearn.naive_bayes as nb\n",
    "from sklearn.neighbors import KNeighborsClassifier\n",
    "from sklearn.neighbors import KNeighborsRegressor\n",
    "\n",
    "from sklearn.model_selection import train_test_split\n",
    "from sklearn.metrics import plot_confusion_matrix, mean_squared_error\n",
    "from sklearn.preprocessing import LabelEncoder, StandardScaler\n",
    "\n",
    "import matplotlib.pyplot as plt"
   ]
  },
  {
   "cell_type": "code",
   "execution_count": 2,
   "metadata": {},
   "outputs": [],
   "source": [
    "df = pd.read_pickle('C:/Users/hubst/Econ490_group/class_data.pkl')"
   ]
  },
  {
   "cell_type": "code",
   "execution_count": 7,
   "metadata": {},
   "outputs": [],
   "source": [
    "df_prepped = df.drop(columns = ['year', 'GeoName']).join([\n",
    "    pd.get_dummies(df.year, drop_first = False)    \n",
    "])"
   ]
  },
  {
   "cell_type": "markdown",
   "metadata": {},
   "source": [
    "Whenever we are dealing with categorical variables that we have not predefined dummy variables, we need to ensure that they have the same labels after train-test splits. We can do so with setting the variable to a `category` type, or we can use `sklearn`'s `LabelEncoder()`."
   ]
  },
  {
   "cell_type": "code",
   "execution_count": 8,
   "metadata": {},
   "outputs": [],
   "source": [
    "le = LabelEncoder().fit(df_prepped['urate_bin'].unique())\n",
    "y = le.transform(df_prepped['urate_bin'])\n",
    "x = df_prepped.drop(columns = 'urate_bin')\n",
    "\n",
    "x_train, x_test, y_train, y_test = train_test_split(x, y, train_size = 2/3, random_state = 490)"
   ]
  },
  {
   "cell_type": "code",
   "execution_count": 9,
   "metadata": {},
   "outputs": [
    {
     "data": {
      "text/plain": [
       "array(['higher', 'higher', 'lower', 'similar', 'lower'], dtype=object)"
      ]
     },
     "execution_count": 9,
     "metadata": {},
     "output_type": "execute_result"
    }
   ],
   "source": [
    "le.inverse_transform([0 ,0 ,1, 2, 1])"
   ]
  },
  {
   "cell_type": "markdown",
   "metadata": {},
   "source": [
    "******************************\n",
    "# Naive Bayes \n",
    "[TOP](#ML-Classification)\n",
    "\n",
    "Implementing Naive Bayes is perhaps one of the easiest we will use all semester. \n",
    "There are no hyperparameters to tune.\n",
    "Because of the structure of our data, we want the Gaussian Naive Bayes.\n",
    "Note that there are other specifications for different tasks: https://scikit-learn.org/stable/modules/naive_bayes.html"
   ]
  },
  {
   "cell_type": "code",
   "execution_count": 10,
   "metadata": {},
   "outputs": [
    {
     "name": "stdout",
     "output_type": "stream",
     "text": [
      "0.49081333413130646\n"
     ]
    },
    {
     "data": {
      "image/png": "[encoded data removed]",
      "text/plain": [
       "<Figure size 432x288 with 2 Axes>"
      ]
     },
     "metadata": {
      "needs_background": "light"
     },
     "output_type": "display_data"
    }
   ],
   "source": [
    "gnb = nb.GaussianNB()\n",
    "gnb.fit(x_train, y_train)\n",
    "\n",
    "print(gnb.score(x_test, y_test))\n",
    "\n",
    "plot_confusion_matrix(gnb, x_test, y_test)\n",
    "plt.show()"
   ]
  },
  {
   "cell_type": "markdown",
   "metadata": {},
   "source": [
    "As you have notiecd, when we use the `LabelEncoder()` from `sklearn`, the label is converted to numbers. \n",
    "I prefer seeing the labels."
   ]
  },
  {
   "cell_type": "code",
   "execution_count": 11,
   "metadata": {},
   "outputs": [],
   "source": [
    "y = df_prepped['urate_bin'].astype('category').cat.set_categories(['lower', 'similar', 'higher'])\n",
    "x = df_prepped.drop(columns = 'urate_bin')\n",
    "\n",
    "x_train, x_test, y_train, y_test = train_test_split(x, y, train_size = 2/3, random_state = 490)"
   ]
  },
  {
   "cell_type": "markdown",
   "metadata": {},
   "source": [
    "Just to show you that the categories are preserved..."
   ]
  },
  {
   "cell_type": "code",
   "execution_count": 12,
   "metadata": {},
   "outputs": [
    {
     "data": {
      "text/plain": [
       "fips   year\n",
       "55033  2005    higher\n",
       "8039   2010     lower\n",
       "Name: urate_bin, dtype: category\n",
       "Categories (3, object): ['lower', 'similar', 'higher']"
      ]
     },
     "execution_count": 12,
     "metadata": {},
     "output_type": "execute_result"
    }
   ],
   "source": [
    "y_train.iloc[0:2]"
   ]
  },
  {
   "cell_type": "code",
   "execution_count": 13,
   "metadata": {},
   "outputs": [
    {
     "name": "stdout",
     "output_type": "stream",
     "text": [
      "0.49081333413130646\n"
     ]
    },
    {
     "data": {
      "image/png": "[encoded data removed]",
      "text/plain": [
       "<Figure size 432x288 with 2 Axes>"
      ]
     },
     "metadata": {
      "needs_background": "light"
     },
     "output_type": "display_data"
    }
   ],
   "source": [
    "gnb = nb.GaussianNB()\n",
    "gnb.fit(x_train, y_train)\n",
    "\n",
    "print(gnb.score(x_test, y_test))\n",
    "\n",
    "plot_confusion_matrix(gnb, x_test, y_test)\n",
    "plt.show()"
   ]
  },
  {
   "cell_type": "markdown",
   "metadata": {},
   "source": [
    "*********\n",
    "# KNN Classification\n",
    "[TOP](#ML-Classification)\n",
    "\n",
    "As you can find from the documentation, there are more hyperparameters than the number of neighbors you can choose.\n",
    "For our purposes, we will only focus on the number of neighbors as the rest are more advanced. \n",
    "I do, however, encourage you to learn more about them!\n",
    "\n",
    "Don't forget to standardize!"
   ]
  },
  {
   "cell_type": "code",
   "execution_count": 14,
   "metadata": {},
   "outputs": [],
   "source": [
    "ss = StandardScaler()\n",
    "x_train_std = pd.DataFrame(ss.fit(x_train).transform(x_train),\n",
    "                           columns = x_train.columns,\n",
    "                           index = x_train.index)\n",
    "\n",
    "x_test_std = pd.DataFrame(StandardScaler().fit(x_test).transform(x_test),\n",
    "                          columns = x_test.columns, \n",
    "                          index = x_test.index)"
   ]
  },
  {
   "cell_type": "code",
   "execution_count": 15,
   "metadata": {},
   "outputs": [
    {
     "name": "stdout",
     "output_type": "stream",
     "text": [
      "0.6388174037943624\n"
     ]
    },
    {
     "data": {
      "image/png": "[encoded data removed]",
      "text/plain": [
       "<Figure size 432x288 with 2 Axes>"
      ]
     },
     "metadata": {
      "needs_background": "light"
     },
     "output_type": "display_data"
    }
   ],
   "source": [
    "knnc = KNeighborsClassifier(n_neighbors = 5)\n",
    "knnc.fit(x_train_std, y_train)\n",
    "\n",
    "print(knnc.score(x_test_std, y_test))\n",
    "\n",
    "plot_confusion_matrix(knnc, x_test_std, y_test)\n",
    "plt.show()"
   ]
  },
  {
   "cell_type": "markdown",
   "metadata": {},
   "source": [
    "*********\n",
    "# KNN Regression\n",
    "[TOP](#ML-Classification)\n",
    "\n",
    "Because we have introduced KNN for classification, I would be remissed if I did not show you how to perform KNN regression."
   ]
  },
  {
   "cell_type": "code",
   "execution_count": 16,
   "metadata": {},
   "outputs": [
    {
     "data": {
      "text/plain": [
       "KNeighborsRegressor(n_neighbors=7)"
      ]
     },
     "execution_count": 16,
     "metadata": {},
     "output_type": "execute_result"
    }
   ],
   "source": [
    "knnr = KNeighborsRegressor(n_neighbors = 7)\n",
    "knnr.fit(x_train_std.drop(columns = 'pct_d_rgdp'), x_train_std['pct_d_rgdp'])"
   ]
  },
  {
   "cell_type": "markdown",
   "metadata": {},
   "source": [
    "Tired of writing the RMSE formula manually? `sklearn` has a function for you: `mean_squared_error()`!"
   ]
  },
  {
   "cell_type": "code",
   "execution_count": 17,
   "metadata": {},
   "outputs": [
    {
     "data": {
      "text/plain": [
       "1.0079631023239946"
      ]
     },
     "execution_count": 17,
     "metadata": {},
     "output_type": "execute_result"
    }
   ],
   "source": [
    "yhat = knnr.predict(x_test_std.drop(columns = 'pct_d_rgdp'))\n",
    "mean_squared_error(x_test_std['pct_d_rgdp'], yhat, squared = False)"
   ]
  }
 ],
 "metadata": {
  "kernelspec": {
   "display_name": "Python 3",
   "language": "python",
   "name": "python3"
  },
  "language_info": {
   "codemirror_mode": {
    "name": "ipython",
    "version": 3
   },
   "file_extension": ".py",
   "mimetype": "text/x-python",
   "name": "python",
   "nbconvert_exporter": "python",
   "pygments_lexer": "ipython3",
   "version": "3.8.5"
  }
 },
 "nbformat": 4,
 "nbformat_minor": 5
}
