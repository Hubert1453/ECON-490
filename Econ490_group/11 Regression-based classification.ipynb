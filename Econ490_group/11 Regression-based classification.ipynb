{
 "cells": [
  {
   "cell_type": "markdown",
   "metadata": {},
   "source": [
    "## Regression-Based Classification\n",
    "\n",
    "#### Table of Contents\n",
    "\n",
    "* [Preliminaries](#Preliminaries)\n",
    "* [Binomial Logistic Regression](#Binomial-Logistic-Regression)\n",
    "    - [Logit Inference](#Logit-Inference)\n",
    "        - [Logit Marginal Effects](#Logit-Marginal-Effects)\n",
    "        - [Comparison to LPM](#Comparison-to-LPM)\n",
    "        - [Logit Regularization](#Logit-Regularization)\n",
    "    - [Logit Prediction Diagnostics](#Logit-Prediction-Diagnostics)\n",
    "        - [Logit Null Model](#Logit-Null-Model)\n",
    "        - [Logit Full Model](#Logit-Full-Model)\n",
    "        - [Alternative Thresholds](#Alternative-Thresholds)\n",
    "- [Multinomial Logistic Regression](#Multinomial-Logistic-Regression)\n",
    "    - [MN Logit Inference](#MN-Logit-Inference)\n",
    "        - [MN Logit Marginal Effects](#MN-Logit-Marginal-Effects)\n",
    "        - [MN Logit Regularization](#MN-Logit-Regularization)\n",
    "    - [MN Logit Prediction Diagnostics](#MN-Logit-Prediction-Diagnostics)\n",
    "        - [MN Logit Null Model](#MN-Logit-Null-Model)\n",
    "        - [MN Logit Full Model](#MN-Logit-Full-Model)\n",
    "\n",
    "***\n",
    "# Preliminaries\n",
    "[TOP](#Regression-Based-Classification)"
   ]
  },
  {
   "cell_type": "code",
   "execution_count": 2,
   "metadata": {},
   "outputs": [],
   "source": [
    "import numpy as np\n",
    "import pandas as pd\n",
    "from tqdm import tqdm # progress bar\n",
    "\n",
    "import statsmodels.api as sm\n",
    "from sklearn import linear_model as lm\n",
    "\n",
    "from sklearn.model_selection import GridSearchCV, train_test_split, KFold\n",
    "from sklearn.metrics import confusion_matrix, plot_confusion_matrix\n",
    "\n",
    "import matplotlib.pyplot as plt\n",
    "import seaborn as sns\n",
    "sns.set(rc = {'axes.titlesize': 24,\n",
    "             'axes.labelsize': 20,\n",
    "             'xtick.labelsize': 12,\n",
    "             'ytick.labelsize': 12,\n",
    "             'figure.figsize': (8, 4.5)})\n",
    "sns.set_style(\"white\") # for plot_confusion_matrix()"
   ]
  },
  {
   "cell_type": "code",
   "execution_count": 4,
   "metadata": {},
   "outputs": [],
   "source": [
    "df = pd.read_pickle('C:/Users/hubst/Econ490_group/class_data.pkl')"
   ]
  },
  {
   "cell_type": "code",
   "execution_count": 9,
   "metadata": {},
   "outputs": [],
   "source": [
    "df_prepped = df.drop(columns = ['urate_bin', 'year', 'GeoName']).join([\n",
    "    pd.get_dummies(df['urate_bin'], drop_first = True),\n",
    "    pd.get_dummies(df.year, drop_first = True)    \n",
    "])\n"
   ]
  },
  {
   "cell_type": "code",
   "execution_count": 10,
   "metadata": {},
   "outputs": [],
   "source": [
    "y = df_prepped['pos_net_jobs'].astype(float)\n",
    "x = df_prepped.drop(columns = 'pos_net_jobs')\n",
    "\n",
    "x_train, x_test, y_train, y_test = train_test_split(x, y, train_size = 2/3, random_state = 490)\n",
    "\n",
    "x_train_std = x_train.apply(lambda x: (x - np.mean(x))/np.std(x), axis = 0)\n",
    "x_test_std  = x_test.apply(lambda x: (x - np.mean(x))/np.std(x), axis = 0)\n",
    "\n",
    "x_train_std = sm.add_constant(x_train_std)\n",
    "x_test_std  = sm.add_constant(x_test_std)\n",
    "x_train     = sm.add_constant(x_train)\n",
    "x_test      = sm.add_constant(x_test)"
   ]
  },
  {
   "cell_type": "markdown",
   "metadata": {},
   "source": [
    "*******\n",
    "# Binomial Logistic Regression\n",
    "[TOP](#Regression-Based-Classification)\n",
    "\n",
    "There are three primary ways to fit a logsitic regression:\n",
    "\n",
    "- `statsmodels.api.Logit(y, x).fit()`\n",
    "- `statsmodels.formula.api.logit(data = df, formula = 'y ~ x').fit()`\n",
    "- `sklearn.linear_model.LogisticRegression().fit(x, y)`\n",
    "\n",
    "************\n",
    "## Logit Inference\n",
    "[TOP](#Regression-Based-Classification)\n",
    "\n",
    "By now, if you are thinking inference, then you should be thinking `statsmodels`."
   ]
  },
  {
   "cell_type": "code",
   "execution_count": 11,
   "metadata": {},
   "outputs": [
    {
     "name": "stdout",
     "output_type": "stream",
     "text": [
      "Optimization terminated successfully.\n",
      "         Current function value: 0.598795\n",
      "         Iterations 6\n"
     ]
    }
   ],
   "source": [
    "fit_logit = sm.Logit(y_train, x_train).fit()"
   ]
  },
  {
   "cell_type": "code",
   "execution_count": 12,
   "metadata": {},
   "outputs": [
    {
     "data": {
      "text/html": [
       "<table class=\"simpletable\">\n",
       "<tr>\n",
       "        <td>Model:</td>              <td>Logit</td>      <td>Pseudo R-squared:</td>    <td>0.127</td>  \n",
       "</tr>\n",
       "<tr>\n",
       "  <td>Dependent Variable:</td>   <td>pos_net_jobs</td>         <td>AIC:</td>        <td>40077.0933</td>\n",
       "</tr>\n",
       "<tr>\n",
       "         <td>Date:</td>        <td>2021-03-02 14:21</td>       <td>BIC:</td>        <td>40312.7651</td>\n",
       "</tr>\n",
       "<tr>\n",
       "   <td>No. Observations:</td>        <td>33418</td>       <td>Log-Likelihood:</td>    <td>-20011.</td> \n",
       "</tr>\n",
       "<tr>\n",
       "       <td>Df Model:</td>             <td>27</td>            <td>LL-Null:</td>        <td>-22913.</td> \n",
       "</tr>\n",
       "<tr>\n",
       "     <td>Df Residuals:</td>          <td>33390</td>        <td>LLR p-value:</td>      <td>0.0000</td>  \n",
       "</tr>\n",
       "<tr>\n",
       "      <td>Converged:</td>           <td>1.0000</td>           <td>Scale:</td>         <td>1.0000</td>  \n",
       "</tr>\n",
       "<tr>\n",
       "    <td>No. Iterations:</td>        <td>6.0000</td>              <td></td>               <td></td>     \n",
       "</tr>\n",
       "</table>\n",
       "<table class=\"simpletable\">\n",
       "<tr>\n",
       "          <td></td>           <th>Coef.</th>  <th>Std.Err.</th>     <th>z</th>     <th>P>|z|</th> <th>[0.025</th>  <th>0.975]</th> \n",
       "</tr>\n",
       "<tr>\n",
       "  <th>const</th>             <td>-2.1336</td>  <td>0.1494</td>  <td>-14.2851</td> <td>0.0000</td> <td>-2.4263</td> <td>-1.8409</td>\n",
       "</tr>\n",
       "<tr>\n",
       "  <th>pct_d_rgdp</th>        <td>0.0155</td>   <td>0.0015</td>   <td>10.3856</td> <td>0.0000</td> <td>0.0126</td>  <td>0.0184</td> \n",
       "</tr>\n",
       "<tr>\n",
       "  <th>emp_estabs</th>        <td>0.0417</td>   <td>0.0030</td>   <td>14.1236</td> <td>0.0000</td> <td>0.0359</td>  <td>0.0475</td> \n",
       "</tr>\n",
       "<tr>\n",
       "  <th>estabs_entry_rate</th> <td>0.2041</td>   <td>0.0056</td>   <td>36.3848</td> <td>0.0000</td> <td>0.1931</td>  <td>0.2151</td> \n",
       "</tr>\n",
       "<tr>\n",
       "  <th>estabs_exit_rate</th>  <td>-0.1647</td>  <td>0.0061</td>  <td>-26.8399</td> <td>0.0000</td> <td>-0.1767</td> <td>-0.1527</td>\n",
       "</tr>\n",
       "<tr>\n",
       "  <th>pop</th>               <td>0.0000</td>   <td>0.0000</td>   <td>2.0681</td>  <td>0.0386</td> <td>0.0000</td>  <td>0.0000</td> \n",
       "</tr>\n",
       "<tr>\n",
       "  <th>pop_pct_black</th>     <td>-0.0033</td>  <td>0.0009</td>   <td>-3.5175</td> <td>0.0004</td> <td>-0.0052</td> <td>-0.0015</td>\n",
       "</tr>\n",
       "<tr>\n",
       "  <th>pop_pct_hisp</th>      <td>0.0059</td>   <td>0.0010</td>   <td>5.9288</td>  <td>0.0000</td> <td>0.0039</td>  <td>0.0078</td> \n",
       "</tr>\n",
       "<tr>\n",
       "  <th>lfpr</th>              <td>0.0019</td>   <td>0.0014</td>   <td>1.3754</td>  <td>0.1690</td> <td>-0.0008</td> <td>0.0047</td> \n",
       "</tr>\n",
       "<tr>\n",
       "  <th>density</th>           <td>0.0000</td>   <td>0.0000</td>   <td>1.0236</td>  <td>0.3060</td> <td>-0.0000</td> <td>0.0000</td> \n",
       "</tr>\n",
       "<tr>\n",
       "  <th>lower</th>             <td>0.3610</td>   <td>0.0338</td>   <td>10.6966</td> <td>0.0000</td> <td>0.2949</td>  <td>0.4272</td> \n",
       "</tr>\n",
       "<tr>\n",
       "  <th>similar</th>           <td>0.1662</td>   <td>0.0359</td>   <td>4.6308</td>  <td>0.0000</td> <td>0.0959</td>  <td>0.2366</td> \n",
       "</tr>\n",
       "<tr>\n",
       "  <th>2003</th>              <td>1.0495</td>   <td>0.0689</td>   <td>15.2345</td> <td>0.0000</td> <td>0.9145</td>  <td>1.1845</td> \n",
       "</tr>\n",
       "<tr>\n",
       "  <th>2004</th>              <td>1.3234</td>   <td>0.0706</td>   <td>18.7548</td> <td>0.0000</td> <td>1.1851</td>  <td>1.4617</td> \n",
       "</tr>\n",
       "<tr>\n",
       "  <th>2005</th>              <td>1.2072</td>   <td>0.0720</td>   <td>16.7553</td> <td>0.0000</td> <td>1.0660</td>  <td>1.3484</td> \n",
       "</tr>\n",
       "<tr>\n",
       "  <th>2006</th>              <td>1.7648</td>   <td>0.0758</td>   <td>23.2861</td> <td>0.0000</td> <td>1.6162</td>  <td>1.9133</td> \n",
       "</tr>\n",
       "<tr>\n",
       "  <th>2007</th>              <td>0.5726</td>   <td>0.0681</td>   <td>8.4049</td>  <td>0.0000</td> <td>0.4391</td>  <td>0.7062</td> \n",
       "</tr>\n",
       "<tr>\n",
       "  <th>2008</th>              <td>0.8626</td>   <td>0.0690</td>   <td>12.5012</td> <td>0.0000</td> <td>0.7273</td>  <td>0.9978</td> \n",
       "</tr>\n",
       "<tr>\n",
       "  <th>2009</th>              <td>-0.5327</td>  <td>0.0827</td>   <td>-6.4412</td> <td>0.0000</td> <td>-0.6948</td> <td>-0.3706</td>\n",
       "</tr>\n",
       "<tr>\n",
       "  <th>2010</th>              <td>0.2174</td>   <td>0.0717</td>   <td>3.0336</td>  <td>0.0024</td> <td>0.0769</td>  <td>0.3578</td> \n",
       "</tr>\n",
       "<tr>\n",
       "  <th>2011</th>              <td>1.3064</td>   <td>0.0703</td>   <td>18.5921</td> <td>0.0000</td> <td>1.1686</td>  <td>1.4441</td> \n",
       "</tr>\n",
       "<tr>\n",
       "  <th>2012</th>              <td>1.5542</td>   <td>0.0722</td>   <td>21.5354</td> <td>0.0000</td> <td>1.4127</td>  <td>1.6956</td> \n",
       "</tr>\n",
       "<tr>\n",
       "  <th>2013</th>              <td>1.2692</td>   <td>0.0709</td>   <td>17.9033</td> <td>0.0000</td> <td>1.1303</td>  <td>1.4082</td> \n",
       "</tr>\n",
       "<tr>\n",
       "  <th>2014</th>              <td>1.5313</td>   <td>0.0727</td>   <td>21.0515</td> <td>0.0000</td> <td>1.3887</td>  <td>1.6739</td> \n",
       "</tr>\n",
       "<tr>\n",
       "  <th>2015</th>              <td>1.6098</td>   <td>0.0737</td>   <td>21.8320</td> <td>0.0000</td> <td>1.4653</td>  <td>1.7543</td> \n",
       "</tr>\n",
       "<tr>\n",
       "  <th>2016</th>              <td>1.3157</td>   <td>0.0721</td>   <td>18.2485</td> <td>0.0000</td> <td>1.1744</td>  <td>1.4570</td> \n",
       "</tr>\n",
       "<tr>\n",
       "  <th>2017</th>              <td>1.1677</td>   <td>0.0705</td>   <td>16.5515</td> <td>0.0000</td> <td>1.0294</td>  <td>1.3060</td> \n",
       "</tr>\n",
       "<tr>\n",
       "  <th>2018</th>              <td>1.4274</td>   <td>0.0728</td>   <td>19.6171</td> <td>0.0000</td> <td>1.2848</td>  <td>1.5700</td> \n",
       "</tr>\n",
       "</table>"
      ],
      "text/plain": [
       "<class 'statsmodels.iolib.summary2.Summary'>\n",
       "\"\"\"\n",
       "                          Results: Logit\n",
       "==================================================================\n",
       "Model:               Logit            Pseudo R-squared: 0.127     \n",
       "Dependent Variable:  pos_net_jobs     AIC:              40077.0933\n",
       "Date:                2021-03-02 14:21 BIC:              40312.7651\n",
       "No. Observations:    33418            Log-Likelihood:   -20011.   \n",
       "Df Model:            27               LL-Null:          -22913.   \n",
       "Df Residuals:        33390            LLR p-value:      0.0000    \n",
       "Converged:           1.0000           Scale:            1.0000    \n",
       "No. Iterations:      6.0000                                       \n",
       "------------------------------------------------------------------\n",
       "                   Coef.  Std.Err.    z     P>|z|   [0.025  0.975]\n",
       "------------------------------------------------------------------\n",
       "const             -2.1336   0.1494 -14.2851 0.0000 -2.4263 -1.8409\n",
       "pct_d_rgdp         0.0155   0.0015  10.3856 0.0000  0.0126  0.0184\n",
       "emp_estabs         0.0417   0.0030  14.1236 0.0000  0.0359  0.0475\n",
       "estabs_entry_rate  0.2041   0.0056  36.3848 0.0000  0.1931  0.2151\n",
       "estabs_exit_rate  -0.1647   0.0061 -26.8399 0.0000 -0.1767 -0.1527\n",
       "pop                0.0000   0.0000   2.0681 0.0386  0.0000  0.0000\n",
       "pop_pct_black     -0.0033   0.0009  -3.5175 0.0004 -0.0052 -0.0015\n",
       "pop_pct_hisp       0.0059   0.0010   5.9288 0.0000  0.0039  0.0078\n",
       "lfpr               0.0019   0.0014   1.3754 0.1690 -0.0008  0.0047\n",
       "density            0.0000   0.0000   1.0236 0.3060 -0.0000  0.0000\n",
       "lower              0.3610   0.0338  10.6966 0.0000  0.2949  0.4272\n",
       "similar            0.1662   0.0359   4.6308 0.0000  0.0959  0.2366\n",
       "2003               1.0495   0.0689  15.2345 0.0000  0.9145  1.1845\n",
       "2004               1.3234   0.0706  18.7548 0.0000  1.1851  1.4617\n",
       "2005               1.2072   0.0720  16.7553 0.0000  1.0660  1.3484\n",
       "2006               1.7648   0.0758  23.2861 0.0000  1.6162  1.9133\n",
       "2007               0.5726   0.0681   8.4049 0.0000  0.4391  0.7062\n",
       "2008               0.8626   0.0690  12.5012 0.0000  0.7273  0.9978\n",
       "2009              -0.5327   0.0827  -6.4412 0.0000 -0.6948 -0.3706\n",
       "2010               0.2174   0.0717   3.0336 0.0024  0.0769  0.3578\n",
       "2011               1.3064   0.0703  18.5921 0.0000  1.1686  1.4441\n",
       "2012               1.5542   0.0722  21.5354 0.0000  1.4127  1.6956\n",
       "2013               1.2692   0.0709  17.9033 0.0000  1.1303  1.4082\n",
       "2014               1.5313   0.0727  21.0515 0.0000  1.3887  1.6739\n",
       "2015               1.6098   0.0737  21.8320 0.0000  1.4653  1.7543\n",
       "2016               1.3157   0.0721  18.2485 0.0000  1.1744  1.4570\n",
       "2017               1.1677   0.0705  16.5515 0.0000  1.0294  1.3060\n",
       "2018               1.4274   0.0728  19.6171 0.0000  1.2848  1.5700\n",
       "==================================================================\n",
       "\n",
       "\"\"\""
      ]
     },
     "execution_count": 12,
     "metadata": {},
     "output_type": "execute_result"
    }
   ],
   "source": [
    "fit_logit.summary2()"
   ]
  },
  {
   "cell_type": "markdown",
   "metadata": {},
   "source": [
    "***********\n",
    "### Logit Marginal Effects \n",
    "[TOP](#Regression-Based-Classification)"
   ]
  },
  {
   "cell_type": "code",
   "execution_count": 13,
   "metadata": {},
   "outputs": [
    {
     "data": {
      "text/html": [
       "<table class=\"simpletable\">\n",
       "<caption>Logit Marginal Effects</caption>\n",
       "<tr>\n",
       "  <th>Dep. Variable:</th> <td>pos_net_jobs</td>\n",
       "</tr>\n",
       "<tr>\n",
       "  <th>Method:</th>            <td>dydx</td>    \n",
       "</tr>\n",
       "<tr>\n",
       "  <th>At:</th>               <td>overall</td>  \n",
       "</tr>\n",
       "</table>\n",
       "<table class=\"simpletable\">\n",
       "<tr>\n",
       "          <th></th>             <th>dy/dx</th>    <th>std err</th>      <th>z</th>      <th>P>|z|</th>  <th>[0.025</th>    <th>0.975]</th>  \n",
       "</tr>\n",
       "<tr>\n",
       "  <th>pct_d_rgdp</th>        <td>    0.0032</td> <td>    0.000</td> <td>   10.444</td> <td> 0.000</td> <td>    0.003</td> <td>    0.004</td>\n",
       "</tr>\n",
       "<tr>\n",
       "  <th>emp_estabs</th>        <td>    0.0086</td> <td>    0.001</td> <td>   14.278</td> <td> 0.000</td> <td>    0.007</td> <td>    0.010</td>\n",
       "</tr>\n",
       "<tr>\n",
       "  <th>estabs_entry_rate</th> <td>    0.0421</td> <td>    0.001</td> <td>   39.190</td> <td> 0.000</td> <td>    0.040</td> <td>    0.044</td>\n",
       "</tr>\n",
       "<tr>\n",
       "  <th>estabs_exit_rate</th>  <td>   -0.0340</td> <td>    0.001</td> <td>  -27.918</td> <td> 0.000</td> <td>   -0.036</td> <td>   -0.032</td>\n",
       "</tr>\n",
       "<tr>\n",
       "  <th>pop</th>               <td> 2.054e-08</td> <td> 9.93e-09</td> <td>    2.069</td> <td> 0.039</td> <td> 1.08e-09</td> <td>    4e-08</td>\n",
       "</tr>\n",
       "<tr>\n",
       "  <th>pop_pct_black</th>     <td>   -0.0007</td> <td>    0.000</td> <td>   -3.520</td> <td> 0.000</td> <td>   -0.001</td> <td>   -0.000</td>\n",
       "</tr>\n",
       "<tr>\n",
       "  <th>pop_pct_hisp</th>      <td>    0.0012</td> <td>    0.000</td> <td>    5.939</td> <td> 0.000</td> <td>    0.001</td> <td>    0.002</td>\n",
       "</tr>\n",
       "<tr>\n",
       "  <th>lfpr</th>              <td>    0.0004</td> <td>    0.000</td> <td>    1.376</td> <td> 0.169</td> <td>   -0.000</td> <td>    0.001</td>\n",
       "</tr>\n",
       "<tr>\n",
       "  <th>density</th>           <td> 1.698e-06</td> <td> 1.66e-06</td> <td>    1.024</td> <td> 0.306</td> <td>-1.55e-06</td> <td> 4.95e-06</td>\n",
       "</tr>\n",
       "<tr>\n",
       "  <th>lower</th>             <td>    0.0745</td> <td>    0.007</td> <td>   10.763</td> <td> 0.000</td> <td>    0.061</td> <td>    0.088</td>\n",
       "</tr>\n",
       "<tr>\n",
       "  <th>similar</th>           <td>    0.0343</td> <td>    0.007</td> <td>    4.637</td> <td> 0.000</td> <td>    0.020</td> <td>    0.049</td>\n",
       "</tr>\n",
       "<tr>\n",
       "  <th>2003</th>              <td>    0.2167</td> <td>    0.014</td> <td>   15.438</td> <td> 0.000</td> <td>    0.189</td> <td>    0.244</td>\n",
       "</tr>\n",
       "<tr>\n",
       "  <th>2004</th>              <td>    0.2732</td> <td>    0.014</td> <td>   19.134</td> <td> 0.000</td> <td>    0.245</td> <td>    0.301</td>\n",
       "</tr>\n",
       "<tr>\n",
       "  <th>2005</th>              <td>    0.2492</td> <td>    0.015</td> <td>   17.026</td> <td> 0.000</td> <td>    0.221</td> <td>    0.278</td>\n",
       "</tr>\n",
       "<tr>\n",
       "  <th>2006</th>              <td>    0.3643</td> <td>    0.015</td> <td>   24.002</td> <td> 0.000</td> <td>    0.335</td> <td>    0.394</td>\n",
       "</tr>\n",
       "<tr>\n",
       "  <th>2007</th>              <td>    0.1182</td> <td>    0.014</td> <td>    8.438</td> <td> 0.000</td> <td>    0.091</td> <td>    0.146</td>\n",
       "</tr>\n",
       "<tr>\n",
       "  <th>2008</th>              <td>    0.1781</td> <td>    0.014</td> <td>   12.609</td> <td> 0.000</td> <td>    0.150</td> <td>    0.206</td>\n",
       "</tr>\n",
       "<tr>\n",
       "  <th>2009</th>              <td>   -0.1100</td> <td>    0.017</td> <td>   -6.451</td> <td> 0.000</td> <td>   -0.143</td> <td>   -0.077</td>\n",
       "</tr>\n",
       "<tr>\n",
       "  <th>2010</th>              <td>    0.0449</td> <td>    0.015</td> <td>    3.035</td> <td> 0.002</td> <td>    0.016</td> <td>    0.074</td>\n",
       "</tr>\n",
       "<tr>\n",
       "  <th>2011</th>              <td>    0.2697</td> <td>    0.014</td> <td>   18.958</td> <td> 0.000</td> <td>    0.242</td> <td>    0.298</td>\n",
       "</tr>\n",
       "<tr>\n",
       "  <th>2012</th>              <td>    0.3208</td> <td>    0.015</td> <td>   22.110</td> <td> 0.000</td> <td>    0.292</td> <td>    0.349</td>\n",
       "</tr>\n",
       "<tr>\n",
       "  <th>2013</th>              <td>    0.2620</td> <td>    0.014</td> <td>   18.231</td> <td> 0.000</td> <td>    0.234</td> <td>    0.290</td>\n",
       "</tr>\n",
       "<tr>\n",
       "  <th>2014</th>              <td>    0.3161</td> <td>    0.015</td> <td>   21.587</td> <td> 0.000</td> <td>    0.287</td> <td>    0.345</td>\n",
       "</tr>\n",
       "<tr>\n",
       "  <th>2015</th>              <td>    0.3323</td> <td>    0.015</td> <td>   22.429</td> <td> 0.000</td> <td>    0.303</td> <td>    0.361</td>\n",
       "</tr>\n",
       "<tr>\n",
       "  <th>2016</th>              <td>    0.2716</td> <td>    0.015</td> <td>   18.597</td> <td> 0.000</td> <td>    0.243</td> <td>    0.300</td>\n",
       "</tr>\n",
       "<tr>\n",
       "  <th>2017</th>              <td>    0.2411</td> <td>    0.014</td> <td>   16.809</td> <td> 0.000</td> <td>    0.213</td> <td>    0.269</td>\n",
       "</tr>\n",
       "<tr>\n",
       "  <th>2018</th>              <td>    0.2947</td> <td>    0.015</td> <td>   20.051</td> <td> 0.000</td> <td>    0.266</td> <td>    0.323</td>\n",
       "</tr>\n",
       "</table>"
      ],
      "text/plain": [
       "<class 'statsmodels.iolib.summary.Summary'>\n",
       "\"\"\"\n",
       "        Logit Marginal Effects       \n",
       "=====================================\n",
       "Dep. Variable:           pos_net_jobs\n",
       "Method:                          dydx\n",
       "At:                           overall\n",
       "=====================================================================================\n",
       "                       dy/dx    std err          z      P>|z|      [0.025      0.975]\n",
       "-------------------------------------------------------------------------------------\n",
       "pct_d_rgdp            0.0032      0.000     10.444      0.000       0.003       0.004\n",
       "emp_estabs            0.0086      0.001     14.278      0.000       0.007       0.010\n",
       "estabs_entry_rate     0.0421      0.001     39.190      0.000       0.040       0.044\n",
       "estabs_exit_rate     -0.0340      0.001    -27.918      0.000      -0.036      -0.032\n",
       "pop                2.054e-08   9.93e-09      2.069      0.039    1.08e-09       4e-08\n",
       "pop_pct_black        -0.0007      0.000     -3.520      0.000      -0.001      -0.000\n",
       "pop_pct_hisp          0.0012      0.000      5.939      0.000       0.001       0.002\n",
       "lfpr                  0.0004      0.000      1.376      0.169      -0.000       0.001\n",
       "density            1.698e-06   1.66e-06      1.024      0.306   -1.55e-06    4.95e-06\n",
       "lower                 0.0745      0.007     10.763      0.000       0.061       0.088\n",
       "similar               0.0343      0.007      4.637      0.000       0.020       0.049\n",
       "2003                  0.2167      0.014     15.438      0.000       0.189       0.244\n",
       "2004                  0.2732      0.014     19.134      0.000       0.245       0.301\n",
       "2005                  0.2492      0.015     17.026      0.000       0.221       0.278\n",
       "2006                  0.3643      0.015     24.002      0.000       0.335       0.394\n",
       "2007                  0.1182      0.014      8.438      0.000       0.091       0.146\n",
       "2008                  0.1781      0.014     12.609      0.000       0.150       0.206\n",
       "2009                 -0.1100      0.017     -6.451      0.000      -0.143      -0.077\n",
       "2010                  0.0449      0.015      3.035      0.002       0.016       0.074\n",
       "2011                  0.2697      0.014     18.958      0.000       0.242       0.298\n",
       "2012                  0.3208      0.015     22.110      0.000       0.292       0.349\n",
       "2013                  0.2620      0.014     18.231      0.000       0.234       0.290\n",
       "2014                  0.3161      0.015     21.587      0.000       0.287       0.345\n",
       "2015                  0.3323      0.015     22.429      0.000       0.303       0.361\n",
       "2016                  0.2716      0.015     18.597      0.000       0.243       0.300\n",
       "2017                  0.2411      0.014     16.809      0.000       0.213       0.269\n",
       "2018                  0.2947      0.015     20.051      0.000       0.266       0.323\n",
       "=====================================================================================\n",
       "\"\"\""
      ]
     },
     "execution_count": 13,
     "metadata": {},
     "output_type": "execute_result"
    }
   ],
   "source": [
    "# There is no summary2() method for marginal effects\n",
    "fit_logit.get_margeff().summary()"
   ]
  },
  {
   "cell_type": "markdown",
   "metadata": {},
   "source": [
    "******\n",
    "### Comparison to LPM \n",
    "[TOP](#Regression-Based-Classification)\n",
    "\n",
    "For the sake of not exploding this notebook with summaries, let's use a simplier model:"
   ]
  },
  {
   "cell_type": "code",
   "execution_count": 14,
   "metadata": {},
   "outputs": [
    {
     "name": "stdout",
     "output_type": "stream",
     "text": [
      "Optimization terminated successfully.\n",
      "         Current function value: 0.670589\n",
      "         Iterations 5\n"
     ]
    },
    {
     "data": {
      "text/html": [
       "<table class=\"simpletable\">\n",
       "<caption>Logit Marginal Effects</caption>\n",
       "<tr>\n",
       "  <th>Dep. Variable:</th> <td>pos_net_jobs</td>\n",
       "</tr>\n",
       "<tr>\n",
       "  <th>Method:</th>            <td>dydx</td>    \n",
       "</tr>\n",
       "<tr>\n",
       "  <th>At:</th>               <td>overall</td>  \n",
       "</tr>\n",
       "</table>\n",
       "<table class=\"simpletable\">\n",
       "<tr>\n",
       "          <th></th>            <th>dy/dx</th>    <th>std err</th>      <th>z</th>      <th>P>|z|</th>  <th>[0.025</th>    <th>0.975]</th>  \n",
       "</tr>\n",
       "<tr>\n",
       "  <th>pct_d_rgdp</th>       <td>    0.0057</td> <td>    0.000</td> <td>   16.916</td> <td> 0.000</td> <td>    0.005</td> <td>    0.006</td>\n",
       "</tr>\n",
       "<tr>\n",
       "  <th>estabs_exit_rate</th> <td>   -0.0286</td> <td>    0.001</td> <td>  -26.454</td> <td> 0.000</td> <td>   -0.031</td> <td>   -0.026</td>\n",
       "</tr>\n",
       "</table>"
      ],
      "text/plain": [
       "<class 'statsmodels.iolib.summary.Summary'>\n",
       "\"\"\"\n",
       "        Logit Marginal Effects       \n",
       "=====================================\n",
       "Dep. Variable:           pos_net_jobs\n",
       "Method:                          dydx\n",
       "At:                           overall\n",
       "====================================================================================\n",
       "                      dy/dx    std err          z      P>|z|      [0.025      0.975]\n",
       "------------------------------------------------------------------------------------\n",
       "pct_d_rgdp           0.0057      0.000     16.916      0.000       0.005       0.006\n",
       "estabs_exit_rate    -0.0286      0.001    -26.454      0.000      -0.031      -0.026\n",
       "====================================================================================\n",
       "\"\"\""
      ]
     },
     "execution_count": 14,
     "metadata": {},
     "output_type": "execute_result"
    }
   ],
   "source": [
    "sm.Logit(y_train, x_train[['const', 'pct_d_rgdp', 'estabs_exit_rate']]).fit().get_margeff().summary()"
   ]
  },
  {
   "cell_type": "code",
   "execution_count": 15,
   "metadata": {},
   "outputs": [
    {
     "data": {
      "text/plain": [
       "const               0.798882\n",
       "pct_d_rgdp          0.004872\n",
       "estabs_exit_rate   -0.027791\n",
       "dtype: float64"
      ]
     },
     "execution_count": 15,
     "metadata": {},
     "output_type": "execute_result"
    }
   ],
   "source": [
    "sm.OLS(y_train, x_train[['const', 'pct_d_rgdp', 'estabs_exit_rate']]).fit().params"
   ]
  },
  {
   "cell_type": "markdown",
   "metadata": {},
   "source": [
    "While these values are not identical, they are pretty close to one another. This is because OLS is always a first order approximation. Think/thank Taylor Series!"
   ]
  },
  {
   "cell_type": "markdown",
   "metadata": {},
   "source": [
    "*********\n",
    "### Logit Regularization \n",
    "[TOP](#Regression-Based-Classification)\n",
    "\n",
    "We can also perform regularization, much like OLS:"
   ]
  },
  {
   "cell_type": "raw",
   "metadata": {},
   "source": [
    "lm.LogisticRegression?"
   ]
  },
  {
   "cell_type": "code",
   "execution_count": 16,
   "metadata": {},
   "outputs": [
    {
     "name": "stdout",
     "output_type": "stream",
     "text": [
      "Wall time: 10.7 s\n"
     ]
    },
    {
     "data": {
      "text/plain": [
       "{'C': 0.01, 'l1_ratio': 0.2}"
      ]
     },
     "execution_count": 16,
     "metadata": {},
     "output_type": "execute_result"
    }
   ],
   "source": [
    "%%time\n",
    "param_grid = {\n",
    "    'C': 10.0**np.arange(-5, -1, step = 1),\n",
    "    'l1_ratio':  np.arange(0, 1, step = 0.1)\n",
    "}\n",
    "\n",
    "lr_cv = lm.LogisticRegression(penalty = 'elasticnet', solver = 'saga',\n",
    "                              max_iter = 1e3, random_state = 490)\n",
    "grid_search = GridSearchCV(lr_cv, param_grid, \n",
    "                          cv = 5, \n",
    "                          scoring = 'accuracy',\n",
    "                          n_jobs = 10)\n",
    "grid_search.fit(x_train_std, y_train)\n",
    "best = grid_search.best_params_\n",
    "best"
   ]
  },
  {
   "cell_type": "markdown",
   "metadata": {},
   "source": [
    "# $C = \\frac{1}{\\alpha}$ "
   ]
  },
  {
   "cell_type": "code",
   "execution_count": 17,
   "metadata": {},
   "outputs": [
    {
     "name": "stdout",
     "output_type": "stream",
     "text": [
      "Optimization terminated successfully    (Exit mode 0)\n",
      "            Current function value: 0.6141965372354353\n",
      "            Iterations: 45\n",
      "            Function evaluations: 46\n",
      "            Gradient evaluations: 45\n"
     ]
    },
    {
     "data": {
      "text/plain": [
       "const                0.246821\n",
       "pct_d_rgdp           0.120624\n",
       "emp_estabs           0.173485\n",
       "estabs_entry_rate    0.542312\n",
       "estabs_exit_rate    -0.410774\n",
       "pop                  0.031311\n",
       "pop_pct_black       -0.037813\n",
       "pop_pct_hisp         0.072487\n",
       "lfpr                 0.016614\n",
       "density              0.003289\n",
       "lower                0.140961\n",
       "similar              0.033833\n",
       "2003                 0.094805\n",
       "2004                 0.156656\n",
       "2005                 0.120683\n",
       "2006                 0.256414\n",
       "2007                 0.000000\n",
       "2008                 0.044686\n",
       "2009                -0.254350\n",
       "2010                -0.084895\n",
       "2011                 0.143128\n",
       "2012                 0.198579\n",
       "2013                 0.134284\n",
       "2014                 0.194389\n",
       "2015                 0.211146\n",
       "2016                 0.145626\n",
       "2017                 0.113280\n",
       "2018                 0.168774\n",
       "dtype: float64"
      ]
     },
     "execution_count": 17,
     "metadata": {},
     "output_type": "execute_result"
    }
   ],
   "source": [
    "# You will get convergence warnings\n",
    "# They are due to difficulty converging\n",
    "# We can address this by accepting some error\n",
    "# with our qc_tol\n",
    "# See below\n",
    "fit_logit_reg = sm.Logit(y_train, x_train_std\n",
    "                        ).fit_regularized(alpha = 1/best['C'],\n",
    "                                          L1_wt = best['l1_ratio'],\n",
    "                                          qc_tol = 1e3)\n",
    "fit_logit_reg.params"
   ]
  },
  {
   "cell_type": "markdown",
   "metadata": {},
   "source": [
    "****************\n",
    "## Logit Prediction Diagnostics\n",
    "[TOP](#Regression-Based-Classification)\n",
    "\n",
    "Here we are going to look at how to produce\n",
    "\n",
    "- accuracy\n",
    "- visualizing optimal threshold values\n",
    "- the confusion matrix"
   ]
  },
  {
   "cell_type": "code",
   "execution_count": 18,
   "metadata": {},
   "outputs": [
    {
     "data": {
      "text/plain": [
       "count    16709.000000\n",
       "mean         0.562992\n",
       "std          0.199280\n",
       "min          0.000559\n",
       "25%          0.435836\n",
       "50%          0.597314\n",
       "75%          0.712688\n",
       "max          0.999840\n",
       "dtype: float64"
      ]
     },
     "execution_count": 18,
     "metadata": {},
     "output_type": "execute_result"
    }
   ],
   "source": [
    "fit_logit.predict(x_test).describe()"
   ]
  },
  {
   "cell_type": "markdown",
   "metadata": {},
   "source": [
    "As you can see from the summary of `yhat`, `statsmodels` predicts the probabilities. **How do we know that to be true?**\n",
    "\n",
    "***\n",
    "\n",
    "To produce the **prediction** diagnostics, it is easier to use `sklearn`. \n",
    "\n",
    "********\n",
    "### Logit Null Model\n",
    "[TOP](#Regression-Based-Classification)\n",
    "\n",
    "In classification, the **null model** is simply predicting the most frequently occuring class."
   ]
  },
  {
   "cell_type": "code",
   "execution_count": 19,
   "metadata": {},
   "outputs": [
    {
     "data": {
      "text/plain": [
       "1.0    18754\n",
       "0.0    14664\n",
       "Name: pos_net_jobs, dtype: int64"
      ]
     },
     "execution_count": 19,
     "metadata": {},
     "output_type": "execute_result"
    }
   ],
   "source": [
    "y_train.value_counts()"
   ]
  },
  {
   "cell_type": "code",
   "execution_count": 20,
   "metadata": {},
   "outputs": [
    {
     "data": {
      "text/plain": [
       "0.562391525525166"
      ]
     },
     "execution_count": 20,
     "metadata": {},
     "output_type": "execute_result"
    }
   ],
   "source": [
    "acc_logit_null = np.mean(y_test == 1)\n",
    "acc_logit_null"
   ]
  },
  {
   "cell_type": "markdown",
   "metadata": {},
   "source": [
    "****\n",
    "### Logit Full Model\n",
    "[TOP](#Regression-Based-Classification)\n",
    "\n",
    "For the sake of exposition, we are simply going to use all of the features."
   ]
  },
  {
   "cell_type": "code",
   "execution_count": 21,
   "metadata": {},
   "outputs": [],
   "source": [
    "fit_logit_sk = lm.LogisticRegression().fit(x_train, y_train)"
   ]
  },
  {
   "cell_type": "code",
   "execution_count": 22,
   "metadata": {},
   "outputs": [],
   "source": [
    "yhat = fit_logit_sk.predict(x_test)"
   ]
  },
  {
   "cell_type": "code",
   "execution_count": 23,
   "metadata": {},
   "outputs": [
    {
     "data": {
      "text/plain": [
       "0.562391525525166"
      ]
     },
     "execution_count": 23,
     "metadata": {},
     "output_type": "execute_result"
    }
   ],
   "source": [
    "acc_logit = np.mean(yhat == y_test)\n",
    "acc_logit"
   ]
  },
  {
   "cell_type": "code",
   "execution_count": 24,
   "metadata": {},
   "outputs": [
    {
     "data": {
      "text/plain": [
       "0.0"
      ]
     },
     "execution_count": 24,
     "metadata": {},
     "output_type": "execute_result"
    }
   ],
   "source": [
    "(acc_logit - acc_logit_null)/acc_logit_null*100"
   ]
  },
  {
   "cell_type": "markdown",
   "metadata": {},
   "source": [
    "Let's take a look at the confusion matrix."
   ]
  },
  {
   "cell_type": "code",
   "execution_count": 25,
   "metadata": {},
   "outputs": [
    {
     "data": {
      "image/png": "[encoded data removed]",
      "text/plain": [
       "<Figure size 576x324 with 2 Axes>"
      ]
     },
     "metadata": {},
     "output_type": "display_data"
    }
   ],
   "source": [
    "plot_confusion_matrix(fit_logit_sk, x_test, y_test)\n",
    "plt.show()"
   ]
  },
  {
   "cell_type": "markdown",
   "metadata": {},
   "source": [
    "We may have to consider changing thresholds.\n",
    "\n",
    "***\n",
    "### Alternative Thresholds\n",
    "[TOP](#Regression-Based-Classification)\n",
    "\n",
    "We can use `sklearn` to predict probabilities. \n",
    "It will produce a column for each class you have.\n",
    "In this case, we have two classes. "
   ]
  },
  {
   "cell_type": "code",
   "execution_count": 26,
   "metadata": {},
   "outputs": [
    {
     "data": {
      "text/plain": [
       "array([[0.43727221, 0.56272779],\n",
       "       [0.42788686, 0.57211314],\n",
       "       [0.43320042, 0.56679958],\n",
       "       [0.45279396, 0.54720604],\n",
       "       [0.43947118, 0.56052882]])"
      ]
     },
     "execution_count": 26,
     "metadata": {},
     "output_type": "execute_result"
    }
   ],
   "source": [
    "yhat_proba = fit_logit_sk.predict_proba(x_test)\n",
    "yhat_proba[range(5), ]"
   ]
  },
  {
   "cell_type": "code",
   "execution_count": 27,
   "metadata": {},
   "outputs": [
    {
     "data": {
      "text/plain": [
       "0.5186664255680362"
      ]
     },
     "execution_count": 27,
     "metadata": {},
     "output_type": "execute_result"
    }
   ],
   "source": [
    "min(yhat_proba[:, 1])"
   ]
  },
  {
   "cell_type": "markdown",
   "metadata": {},
   "source": [
    "The minimum probability of being in a county with positive net job creation is greater than the default threshold of 50%! Indeed! We will have to cross-validate the threshold.\n",
    "\n",
    "There is no built in function to cross-validate the threshold for logit. \n",
    "We will have to manually set up the loops."
   ]
  },
  {
   "cell_type": "code",
   "execution_count": 28,
   "metadata": {},
   "outputs": [],
   "source": [
    "train = pd.merge(y_train, x_train, left_index = True, right_index = True)\n",
    "kf = KFold(n_splits = 5, random_state = 490, shuffle = True)\n",
    "alpha = np.round(    np.arange(0.5, 0.7, step = 0.01), 2    )"
   ]
  },
  {
   "cell_type": "code",
   "execution_count": 29,
   "metadata": {},
   "outputs": [
    {
     "name": "stderr",
     "output_type": "stream",
     "text": [
      "100%|██████████████████████████████████████████████████████████████████████████████████| 20/20 [00:15<00:00,  1.28it/s]\n"
     ]
    },
    {
     "data": {
      "text/plain": [
       "{0.5: 0.5890237007303382,\n",
       " 0.51: 0.5933327978409808,\n",
       " 0.52: 0.5981805796624123,\n",
       " 0.53: 0.6037165631814263,\n",
       " 0.54: 0.6054819014778245,\n",
       " 0.55: 0.6013224153785524,\n",
       " 0.56: 0.5841161595742137,\n",
       " 0.57: 0.5613143176237966,\n",
       " 0.58: 0.5409958214582531,\n",
       " 0.59: 0.5271705372107636,\n",
       " 0.6: 0.5145423022392266,\n",
       " 0.61: 0.5055649251792713,\n",
       " 0.62: 0.4992807433278593,\n",
       " 0.63: 0.493415602151748,\n",
       " 0.64: 0.4865929863217523,\n",
       " 0.65: 0.48087755465894916,\n",
       " 0.66: 0.4772866530859359,\n",
       " 0.67: 0.47414464723008515,\n",
       " 0.68: 0.47028453986118207,\n",
       " 0.69: 0.46714254296005314}"
      ]
     },
     "execution_count": 29,
     "metadata": {},
     "output_type": "execute_result"
    }
   ],
   "source": [
    "accuracy = {}\n",
    "\n",
    "for a in tqdm(alpha):\n",
    "    acc = []\n",
    "    for trn, tst in kf.split(train):\n",
    "        yhat = (lm.LogisticRegression(solver = 'liblinear'\n",
    "                                      ).fit(train.iloc[trn, 1:], train.iloc[trn, 0]\n",
    "                                           ).predict_proba(train.iloc[tst, 1:])[:, 1] > a)*1\n",
    "        acc.append(np.mean(yhat == train.iloc[tst, 0]))\n",
    "    accuracy[a] = np.mean(acc)\n",
    "    \n",
    "accuracy"
   ]
  },
  {
   "cell_type": "code",
   "execution_count": 30,
   "metadata": {},
   "outputs": [
    {
     "name": "stdout",
     "output_type": "stream",
     "text": [
      "max accuracy at alpha = 0.54\n"
     ]
    }
   ],
   "source": [
    "print('max accuracy at alpha = %s' % max(accuracy, key = accuracy.get))"
   ]
  },
  {
   "cell_type": "code",
   "execution_count": 31,
   "metadata": {},
   "outputs": [
    {
     "data": {
      "image/png": "[encoded data removed]",
      "text/plain": [
       "<Figure size 576x324 with 1 Axes>"
      ]
     },
     "metadata": {},
     "output_type": "display_data"
    }
   ],
   "source": [
    "plt.scatter(accuracy.keys(), accuracy.values())\n",
    "plt.show()"
   ]
  },
  {
   "cell_type": "markdown",
   "metadata": {},
   "source": [
    "The maximum is $\\alpha=0.54$. However, from the figure, it looks like we can choose either 0.54 or 0.55. Since the accuracy drops off quickly to the right, we may be safer using 0.54.\n",
    "\n",
    "Because we have adjusted the threshold, we need to manually calculate the confusion matrix."
   ]
  },
  {
   "cell_type": "code",
   "execution_count": 32,
   "metadata": {},
   "outputs": [
    {
     "name": "stdout",
     "output_type": "stream",
     "text": [
      "[[ 157 7155]\n",
      " [ 122 9275]]\n",
      "0.5644862050392004\n",
      "0.5644862050392004 \n",
      "\n"
     ]
    }
   ],
   "source": [
    "best_alpha = max(accuracy, key = accuracy.get)\n",
    "yhat_class = (yhat_proba[:, 1] >= best_alpha)*1\n",
    "\n",
    "TN = sum(((y_test == yhat_class) & (y_test == 0))*1)\n",
    "FP = sum(((y_test != yhat_class) & (y_test == 0))*1)\n",
    "FN = sum(((y_test != yhat_class) & (y_test == 1))*1)\n",
    "TP = sum(((y_test == yhat_class) & (y_test == 1))*1)\n",
    "\n",
    "print(np.array([[TN, FP],[FN, TP]]))\n",
    "print((TN + TP)/(TN + FN + FP + TP))\n",
    "acc_logit_54 = np.mean(yhat_class == y_test)\n",
    "print(acc_logit_54, '\\n')"
   ]
  },
  {
   "cell_type": "markdown",
   "metadata": {},
   "source": [
    "Finally, we can compute the percent improvement from the null model."
   ]
  },
  {
   "cell_type": "code",
   "execution_count": 33,
   "metadata": {},
   "outputs": [
    {
     "data": {
      "text/plain": [
       "0.37"
      ]
     },
     "execution_count": 33,
     "metadata": {},
     "output_type": "execute_result"
    }
   ],
   "source": [
    "round(  (acc_logit_54 - acc_logit_null)/acc_logit_null*100, 2)"
   ]
  },
  {
   "cell_type": "markdown",
   "metadata": {},
   "source": [
    "It looks we have improved our prediction by just over 8%."
   ]
  },
  {
   "cell_type": "markdown",
   "metadata": {},
   "source": [
    "************\n",
    "# Multinomial Logistic Regression \n",
    "[TOP](#Regression-Based-Classification)\n",
    "\n",
    "We need to adjust features and labels to retreive our multiclass label. It is easier to start from scratch. \n",
    "\n",
    "Because logisitc functions struggle with many dummy variables, we are going to simply drop the fixed effects.\n",
    "\n",
    "We will be converting the categorical label to a `category` type of object prior to splitting. This is to ensure consistent labels in the training and testing data."
   ]
  },
  {
   "cell_type": "code",
   "execution_count": 34,
   "metadata": {},
   "outputs": [
    {
     "name": "stdout",
     "output_type": "stream",
     "text": [
      "<class 'pandas.core.frame.DataFrame'>\n",
      "MultiIndex: 50127 entries, (1001, 2002) to (56045, 2018)\n",
      "Data columns (total 12 columns):\n",
      " #   Column             Non-Null Count  Dtype   \n",
      "---  ------             --------------  -----   \n",
      " 0   GeoName            50127 non-null  object  \n",
      " 1   pct_d_rgdp         50127 non-null  float64 \n",
      " 2   urate_bin          50127 non-null  category\n",
      " 3   pos_net_jobs       50127 non-null  int32   \n",
      " 4   emp_estabs         50127 non-null  float64 \n",
      " 5   estabs_entry_rate  50127 non-null  float64 \n",
      " 6   estabs_exit_rate   50127 non-null  float64 \n",
      " 7   pop                50127 non-null  float64 \n",
      " 8   pop_pct_black      50127 non-null  float64 \n",
      " 9   pop_pct_hisp       50127 non-null  float64 \n",
      " 10  lfpr               50127 non-null  float64 \n",
      " 11  density            50127 non-null  float64 \n",
      "dtypes: category(1), float64(9), int32(1), object(1)\n",
      "memory usage: 5.6+ MB\n"
     ]
    }
   ],
   "source": [
    "df_prepped = df.drop(columns = 'year')\n",
    "df_prepped['urate_bin'] = df_prepped['urate_bin'].astype('category')\n",
    "df_prepped.info()"
   ]
  },
  {
   "cell_type": "code",
   "execution_count": 35,
   "metadata": {},
   "outputs": [
    {
     "data": {
      "text/plain": [
       "fips  year\n",
       "1001  2002     lower\n",
       "      2003     lower\n",
       "      2004     lower\n",
       "      2005    higher\n",
       "      2006    higher\n",
       "Name: urate_bin, dtype: category\n",
       "Categories (3, object): ['higher', 'lower', 'similar']"
      ]
     },
     "execution_count": 35,
     "metadata": {},
     "output_type": "execute_result"
    }
   ],
   "source": [
    "df_prepped['urate_bin'].head()"
   ]
  },
  {
   "cell_type": "code",
   "execution_count": 36,
   "metadata": {},
   "outputs": [
    {
     "data": {
      "text/plain": [
       "fips  year\n",
       "1001  2002    1\n",
       "      2003    1\n",
       "      2004    1\n",
       "      2005    0\n",
       "      2006    0\n",
       "dtype: int8"
      ]
     },
     "execution_count": 36,
     "metadata": {},
     "output_type": "execute_result"
    }
   ],
   "source": [
    "df_prepped['urate_bin'].cat.codes.head()"
   ]
  },
  {
   "cell_type": "code",
   "execution_count": 40,
   "metadata": {},
   "outputs": [],
   "source": [
    "y = df_prepped['urate_bin']\n",
    "x = df_prepped.drop(columns = ['urate_bin', 'GeoName'])\n",
    "\n",
    "x_train, x_test, y_train, y_test = train_test_split(x, y, train_size = 2/3, random_state = 490)\n",
    "\n",
    "x_train_std = x_train.apply(lambda x: (x - np.mean(x))/np.std(x), axis = 0)\n",
    "x_test_std  = x_test.apply(lambda x: (x - np.mean(x))/np.std(x), axis = 0)\n",
    "\n",
    "x_train_std = sm.add_constant(x_train_std)\n",
    "x_test_std  = sm.add_constant(x_test_std)\n",
    "x_train     = sm.add_constant(x_train)\n",
    "x_test      = sm.add_constant(x_test)"
   ]
  },
  {
   "cell_type": "markdown",
   "metadata": {},
   "source": [
    "*****************\n",
    "## MN Logit Inference\n",
    "[TOP](#Regression-Based-Classification)"
   ]
  },
  {
   "cell_type": "code",
   "execution_count": 41,
   "metadata": {},
   "outputs": [
    {
     "name": "stdout",
     "output_type": "stream",
     "text": [
      "Optimization terminated successfully.\n",
      "         Current function value: 0.903926\n",
      "         Iterations 6\n"
     ]
    }
   ],
   "source": [
    "fit_mnlogit = sm.MNLogit(y_train, x_train).fit(maxiter = 150)"
   ]
  },
  {
   "cell_type": "code",
   "execution_count": 42,
   "metadata": {},
   "outputs": [
    {
     "data": {
      "text/html": [
       "<table class=\"simpletable\">\n",
       "<tr>\n",
       "        <td>Model:</td>             <td>MNLogit</td>     <td>Pseudo R-squared:</td>    <td>0.131</td>  \n",
       "</tr>\n",
       "<tr>\n",
       "  <td>Dependent Variable:</td>     <td>urate_bin</td>          <td>AIC:</td>        <td>60458.7757</td>\n",
       "</tr>\n",
       "<tr>\n",
       "         <td>Date:</td>        <td>2021-03-02 14:29</td>       <td>BIC:</td>        <td>60643.9464</td>\n",
       "</tr>\n",
       "<tr>\n",
       "   <td>No. Observations:</td>        <td>33418</td>       <td>Log-Likelihood:</td>    <td>-30207.</td> \n",
       "</tr>\n",
       "<tr>\n",
       "       <td>Df Model:</td>             <td>20</td>            <td>LL-Null:</td>        <td>-34744.</td> \n",
       "</tr>\n",
       "<tr>\n",
       "     <td>Df Residuals:</td>          <td>33396</td>        <td>LLR p-value:</td>      <td>0.0000</td>  \n",
       "</tr>\n",
       "<tr>\n",
       "      <td>Converged:</td>           <td>1.0000</td>           <td>Scale:</td>         <td>1.0000</td>  \n",
       "</tr>\n",
       "<tr>\n",
       "    <td>No. Iterations:</td>        <td>6.0000</td>              <td></td>               <td></td>     \n",
       "</tr>\n",
       "</table>\n",
       "<table class=\"simpletable\">\n",
       "<tr>\n",
       "    <th>urate_bin = 0</th>    <th>Coef.</th>  <th>Std.Err.</th>     <th>t</th>     <th>P>|t|</th> <th>[0.025</th>  <th>0.975]</th> \n",
       "</tr>\n",
       "<tr>\n",
       "        <td>const</td>       <td>-8.3683</td>  <td>0.1672</td>  <td>-50.0637</td> <td>0.0000</td> <td>-8.6959</td> <td>-8.0407</td>\n",
       "</tr>\n",
       "<tr>\n",
       "     <td>pct_d_rgdp</td>     <td>0.0072</td>   <td>0.0016</td>   <td>4.4722</td>  <td>0.0000</td> <td>0.0040</td>  <td>0.0103</td> \n",
       "</tr>\n",
       "<tr>\n",
       "    <td>pos_net_jobs</td>    <td>0.1640</td>   <td>0.0295</td>   <td>5.5591</td>  <td>0.0000</td> <td>0.1062</td>  <td>0.2218</td> \n",
       "</tr>\n",
       "<tr>\n",
       "     <td>emp_estabs</td>     <td>0.0171</td>   <td>0.0033</td>   <td>5.1468</td>  <td>0.0000</td> <td>0.0106</td>  <td>0.0236</td> \n",
       "</tr>\n",
       "<tr>\n",
       "  <td>estabs_entry_rate</td> <td>-0.0323</td>  <td>0.0054</td>   <td>-5.9356</td> <td>0.0000</td> <td>-0.0429</td> <td>-0.0216</td>\n",
       "</tr>\n",
       "<tr>\n",
       "  <td>estabs_exit_rate</td>  <td>-0.0973</td>  <td>0.0066</td>  <td>-14.7237</td> <td>0.0000</td> <td>-0.1103</td> <td>-0.0844</td>\n",
       "</tr>\n",
       "<tr>\n",
       "         <td>pop</td>        <td>0.0000</td>   <td>0.0000</td>   <td>1.7132</td>  <td>0.0867</td> <td>-0.0000</td> <td>0.0000</td> \n",
       "</tr>\n",
       "<tr>\n",
       "    <td>pop_pct_black</td>   <td>-0.0155</td>  <td>0.0013</td>  <td>-11.6562</td> <td>0.0000</td> <td>-0.0181</td> <td>-0.0129</td>\n",
       "</tr>\n",
       "<tr>\n",
       "    <td>pop_pct_hisp</td>    <td>0.0134</td>   <td>0.0011</td>   <td>12.4767</td> <td>0.0000</td> <td>0.0113</td>  <td>0.0155</td> \n",
       "</tr>\n",
       "<tr>\n",
       "        <td>lfpr</td>        <td>0.1174</td>   <td>0.0018</td>   <td>64.2527</td> <td>0.0000</td> <td>0.1138</td>  <td>0.1210</td> \n",
       "</tr>\n",
       "<tr>\n",
       "       <td>density</td>      <td>0.0000</td>   <td>0.0000</td>   <td>1.6576</td>  <td>0.0974</td> <td>-0.0000</td> <td>0.0000</td> \n",
       "</tr>\n",
       "</table>\n",
       "<table class=\"simpletable\">\n",
       "<tr>\n",
       "    <th>urate_bin = 1</th>    <th>Coef.</th>  <th>Std.Err.</th>     <th>t</th>     <th>P>|t|</th> <th>[0.025</th>  <th>0.975]</th> \n",
       "</tr>\n",
       "<tr>\n",
       "        <td>const</td>       <td>-2.5876</td>  <td>0.1636</td>  <td>-15.8190</td> <td>0.0000</td> <td>-2.9082</td> <td>-2.2670</td>\n",
       "</tr>\n",
       "<tr>\n",
       "     <td>pct_d_rgdp</td>     <td>0.0003</td>   <td>0.0019</td>   <td>0.1329</td>  <td>0.8943</td> <td>-0.0036</td> <td>0.0041</td> \n",
       "</tr>\n",
       "<tr>\n",
       "    <td>pos_net_jobs</td>    <td>0.0684</td>   <td>0.0328</td>   <td>2.0866</td>  <td>0.0369</td> <td>0.0042</td>  <td>0.1327</td> \n",
       "</tr>\n",
       "<tr>\n",
       "     <td>emp_estabs</td>     <td>0.0348</td>   <td>0.0035</td>   <td>9.9104</td>  <td>0.0000</td> <td>0.0280</td>  <td>0.0417</td> \n",
       "</tr>\n",
       "<tr>\n",
       "  <td>estabs_entry_rate</td> <td>-0.0460</td>  <td>0.0063</td>   <td>-7.2651</td> <td>0.0000</td> <td>-0.0584</td> <td>-0.0336</td>\n",
       "</tr>\n",
       "<tr>\n",
       "  <td>estabs_exit_rate</td>  <td>-0.0642</td>  <td>0.0074</td>   <td>-8.6752</td> <td>0.0000</td> <td>-0.0788</td> <td>-0.0497</td>\n",
       "</tr>\n",
       "<tr>\n",
       "         <td>pop</td>        <td>0.0000</td>   <td>0.0000</td>   <td>3.9790</td>  <td>0.0001</td> <td>0.0000</td>  <td>0.0000</td> \n",
       "</tr>\n",
       "<tr>\n",
       "    <td>pop_pct_black</td>   <td>-0.0105</td>  <td>0.0012</td>   <td>-8.8689</td> <td>0.0000</td> <td>-0.0128</td> <td>-0.0081</td>\n",
       "</tr>\n",
       "<tr>\n",
       "    <td>pop_pct_hisp</td>    <td>0.0008</td>   <td>0.0013</td>   <td>0.6447</td>  <td>0.5191</td> <td>-0.0017</td> <td>0.0034</td> \n",
       "</tr>\n",
       "<tr>\n",
       "        <td>lfpr</td>        <td>0.0311</td>   <td>0.0018</td>   <td>16.9901</td> <td>0.0000</td> <td>0.0275</td>  <td>0.0347</td> \n",
       "</tr>\n",
       "<tr>\n",
       "       <td>density</td>      <td>0.0000</td>   <td>0.0000</td>   <td>1.8560</td>  <td>0.0634</td> <td>-0.0000</td> <td>0.0000</td> \n",
       "</tr>\n",
       "</table>"
      ],
      "text/plain": [
       "<class 'statsmodels.iolib.summary2.Summary'>\n",
       "\"\"\"\n",
       "                         Results: MNLogit\n",
       "==================================================================\n",
       "Model:               MNLogit          Pseudo R-squared: 0.131     \n",
       "Dependent Variable:  urate_bin        AIC:              60458.7757\n",
       "Date:                2021-03-02 14:29 BIC:              60643.9464\n",
       "No. Observations:    33418            Log-Likelihood:   -30207.   \n",
       "Df Model:            20               LL-Null:          -34744.   \n",
       "Df Residuals:        33396            LLR p-value:      0.0000    \n",
       "Converged:           1.0000           Scale:            1.0000    \n",
       "No. Iterations:      6.0000                                       \n",
       "------------------------------------------------------------------\n",
       "  urate_bin = 0    Coef.  Std.Err.    t     P>|t|   [0.025  0.975]\n",
       "------------------------------------------------------------------\n",
       "            const -8.3683   0.1672 -50.0637 0.0000 -8.6959 -8.0407\n",
       "       pct_d_rgdp  0.0072   0.0016   4.4722 0.0000  0.0040  0.0103\n",
       "     pos_net_jobs  0.1640   0.0295   5.5591 0.0000  0.1062  0.2218\n",
       "       emp_estabs  0.0171   0.0033   5.1468 0.0000  0.0106  0.0236\n",
       "estabs_entry_rate -0.0323   0.0054  -5.9356 0.0000 -0.0429 -0.0216\n",
       " estabs_exit_rate -0.0973   0.0066 -14.7237 0.0000 -0.1103 -0.0844\n",
       "              pop  0.0000   0.0000   1.7132 0.0867 -0.0000  0.0000\n",
       "    pop_pct_black -0.0155   0.0013 -11.6562 0.0000 -0.0181 -0.0129\n",
       "     pop_pct_hisp  0.0134   0.0011  12.4767 0.0000  0.0113  0.0155\n",
       "             lfpr  0.1174   0.0018  64.2527 0.0000  0.1138  0.1210\n",
       "          density  0.0000   0.0000   1.6576 0.0974 -0.0000  0.0000\n",
       "------------------------------------------------------------------\n",
       "  urate_bin = 1    Coef.  Std.Err.    t     P>|t|   [0.025  0.975]\n",
       "------------------------------------------------------------------\n",
       "            const -2.5876   0.1636 -15.8190 0.0000 -2.9082 -2.2670\n",
       "       pct_d_rgdp  0.0003   0.0019   0.1329 0.8943 -0.0036  0.0041\n",
       "     pos_net_jobs  0.0684   0.0328   2.0866 0.0369  0.0042  0.1327\n",
       "       emp_estabs  0.0348   0.0035   9.9104 0.0000  0.0280  0.0417\n",
       "estabs_entry_rate -0.0460   0.0063  -7.2651 0.0000 -0.0584 -0.0336\n",
       " estabs_exit_rate -0.0642   0.0074  -8.6752 0.0000 -0.0788 -0.0497\n",
       "              pop  0.0000   0.0000   3.9790 0.0001  0.0000  0.0000\n",
       "    pop_pct_black -0.0105   0.0012  -8.8689 0.0000 -0.0128 -0.0081\n",
       "     pop_pct_hisp  0.0008   0.0013   0.6447 0.5191 -0.0017  0.0034\n",
       "             lfpr  0.0311   0.0018  16.9901 0.0000  0.0275  0.0347\n",
       "          density  0.0000   0.0000   1.8560 0.0634 -0.0000  0.0000\n",
       "==================================================================\n",
       "\n",
       "\"\"\""
      ]
     },
     "execution_count": 42,
     "metadata": {},
     "output_type": "execute_result"
    }
   ],
   "source": [
    "fit_mnlogit.summary2()"
   ]
  },
  {
   "cell_type": "code",
   "execution_count": 43,
   "metadata": {},
   "outputs": [
    {
     "data": {
      "text/plain": [
       "Index(['higher', 'lower', 'similar'], dtype='object')"
      ]
     },
     "execution_count": 43,
     "metadata": {},
     "output_type": "execute_result"
    }
   ],
   "source": [
    "y_train.cat.categories"
   ]
  },
  {
   "cell_type": "markdown",
   "metadata": {},
   "source": [
    "We can see that the baseline class is 2, which is `similar`.\n",
    "\n",
    "We can change the category levels if we wish:"
   ]
  },
  {
   "cell_type": "code",
   "execution_count": 44,
   "metadata": {},
   "outputs": [
    {
     "name": "stdout",
     "output_type": "stream",
     "text": [
      "Optimization terminated successfully.\n",
      "         Current function value: 0.903926\n",
      "         Iterations 6\n"
     ]
    },
    {
     "data": {
      "text/html": [
       "<table class=\"simpletable\">\n",
       "<tr>\n",
       "        <td>Model:</td>             <td>MNLogit</td>     <td>Pseudo R-squared:</td>    <td>0.131</td>  \n",
       "</tr>\n",
       "<tr>\n",
       "  <td>Dependent Variable:</td>     <td>urate_bin</td>          <td>AIC:</td>        <td>60458.7757</td>\n",
       "</tr>\n",
       "<tr>\n",
       "         <td>Date:</td>        <td>2021-03-02 14:29</td>       <td>BIC:</td>        <td>60643.9464</td>\n",
       "</tr>\n",
       "<tr>\n",
       "   <td>No. Observations:</td>        <td>33418</td>       <td>Log-Likelihood:</td>    <td>-30207.</td> \n",
       "</tr>\n",
       "<tr>\n",
       "       <td>Df Model:</td>             <td>20</td>            <td>LL-Null:</td>        <td>-34744.</td> \n",
       "</tr>\n",
       "<tr>\n",
       "     <td>Df Residuals:</td>          <td>33396</td>        <td>LLR p-value:</td>      <td>0.0000</td>  \n",
       "</tr>\n",
       "<tr>\n",
       "      <td>Converged:</td>           <td>1.0000</td>           <td>Scale:</td>         <td>1.0000</td>  \n",
       "</tr>\n",
       "<tr>\n",
       "    <td>No. Iterations:</td>        <td>6.0000</td>              <td></td>               <td></td>     \n",
       "</tr>\n",
       "</table>\n",
       "<table class=\"simpletable\">\n",
       "<tr>\n",
       "    <th>urate_bin = 0</th>    <th>Coef.</th>  <th>Std.Err.</th>     <th>t</th>     <th>P>|t|</th> <th>[0.025</th>  <th>0.975]</th> \n",
       "</tr>\n",
       "<tr>\n",
       "        <td>const</td>       <td>5.7807</td>   <td>0.1909</td>   <td>30.2756</td> <td>0.0000</td> <td>5.4065</td>  <td>6.1549</td> \n",
       "</tr>\n",
       "<tr>\n",
       "     <td>pct_d_rgdp</td>     <td>-0.0069</td>  <td>0.0020</td>   <td>-3.5133</td> <td>0.0004</td> <td>-0.0108</td> <td>-0.0031</td>\n",
       "</tr>\n",
       "<tr>\n",
       "    <td>pos_net_jobs</td>    <td>-0.0956</td>  <td>0.0347</td>   <td>-2.7529</td> <td>0.0059</td> <td>-0.1636</td> <td>-0.0275</td>\n",
       "</tr>\n",
       "<tr>\n",
       "     <td>emp_estabs</td>     <td>0.0178</td>   <td>0.0036</td>   <td>4.8653</td>  <td>0.0000</td> <td>0.0106</td>  <td>0.0249</td> \n",
       "</tr>\n",
       "<tr>\n",
       "  <td>estabs_entry_rate</td> <td>-0.0137</td>  <td>0.0067</td>   <td>-2.0400</td> <td>0.0413</td> <td>-0.0269</td> <td>-0.0005</td>\n",
       "</tr>\n",
       "<tr>\n",
       "  <td>estabs_exit_rate</td>  <td>0.0331</td>   <td>0.0081</td>   <td>4.1048</td>  <td>0.0000</td> <td>0.0173</td>  <td>0.0489</td> \n",
       "</tr>\n",
       "<tr>\n",
       "         <td>pop</td>        <td>0.0000</td>   <td>0.0000</td>   <td>2.4715</td>  <td>0.0135</td> <td>0.0000</td>  <td>0.0000</td> \n",
       "</tr>\n",
       "<tr>\n",
       "    <td>pop_pct_black</td>   <td>0.0051</td>   <td>0.0015</td>   <td>3.2881</td>  <td>0.0010</td> <td>0.0021</td>  <td>0.0081</td> \n",
       "</tr>\n",
       "<tr>\n",
       "    <td>pop_pct_hisp</td>    <td>-0.0126</td>  <td>0.0013</td>   <td>-9.5398</td> <td>0.0000</td> <td>-0.0152</td> <td>-0.0100</td>\n",
       "</tr>\n",
       "<tr>\n",
       "        <td>lfpr</td>        <td>-0.0863</td>  <td>0.0021</td>  <td>-42.0772</td> <td>0.0000</td> <td>-0.0903</td> <td>-0.0823</td>\n",
       "</tr>\n",
       "<tr>\n",
       "       <td>density</td>      <td>0.0000</td>   <td>0.0000</td>   <td>0.2169</td>  <td>0.8283</td> <td>-0.0000</td> <td>0.0000</td> \n",
       "</tr>\n",
       "</table>\n",
       "<table class=\"simpletable\">\n",
       "<tr>\n",
       "    <th>urate_bin = 1</th>    <th>Coef.</th>  <th>Std.Err.</th>     <th>t</th>     <th>P>|t|</th> <th>[0.025</th>  <th>0.975]</th> \n",
       "</tr>\n",
       "<tr>\n",
       "        <td>const</td>       <td>8.3683</td>   <td>0.1672</td>   <td>50.0637</td> <td>0.0000</td> <td>8.0407</td>  <td>8.6959</td> \n",
       "</tr>\n",
       "<tr>\n",
       "     <td>pct_d_rgdp</td>     <td>-0.0072</td>  <td>0.0016</td>   <td>-4.4722</td> <td>0.0000</td> <td>-0.0103</td> <td>-0.0040</td>\n",
       "</tr>\n",
       "<tr>\n",
       "    <td>pos_net_jobs</td>    <td>-0.1640</td>  <td>0.0295</td>   <td>-5.5591</td> <td>0.0000</td> <td>-0.2218</td> <td>-0.1062</td>\n",
       "</tr>\n",
       "<tr>\n",
       "     <td>emp_estabs</td>     <td>-0.0171</td>  <td>0.0033</td>   <td>-5.1468</td> <td>0.0000</td> <td>-0.0236</td> <td>-0.0106</td>\n",
       "</tr>\n",
       "<tr>\n",
       "  <td>estabs_entry_rate</td> <td>0.0323</td>   <td>0.0054</td>   <td>5.9356</td>  <td>0.0000</td> <td>0.0216</td>  <td>0.0429</td> \n",
       "</tr>\n",
       "<tr>\n",
       "  <td>estabs_exit_rate</td>  <td>0.0973</td>   <td>0.0066</td>   <td>14.7237</td> <td>0.0000</td> <td>0.0844</td>  <td>0.1103</td> \n",
       "</tr>\n",
       "<tr>\n",
       "         <td>pop</td>        <td>-0.0000</td>  <td>0.0000</td>   <td>-1.7132</td> <td>0.0867</td> <td>-0.0000</td> <td>0.0000</td> \n",
       "</tr>\n",
       "<tr>\n",
       "    <td>pop_pct_black</td>   <td>0.0155</td>   <td>0.0013</td>   <td>11.6562</td> <td>0.0000</td> <td>0.0129</td>  <td>0.0181</td> \n",
       "</tr>\n",
       "<tr>\n",
       "    <td>pop_pct_hisp</td>    <td>-0.0134</td>  <td>0.0011</td>  <td>-12.4767</td> <td>0.0000</td> <td>-0.0155</td> <td>-0.0113</td>\n",
       "</tr>\n",
       "<tr>\n",
       "        <td>lfpr</td>        <td>-0.1174</td>  <td>0.0018</td>  <td>-64.2527</td> <td>0.0000</td> <td>-0.1210</td> <td>-0.1138</td>\n",
       "</tr>\n",
       "<tr>\n",
       "       <td>density</td>      <td>-0.0000</td>  <td>0.0000</td>   <td>-1.6576</td> <td>0.0974</td> <td>-0.0000</td> <td>0.0000</td> \n",
       "</tr>\n",
       "</table>"
      ],
      "text/plain": [
       "<class 'statsmodels.iolib.summary2.Summary'>\n",
       "\"\"\"\n",
       "                         Results: MNLogit\n",
       "==================================================================\n",
       "Model:               MNLogit          Pseudo R-squared: 0.131     \n",
       "Dependent Variable:  urate_bin        AIC:              60458.7757\n",
       "Date:                2021-03-02 14:29 BIC:              60643.9464\n",
       "No. Observations:    33418            Log-Likelihood:   -30207.   \n",
       "Df Model:            20               LL-Null:          -34744.   \n",
       "Df Residuals:        33396            LLR p-value:      0.0000    \n",
       "Converged:           1.0000           Scale:            1.0000    \n",
       "No. Iterations:      6.0000                                       \n",
       "------------------------------------------------------------------\n",
       "  urate_bin = 0    Coef.  Std.Err.    t     P>|t|   [0.025  0.975]\n",
       "------------------------------------------------------------------\n",
       "            const  5.7807   0.1909  30.2756 0.0000  5.4065  6.1549\n",
       "       pct_d_rgdp -0.0069   0.0020  -3.5133 0.0004 -0.0108 -0.0031\n",
       "     pos_net_jobs -0.0956   0.0347  -2.7529 0.0059 -0.1636 -0.0275\n",
       "       emp_estabs  0.0178   0.0036   4.8653 0.0000  0.0106  0.0249\n",
       "estabs_entry_rate -0.0137   0.0067  -2.0400 0.0413 -0.0269 -0.0005\n",
       " estabs_exit_rate  0.0331   0.0081   4.1048 0.0000  0.0173  0.0489\n",
       "              pop  0.0000   0.0000   2.4715 0.0135  0.0000  0.0000\n",
       "    pop_pct_black  0.0051   0.0015   3.2881 0.0010  0.0021  0.0081\n",
       "     pop_pct_hisp -0.0126   0.0013  -9.5398 0.0000 -0.0152 -0.0100\n",
       "             lfpr -0.0863   0.0021 -42.0772 0.0000 -0.0903 -0.0823\n",
       "          density  0.0000   0.0000   0.2169 0.8283 -0.0000  0.0000\n",
       "------------------------------------------------------------------\n",
       "  urate_bin = 1    Coef.  Std.Err.    t     P>|t|   [0.025  0.975]\n",
       "------------------------------------------------------------------\n",
       "            const  8.3683   0.1672  50.0637 0.0000  8.0407  8.6959\n",
       "       pct_d_rgdp -0.0072   0.0016  -4.4722 0.0000 -0.0103 -0.0040\n",
       "     pos_net_jobs -0.1640   0.0295  -5.5591 0.0000 -0.2218 -0.1062\n",
       "       emp_estabs -0.0171   0.0033  -5.1468 0.0000 -0.0236 -0.0106\n",
       "estabs_entry_rate  0.0323   0.0054   5.9356 0.0000  0.0216  0.0429\n",
       " estabs_exit_rate  0.0973   0.0066  14.7237 0.0000  0.0844  0.1103\n",
       "              pop -0.0000   0.0000  -1.7132 0.0867 -0.0000  0.0000\n",
       "    pop_pct_black  0.0155   0.0013  11.6562 0.0000  0.0129  0.0181\n",
       "     pop_pct_hisp -0.0134   0.0011 -12.4767 0.0000 -0.0155 -0.0113\n",
       "             lfpr -0.1174   0.0018 -64.2527 0.0000 -0.1210 -0.1138\n",
       "          density -0.0000   0.0000  -1.6576 0.0974 -0.0000  0.0000\n",
       "==================================================================\n",
       "\n",
       "\"\"\""
      ]
     },
     "execution_count": 44,
     "metadata": {},
     "output_type": "execute_result"
    }
   ],
   "source": [
    "fit_mnlogit = sm.MNLogit(y_train.cat.set_categories(new_categories = ['lower', 'similar', 'higher']),\n",
    "                                                    x_train).fit(maxiter = 150)\n",
    "fit_mnlogit.summary2()"
   ]
  },
  {
   "cell_type": "markdown",
   "metadata": {},
   "source": [
    "***********\n",
    "### MN Logit Marginal Effects\n",
    "[TOP](#Regression-Based-Classification)"
   ]
  },
  {
   "cell_type": "code",
   "execution_count": 45,
   "metadata": {},
   "outputs": [
    {
     "data": {
      "text/html": [
       "<table class=\"simpletable\">\n",
       "<caption>MNLogit Marginal Effects</caption>\n",
       "<tr>\n",
       "  <th>Dep. Variable:</th> <td>urate_bin</td>\n",
       "</tr>\n",
       "<tr>\n",
       "  <th>Method:</th>          <td>dydx</td>   \n",
       "</tr>\n",
       "<tr>\n",
       "  <th>At:</th>             <td>overall</td> \n",
       "</tr>\n",
       "</table>\n",
       "<table class=\"simpletable\">\n",
       "<tr>\n",
       "   <th>urate_bin=lower</th>     <th>dy/dx</th>    <th>std err</th>      <th>z</th>      <th>P>|z|</th>  <th>[0.025</th>    <th>0.975]</th>  \n",
       "</tr>\n",
       "<tr>\n",
       "  <th>pct_d_rgdp</th>        <td>    0.0013</td> <td>    0.000</td> <td>    4.821</td> <td> 0.000</td> <td>    0.001</td> <td>    0.002</td>\n",
       "</tr>\n",
       "<tr>\n",
       "  <th>pos_net_jobs</th>      <td>    0.0257</td> <td>    0.005</td> <td>    5.158</td> <td> 0.000</td> <td>    0.016</td> <td>    0.036</td>\n",
       "</tr>\n",
       "<tr>\n",
       "  <th>emp_estabs</th>        <td>    0.0009</td> <td>    0.001</td> <td>    1.687</td> <td> 0.092</td> <td>   -0.000</td> <td>    0.002</td>\n",
       "</tr>\n",
       "<tr>\n",
       "  <th>estabs_entry_rate</th> <td>   -0.0030</td> <td>    0.001</td> <td>   -3.221</td> <td> 0.001</td> <td>   -0.005</td> <td>   -0.001</td>\n",
       "</tr>\n",
       "<tr>\n",
       "  <th>estabs_exit_rate</th>  <td>   -0.0138</td> <td>    0.001</td> <td>  -12.196</td> <td> 0.000</td> <td>   -0.016</td> <td>   -0.012</td>\n",
       "</tr>\n",
       "<tr>\n",
       "  <th>pop</th>               <td> 2.883e-09</td> <td> 7.59e-09</td> <td>    0.380</td> <td> 0.704</td> <td> -1.2e-08</td> <td> 1.78e-08</td>\n",
       "</tr>\n",
       "<tr>\n",
       "  <th>pop_pct_black</th>     <td>   -0.0022</td> <td>    0.000</td> <td>   -9.258</td> <td> 0.000</td> <td>   -0.003</td> <td>   -0.002</td>\n",
       "</tr>\n",
       "<tr>\n",
       "  <th>pop_pct_hisp</th>      <td>    0.0024</td> <td>    0.000</td> <td>   13.395</td> <td> 0.000</td> <td>    0.002</td> <td>    0.003</td>\n",
       "</tr>\n",
       "<tr>\n",
       "  <th>lfpr</th>              <td>    0.0195</td> <td>    0.000</td> <td>   82.444</td> <td> 0.000</td> <td>    0.019</td> <td>    0.020</td>\n",
       "</tr>\n",
       "<tr>\n",
       "  <th>density</th>           <td> 1.585e-06</td> <td> 1.33e-06</td> <td>    1.192</td> <td> 0.233</td> <td>-1.02e-06</td> <td> 4.19e-06</td>\n",
       "</tr>\n",
       "<tr>\n",
       "  <th>urate_bin=similar</th>    <th>dy/dx</th>    <th>std err</th>      <th>z</th>      <th>P>|z|</th>  <th>[0.025</th>    <th>0.975]</th>  \n",
       "</tr>\n",
       "<tr>\n",
       "  <th>pct_d_rgdp</th>        <td>   -0.0004</td> <td>    0.000</td> <td>   -1.590</td> <td> 0.112</td> <td>   -0.001</td> <td> 9.68e-05</td>\n",
       "</tr>\n",
       "<tr>\n",
       "  <th>pos_net_jobs</th>      <td>   -0.0004</td> <td>    0.004</td> <td>   -0.082</td> <td> 0.935</td> <td>   -0.009</td> <td>    0.008</td>\n",
       "</tr>\n",
       "<tr>\n",
       "  <th>emp_estabs</th>        <td>    0.0040</td> <td>    0.000</td> <td>    8.686</td> <td> 0.000</td> <td>    0.003</td> <td>    0.005</td>\n",
       "</tr>\n",
       "<tr>\n",
       "  <th>estabs_entry_rate</th> <td>   -0.0047</td> <td>    0.001</td> <td>   -5.418</td> <td> 0.000</td> <td>   -0.006</td> <td>   -0.003</td>\n",
       "</tr>\n",
       "<tr>\n",
       "  <th>estabs_exit_rate</th>  <td>   -0.0032</td> <td>    0.001</td> <td>   -3.202</td> <td> 0.001</td> <td>   -0.005</td> <td>   -0.001</td>\n",
       "</tr>\n",
       "<tr>\n",
       "  <th>pop</th>               <td> 2.339e-08</td> <td> 6.01e-09</td> <td>    3.891</td> <td> 0.000</td> <td> 1.16e-08</td> <td> 3.52e-08</td>\n",
       "</tr>\n",
       "<tr>\n",
       "  <th>pop_pct_black</th>     <td>   -0.0005</td> <td>    0.000</td> <td>   -3.189</td> <td> 0.001</td> <td>   -0.001</td> <td>   -0.000</td>\n",
       "</tr>\n",
       "<tr>\n",
       "  <th>pop_pct_hisp</th>      <td>   -0.0007</td> <td>    0.000</td> <td>   -4.183</td> <td> 0.000</td> <td>   -0.001</td> <td>   -0.000</td>\n",
       "</tr>\n",
       "<tr>\n",
       "  <th>lfpr</th>              <td>   -0.0029</td> <td>    0.000</td> <td>  -13.336</td> <td> 0.000</td> <td>   -0.003</td> <td>   -0.002</td>\n",
       "</tr>\n",
       "<tr>\n",
       "  <th>density</th>           <td> 1.425e-06</td> <td> 1.04e-06</td> <td>    1.368</td> <td> 0.171</td> <td>-6.16e-07</td> <td> 3.47e-06</td>\n",
       "</tr>\n",
       "<tr>\n",
       "  <th>urate_bin=higher</th>     <th>dy/dx</th>    <th>std err</th>      <th>z</th>      <th>P>|z|</th>  <th>[0.025</th>    <th>0.975]</th>  \n",
       "</tr>\n",
       "<tr>\n",
       "  <th>pct_d_rgdp</th>        <td>   -0.0009</td> <td>    0.000</td> <td>   -2.974</td> <td> 0.003</td> <td>   -0.001</td> <td>   -0.000</td>\n",
       "</tr>\n",
       "<tr>\n",
       "  <th>pos_net_jobs</th>      <td>   -0.0254</td> <td>    0.005</td> <td>   -4.858</td> <td> 0.000</td> <td>   -0.036</td> <td>   -0.015</td>\n",
       "</tr>\n",
       "<tr>\n",
       "  <th>emp_estabs</th>        <td>   -0.0049</td> <td>    0.001</td> <td>   -8.464</td> <td> 0.000</td> <td>   -0.006</td> <td>   -0.004</td>\n",
       "</tr>\n",
       "<tr>\n",
       "  <th>estabs_entry_rate</th> <td>    0.0077</td> <td>    0.001</td> <td>    7.943</td> <td> 0.000</td> <td>    0.006</td> <td>    0.010</td>\n",
       "</tr>\n",
       "<tr>\n",
       "  <th>estabs_exit_rate</th>  <td>    0.0170</td> <td>    0.001</td> <td>   14.858</td> <td> 0.000</td> <td>    0.015</td> <td>    0.019</td>\n",
       "</tr>\n",
       "<tr>\n",
       "  <th>pop</th>               <td>-2.627e-08</td> <td> 8.82e-09</td> <td>   -2.979</td> <td> 0.003</td> <td>-4.36e-08</td> <td>-8.98e-09</td>\n",
       "</tr>\n",
       "<tr>\n",
       "  <th>pop_pct_black</th>     <td>    0.0027</td> <td>    0.000</td> <td>   13.314</td> <td> 0.000</td> <td>    0.002</td> <td>    0.003</td>\n",
       "</tr>\n",
       "<tr>\n",
       "  <th>pop_pct_hisp</th>      <td>   -0.0017</td> <td>    0.000</td> <td>   -8.535</td> <td> 0.000</td> <td>   -0.002</td> <td>   -0.001</td>\n",
       "</tr>\n",
       "<tr>\n",
       "  <th>lfpr</th>              <td>   -0.0167</td> <td>    0.000</td> <td>  -66.917</td> <td> 0.000</td> <td>   -0.017</td> <td>   -0.016</td>\n",
       "</tr>\n",
       "<tr>\n",
       "  <th>density</th>           <td> -3.01e-06</td> <td> 1.54e-06</td> <td>   -1.955</td> <td> 0.051</td> <td>-6.03e-06</td> <td> 7.48e-09</td>\n",
       "</tr>\n",
       "</table>"
      ],
      "text/plain": [
       "<class 'statsmodels.iolib.summary.Summary'>\n",
       "\"\"\"\n",
       "       MNLogit Marginal Effects      \n",
       "=====================================\n",
       "Dep. Variable:              urate_bin\n",
       "Method:                          dydx\n",
       "At:                           overall\n",
       "=====================================================================================\n",
       "  urate_bin=lower      dy/dx    std err          z      P>|z|      [0.025      0.975]\n",
       "-------------------------------------------------------------------------------------\n",
       "pct_d_rgdp            0.0013      0.000      4.821      0.000       0.001       0.002\n",
       "pos_net_jobs          0.0257      0.005      5.158      0.000       0.016       0.036\n",
       "emp_estabs            0.0009      0.001      1.687      0.092      -0.000       0.002\n",
       "estabs_entry_rate    -0.0030      0.001     -3.221      0.001      -0.005      -0.001\n",
       "estabs_exit_rate     -0.0138      0.001    -12.196      0.000      -0.016      -0.012\n",
       "pop                2.883e-09   7.59e-09      0.380      0.704    -1.2e-08    1.78e-08\n",
       "pop_pct_black        -0.0022      0.000     -9.258      0.000      -0.003      -0.002\n",
       "pop_pct_hisp          0.0024      0.000     13.395      0.000       0.002       0.003\n",
       "lfpr                  0.0195      0.000     82.444      0.000       0.019       0.020\n",
       "density            1.585e-06   1.33e-06      1.192      0.233   -1.02e-06    4.19e-06\n",
       "-------------------------------------------------------------------------------------\n",
       "urate_bin=similar      dy/dx    std err          z      P>|z|      [0.025      0.975]\n",
       "-------------------------------------------------------------------------------------\n",
       "pct_d_rgdp           -0.0004      0.000     -1.590      0.112      -0.001    9.68e-05\n",
       "pos_net_jobs         -0.0004      0.004     -0.082      0.935      -0.009       0.008\n",
       "emp_estabs            0.0040      0.000      8.686      0.000       0.003       0.005\n",
       "estabs_entry_rate    -0.0047      0.001     -5.418      0.000      -0.006      -0.003\n",
       "estabs_exit_rate     -0.0032      0.001     -3.202      0.001      -0.005      -0.001\n",
       "pop                2.339e-08   6.01e-09      3.891      0.000    1.16e-08    3.52e-08\n",
       "pop_pct_black        -0.0005      0.000     -3.189      0.001      -0.001      -0.000\n",
       "pop_pct_hisp         -0.0007      0.000     -4.183      0.000      -0.001      -0.000\n",
       "lfpr                 -0.0029      0.000    -13.336      0.000      -0.003      -0.002\n",
       "density            1.425e-06   1.04e-06      1.368      0.171   -6.16e-07    3.47e-06\n",
       "-------------------------------------------------------------------------------------\n",
       " urate_bin=higher      dy/dx    std err          z      P>|z|      [0.025      0.975]\n",
       "-------------------------------------------------------------------------------------\n",
       "pct_d_rgdp           -0.0009      0.000     -2.974      0.003      -0.001      -0.000\n",
       "pos_net_jobs         -0.0254      0.005     -4.858      0.000      -0.036      -0.015\n",
       "emp_estabs           -0.0049      0.001     -8.464      0.000      -0.006      -0.004\n",
       "estabs_entry_rate     0.0077      0.001      7.943      0.000       0.006       0.010\n",
       "estabs_exit_rate      0.0170      0.001     14.858      0.000       0.015       0.019\n",
       "pop               -2.627e-08   8.82e-09     -2.979      0.003   -4.36e-08   -8.98e-09\n",
       "pop_pct_black         0.0027      0.000     13.314      0.000       0.002       0.003\n",
       "pop_pct_hisp         -0.0017      0.000     -8.535      0.000      -0.002      -0.001\n",
       "lfpr                 -0.0167      0.000    -66.917      0.000      -0.017      -0.016\n",
       "density            -3.01e-06   1.54e-06     -1.955      0.051   -6.03e-06    7.48e-09\n",
       "=====================================================================================\n",
       "\"\"\""
      ]
     },
     "execution_count": 45,
     "metadata": {},
     "output_type": "execute_result"
    }
   ],
   "source": [
    "fit_mnlogit.get_margeff().summary()"
   ]
  },
  {
   "cell_type": "markdown",
   "metadata": {},
   "source": [
    "*************\n",
    "### MN Logit Regularization \n",
    "[TOP](#Regression-Based-Classification)"
   ]
  },
  {
   "cell_type": "code",
   "execution_count": 46,
   "metadata": {},
   "outputs": [
    {
     "name": "stdout",
     "output_type": "stream",
     "text": [
      "Wall time: 11.8 s\n"
     ]
    },
    {
     "data": {
      "text/plain": [
       "{'C': 0.01, 'l1_ratio': 0.9}"
      ]
     },
     "execution_count": 46,
     "metadata": {},
     "output_type": "execute_result"
    }
   ],
   "source": [
    "%%time\n",
    "param_grid = {\n",
    "    'C': 10.0**np.arange(-5, -1, step = 1),\n",
    "    'l1_ratio':  np.arange(0, 1, step = 0.1)\n",
    "}\n",
    "\n",
    "lr_cv = lm.LogisticRegression(penalty = 'elasticnet', solver = 'saga',\n",
    "                              max_iter = 1e3, random_state = 490)\n",
    "grid_search = GridSearchCV(lr_cv, param_grid, \n",
    "                          cv = 5, \n",
    "                          scoring = 'accuracy',\n",
    "                          n_jobs = 10)\n",
    "grid_search.fit(x_train_std, y_train)\n",
    "best = grid_search.best_params_\n",
    "best"
   ]
  },
  {
   "cell_type": "markdown",
   "metadata": {},
   "source": [
    "# $C = \\frac{1}{\\alpha}$"
   ]
  },
  {
   "cell_type": "code",
   "execution_count": 47,
   "metadata": {},
   "outputs": [
    {
     "name": "stdout",
     "output_type": "stream",
     "text": [
      "Optimization terminated successfully    (Exit mode 0)\n",
      "            Current function value: 0.9163228046383791\n",
      "            Iterations: 46\n",
      "            Function evaluations: 47\n",
      "            Gradient evaluations: 46\n"
     ]
    },
    {
     "data": {
      "text/html": [
       "<div>\n",
       "<style scoped>\n",
       "    .dataframe tbody tr th:only-of-type {\n",
       "        vertical-align: middle;\n",
       "    }\n",
       "\n",
       "    .dataframe tbody tr th {\n",
       "        vertical-align: top;\n",
       "    }\n",
       "\n",
       "    .dataframe thead th {\n",
       "        text-align: right;\n",
       "    }\n",
       "</style>\n",
       "<table border=\"1\" class=\"dataframe\">\n",
       "  <thead>\n",
       "    <tr style=\"text-align: right;\">\n",
       "      <th></th>\n",
       "      <th>0</th>\n",
       "      <th>1</th>\n",
       "    </tr>\n",
       "  </thead>\n",
       "  <tbody>\n",
       "    <tr>\n",
       "      <th>const</th>\n",
       "      <td>-0.218634</td>\n",
       "      <td>-0.747939</td>\n",
       "    </tr>\n",
       "    <tr>\n",
       "      <th>pct_d_rgdp</th>\n",
       "      <td>0.047803</td>\n",
       "      <td>0.000000</td>\n",
       "    </tr>\n",
       "    <tr>\n",
       "      <th>pos_net_jobs</th>\n",
       "      <td>0.056821</td>\n",
       "      <td>0.004691</td>\n",
       "    </tr>\n",
       "    <tr>\n",
       "      <th>emp_estabs</th>\n",
       "      <td>0.056787</td>\n",
       "      <td>0.139618</td>\n",
       "    </tr>\n",
       "    <tr>\n",
       "      <th>estabs_entry_rate</th>\n",
       "      <td>-0.063320</td>\n",
       "      <td>-0.095805</td>\n",
       "    </tr>\n",
       "    <tr>\n",
       "      <th>estabs_exit_rate</th>\n",
       "      <td>-0.229619</td>\n",
       "      <td>-0.142851</td>\n",
       "    </tr>\n",
       "    <tr>\n",
       "      <th>pop</th>\n",
       "      <td>0.007940</td>\n",
       "      <td>0.044575</td>\n",
       "    </tr>\n",
       "    <tr>\n",
       "      <th>pop_pct_black</th>\n",
       "      <td>-0.185751</td>\n",
       "      <td>-0.120879</td>\n",
       "    </tr>\n",
       "    <tr>\n",
       "      <th>pop_pct_hisp</th>\n",
       "      <td>0.156680</td>\n",
       "      <td>0.000000</td>\n",
       "    </tr>\n",
       "    <tr>\n",
       "      <th>lfpr</th>\n",
       "      <td>1.242667</td>\n",
       "      <td>0.315184</td>\n",
       "    </tr>\n",
       "    <tr>\n",
       "      <th>density</th>\n",
       "      <td>0.001677</td>\n",
       "      <td>0.004504</td>\n",
       "    </tr>\n",
       "  </tbody>\n",
       "</table>\n",
       "</div>"
      ],
      "text/plain": [
       "                          0         1\n",
       "const             -0.218634 -0.747939\n",
       "pct_d_rgdp         0.047803  0.000000\n",
       "pos_net_jobs       0.056821  0.004691\n",
       "emp_estabs         0.056787  0.139618\n",
       "estabs_entry_rate -0.063320 -0.095805\n",
       "estabs_exit_rate  -0.229619 -0.142851\n",
       "pop                0.007940  0.044575\n",
       "pop_pct_black     -0.185751 -0.120879\n",
       "pop_pct_hisp       0.156680  0.000000\n",
       "lfpr               1.242667  0.315184\n",
       "density            0.001677  0.004504"
      ]
     },
     "execution_count": 47,
     "metadata": {},
     "output_type": "execute_result"
    }
   ],
   "source": [
    "# You will get convergence warnings\n",
    "# They are due to difficulty converging\n",
    "# We can address this by accepting some error\n",
    "# with our qc_tol\n",
    "# See below\n",
    "fit_logit_reg = sm.MNLogit(y_train, x_train_std\n",
    "                          ).fit_regularized(alpha = 1/best['C'],\n",
    "                                            L1_wt = best['l1_ratio'],\n",
    "                                            qc_tol = 1e3)\n",
    "fit_logit_reg.params"
   ]
  },
  {
   "cell_type": "markdown",
   "metadata": {},
   "source": [
    "From here, you can decide whether or not to keep variables if you wish to refit without regularization.\n",
    "As a rule of thumb, drop features that are 50% zero across classes.\n",
    "\n",
    "***\n",
    "## MN Logit Prediction Diagnostics\n",
    "[TOP](#Regression-Based-Classification)\n",
    "\n",
    "We will proceed as we did for the binomial logistic regression.\n",
    "We will first fit the null model and then compare it to another model.\n",
    "\n",
    "********\n",
    "### MN Logit Null Model\n",
    "[TOP](#Regression-Based-Classification)"
   ]
  },
  {
   "cell_type": "code",
   "execution_count": 48,
   "metadata": {},
   "outputs": [
    {
     "data": {
      "text/plain": [
       "higher     14653\n",
       "lower      12665\n",
       "similar     6100\n",
       "Name: urate_bin, dtype: int64"
      ]
     },
     "execution_count": 48,
     "metadata": {},
     "output_type": "execute_result"
    }
   ],
   "source": [
    "y_train.value_counts()"
   ]
  },
  {
   "cell_type": "markdown",
   "metadata": {},
   "source": [
    "We can see that the largest grouping of counties have much higher than national unemployment rates.\n",
    "We will predict that class."
   ]
  },
  {
   "cell_type": "code",
   "execution_count": 49,
   "metadata": {},
   "outputs": [
    {
     "data": {
      "text/plain": [
       "0.4348554671135316"
      ]
     },
     "execution_count": 49,
     "metadata": {},
     "output_type": "execute_result"
    }
   ],
   "source": [
    "acc_mnlogit_null = np.mean(y_test == 'higher')\n",
    "acc_mnlogit_null"
   ]
  },
  {
   "cell_type": "markdown",
   "metadata": {},
   "source": [
    "*******\n",
    "### MN Logit Full Model\n",
    "[TOP](#Regression-Based-Classification)"
   ]
  },
  {
   "cell_type": "code",
   "execution_count": 50,
   "metadata": {},
   "outputs": [],
   "source": [
    "fit_mnlogit_sk = lm.LogisticRegression(solver = 'liblinear').fit(x_train, y_train)"
   ]
  },
  {
   "cell_type": "code",
   "execution_count": 51,
   "metadata": {},
   "outputs": [
    {
     "data": {
      "image/png": "[encoded data removed]",
      "text/plain": [
       "<Figure size 576x324 with 2 Axes>"
      ]
     },
     "metadata": {},
     "output_type": "display_data"
    }
   ],
   "source": [
    "plot_confusion_matrix(fit_mnlogit_sk, x_test, y_test)\n",
    "plt.show()"
   ]
  },
  {
   "cell_type": "markdown",
   "metadata": {},
   "source": [
    "It looks like we are having trouble predicting the county unemployment rate similar to the national.\n",
    "\n",
    "Let's take a look at the overall accuracy."
   ]
  },
  {
   "cell_type": "code",
   "execution_count": 52,
   "metadata": {},
   "outputs": [
    {
     "data": {
      "text/plain": [
       "0.5456939373990065"
      ]
     },
     "execution_count": 52,
     "metadata": {},
     "output_type": "execute_result"
    }
   ],
   "source": [
    "yhat = fit_mnlogit_sk.predict(x_test)\n",
    "acc_mnlogit = np.mean(yhat == y_test)\n",
    "acc_mnlogit"
   ]
  },
  {
   "cell_type": "markdown",
   "metadata": {},
   "source": [
    "Yikes."
   ]
  },
  {
   "cell_type": "code",
   "execution_count": 54,
   "metadata": {},
   "outputs": [
    {
     "data": {
      "text/plain": [
       "25.49"
      ]
     },
     "execution_count": 54,
     "metadata": {},
     "output_type": "execute_result"
    }
   ],
   "source": [
    "round(100*(acc_mnlogit - acc_mnlogit_null)/acc_mnlogit_null, 2)"
   ]
  },
  {
   "cell_type": "markdown",
   "metadata": {},
   "source": [
    "Not a bad improvement, but remember that we are only getting it correct barely more than 50% of the time."
   ]
  }
 ],
 "metadata": {
  "kernelspec": {
   "display_name": "Python 3",
   "language": "python",
   "name": "python3"
  },
  "language_info": {
   "codemirror_mode": {
    "name": "ipython",
    "version": 3
   },
   "file_extension": ".py",
   "mimetype": "text/x-python",
   "name": "python",
   "nbconvert_exporter": "python",
   "pygments_lexer": "ipython3",
   "version": "3.8.5"
  }
 },
 "nbformat": 4,
 "nbformat_minor": 5
}
