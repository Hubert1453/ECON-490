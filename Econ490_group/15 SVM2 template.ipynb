{
 "cells": [
  {
   "cell_type": "markdown",
   "metadata": {},
   "source": [
    "## Support Vector Machines - Part 2\n",
    "\n",
    "#### Table of Contents\n",
    "\n",
    "* [Preliminaries](#Preliminaries)\n",
    "* [Null Model](#Null-Model)\n",
    "* [Polynomial Kernel](#Polynomial-Kernel)\n",
    "* [Gaussian Radial Basis Function Kernel](#Gaussian-Radial-Basis-Function-Kernel)\n",
    "* [Comparison](#Comparison)\n",
    "\n",
    "Takeaways from this script:\n",
    "\n",
    "1. complex kernels are computationally difficult to omptimize\n",
    "2. a linear kernel is a polynomial kernel\n",
    "\n",
    "****\n",
    "# Preliminaries\n",
    "[TOP](#Support-Vector-Machines---Part-2)\n",
    "\n",
    "Unlike the SVM1 lecture, we will be using the `SVC()` for the more flexible kernels.\n",
    "We will be predicting the multi-class `urate_bin`."
   ]
  },
  {
   "cell_type": "code",
   "execution_count": 1,
   "metadata": {},
   "outputs": [],
   "source": [
    "# utilities\n",
    "import numpy as np\n",
    "import pandas as pd\n",
    "\n",
    "# processing\n",
    "from sklearn.metrics import plot_confusion_matrix\n",
    "from sklearn.model_selection import GridSearchCV, train_test_split\n",
    "\n",
    "#algorithms\n",
    "from sklearn.svm import SVC, LinearSVC"
   ]
  },
  {
   "cell_type": "code",
   "execution_count": 2,
   "metadata": {},
   "outputs": [],
   "source": [
    "df = pd.read_pickle('C:/Users/hubst/Econ490_group/class_data.pkl')\n",
    "df_prepped = df.drop(columns = 'year').join([\n",
    "    pd.get_dummies(df['year'], drop_first = True)\n",
    "]).set_index(['GeoName'], append = True)"
   ]
  },
  {
   "cell_type": "markdown",
   "metadata": {},
   "source": [
    "**********\n",
    "# Null Model \n",
    "[TOP](#Support-Vector-Machines---Part-1)"
   ]
  },
  {
   "cell_type": "code",
   "execution_count": 3,
   "metadata": {},
   "outputs": [],
   "source": [
    "y = df_prepped['urate_bin']\n",
    "x = df_prepped.drop(columns = 'urate_bin')\n",
    "x_train, x_test, y_train, y_test = train_test_split(x, y, \n",
    "                                                    train_size = 1e-2, \n",
    "                                                    random_state = 490)\n",
    "\n",
    "x_train = x_train.apply(lambda j: (j - np.mean(j))/np.std(j))\n",
    "x_test = x_test.apply(lambda j: (j - np.mean(j))/np.std(j))"
   ]
  },
  {
   "cell_type": "code",
   "execution_count": 4,
   "metadata": {},
   "outputs": [
    {
     "data": {
      "text/plain": [
       "0.43680731874420664"
      ]
     },
     "execution_count": 4,
     "metadata": {},
     "output_type": "execute_result"
    }
   ],
   "source": [
    "yhat_null = y_train.value_counts().index[0]\n",
    "acc_null = np.mean(yhat_null == y_test)\n",
    "acc_null"
   ]
  },
  {
   "cell_type": "code",
   "execution_count": 12,
   "metadata": {},
   "outputs": [
    {
     "data": {
      "text/html": [
       "<div>\n",
       "<style scoped>\n",
       "    .dataframe tbody tr th:only-of-type {\n",
       "        vertical-align: middle;\n",
       "    }\n",
       "\n",
       "    .dataframe tbody tr th {\n",
       "        vertical-align: top;\n",
       "    }\n",
       "\n",
       "    .dataframe thead th {\n",
       "        text-align: right;\n",
       "    }\n",
       "</style>\n",
       "<table border=\"1\" class=\"dataframe\">\n",
       "  <thead>\n",
       "    <tr style=\"text-align: right;\">\n",
       "      <th></th>\n",
       "      <th></th>\n",
       "      <th></th>\n",
       "      <th>pct_d_rgdp</th>\n",
       "      <th>urate_bin</th>\n",
       "      <th>pos_net_jobs</th>\n",
       "      <th>emp_estabs</th>\n",
       "      <th>estabs_entry_rate</th>\n",
       "      <th>estabs_exit_rate</th>\n",
       "      <th>pop</th>\n",
       "      <th>pop_pct_black</th>\n",
       "      <th>pop_pct_hisp</th>\n",
       "      <th>lfpr</th>\n",
       "      <th>...</th>\n",
       "      <th>2009</th>\n",
       "      <th>2010</th>\n",
       "      <th>2011</th>\n",
       "      <th>2012</th>\n",
       "      <th>2013</th>\n",
       "      <th>2014</th>\n",
       "      <th>2015</th>\n",
       "      <th>2016</th>\n",
       "      <th>2017</th>\n",
       "      <th>2018</th>\n",
       "    </tr>\n",
       "    <tr>\n",
       "      <th>fips</th>\n",
       "      <th>year</th>\n",
       "      <th>GeoName</th>\n",
       "      <th></th>\n",
       "      <th></th>\n",
       "      <th></th>\n",
       "      <th></th>\n",
       "      <th></th>\n",
       "      <th></th>\n",
       "      <th></th>\n",
       "      <th></th>\n",
       "      <th></th>\n",
       "      <th></th>\n",
       "      <th></th>\n",
       "      <th></th>\n",
       "      <th></th>\n",
       "      <th></th>\n",
       "      <th></th>\n",
       "      <th></th>\n",
       "      <th></th>\n",
       "      <th></th>\n",
       "      <th></th>\n",
       "      <th></th>\n",
       "      <th></th>\n",
       "    </tr>\n",
       "  </thead>\n",
       "  <tbody>\n",
       "    <tr>\n",
       "      <th rowspan=\"5\" valign=\"top\">1001</th>\n",
       "      <th>2002</th>\n",
       "      <th>Autauga, AL</th>\n",
       "      <td>3.202147</td>\n",
       "      <td>lower</td>\n",
       "      <td>1</td>\n",
       "      <td>12.531208</td>\n",
       "      <td>11.268</td>\n",
       "      <td>9.256</td>\n",
       "      <td>45909.0</td>\n",
       "      <td>17.386569</td>\n",
       "      <td>1.611884</td>\n",
       "      <td>74.841638</td>\n",
       "      <td>...</td>\n",
       "      <td>0</td>\n",
       "      <td>0</td>\n",
       "      <td>0</td>\n",
       "      <td>0</td>\n",
       "      <td>0</td>\n",
       "      <td>0</td>\n",
       "      <td>0</td>\n",
       "      <td>0</td>\n",
       "      <td>0</td>\n",
       "      <td>0</td>\n",
       "    </tr>\n",
       "    <tr>\n",
       "      <th>2003</th>\n",
       "      <th>Autauga, AL</th>\n",
       "      <td>1.434404</td>\n",
       "      <td>lower</td>\n",
       "      <td>1</td>\n",
       "      <td>12.598415</td>\n",
       "      <td>10.603</td>\n",
       "      <td>9.940</td>\n",
       "      <td>46800.0</td>\n",
       "      <td>17.493590</td>\n",
       "      <td>1.692308</td>\n",
       "      <td>75.093851</td>\n",
       "      <td>...</td>\n",
       "      <td>0</td>\n",
       "      <td>0</td>\n",
       "      <td>0</td>\n",
       "      <td>0</td>\n",
       "      <td>0</td>\n",
       "      <td>0</td>\n",
       "      <td>0</td>\n",
       "      <td>0</td>\n",
       "      <td>0</td>\n",
       "      <td>0</td>\n",
       "    </tr>\n",
       "    <tr>\n",
       "      <th>2004</th>\n",
       "      <th>Autauga, AL</th>\n",
       "      <td>15.061365</td>\n",
       "      <td>lower</td>\n",
       "      <td>1</td>\n",
       "      <td>12.780078</td>\n",
       "      <td>11.140</td>\n",
       "      <td>8.519</td>\n",
       "      <td>48366.0</td>\n",
       "      <td>17.584667</td>\n",
       "      <td>1.796717</td>\n",
       "      <td>74.459624</td>\n",
       "      <td>...</td>\n",
       "      <td>0</td>\n",
       "      <td>0</td>\n",
       "      <td>0</td>\n",
       "      <td>0</td>\n",
       "      <td>0</td>\n",
       "      <td>0</td>\n",
       "      <td>0</td>\n",
       "      <td>0</td>\n",
       "      <td>0</td>\n",
       "      <td>0</td>\n",
       "    </tr>\n",
       "    <tr>\n",
       "      <th>2005</th>\n",
       "      <th>Autauga, AL</th>\n",
       "      <td>0.333105</td>\n",
       "      <td>higher</td>\n",
       "      <td>1</td>\n",
       "      <td>12.856784</td>\n",
       "      <td>11.735</td>\n",
       "      <td>8.673</td>\n",
       "      <td>49676.0</td>\n",
       "      <td>17.612127</td>\n",
       "      <td>1.986875</td>\n",
       "      <td>74.920228</td>\n",
       "      <td>...</td>\n",
       "      <td>0</td>\n",
       "      <td>0</td>\n",
       "      <td>0</td>\n",
       "      <td>0</td>\n",
       "      <td>0</td>\n",
       "      <td>0</td>\n",
       "      <td>0</td>\n",
       "      <td>0</td>\n",
       "      <td>0</td>\n",
       "      <td>0</td>\n",
       "    </tr>\n",
       "    <tr>\n",
       "      <th>2006</th>\n",
       "      <th>Autauga, AL</th>\n",
       "      <td>7.440034</td>\n",
       "      <td>higher</td>\n",
       "      <td>1</td>\n",
       "      <td>12.832506</td>\n",
       "      <td>10.645</td>\n",
       "      <td>8.766</td>\n",
       "      <td>51328.0</td>\n",
       "      <td>17.898613</td>\n",
       "      <td>2.032029</td>\n",
       "      <td>73.641001</td>\n",
       "      <td>...</td>\n",
       "      <td>0</td>\n",
       "      <td>0</td>\n",
       "      <td>0</td>\n",
       "      <td>0</td>\n",
       "      <td>0</td>\n",
       "      <td>0</td>\n",
       "      <td>0</td>\n",
       "      <td>0</td>\n",
       "      <td>0</td>\n",
       "      <td>0</td>\n",
       "    </tr>\n",
       "    <tr>\n",
       "      <th>...</th>\n",
       "      <th>...</th>\n",
       "      <th>...</th>\n",
       "      <td>...</td>\n",
       "      <td>...</td>\n",
       "      <td>...</td>\n",
       "      <td>...</td>\n",
       "      <td>...</td>\n",
       "      <td>...</td>\n",
       "      <td>...</td>\n",
       "      <td>...</td>\n",
       "      <td>...</td>\n",
       "      <td>...</td>\n",
       "      <td>...</td>\n",
       "      <td>...</td>\n",
       "      <td>...</td>\n",
       "      <td>...</td>\n",
       "      <td>...</td>\n",
       "      <td>...</td>\n",
       "      <td>...</td>\n",
       "      <td>...</td>\n",
       "      <td>...</td>\n",
       "      <td>...</td>\n",
       "      <td>...</td>\n",
       "    </tr>\n",
       "    <tr>\n",
       "      <th rowspan=\"5\" valign=\"top\">56045</th>\n",
       "      <th>2014</th>\n",
       "      <th>Weston, WY</th>\n",
       "      <td>2.055429</td>\n",
       "      <td>lower</td>\n",
       "      <td>1</td>\n",
       "      <td>8.410000</td>\n",
       "      <td>9.694</td>\n",
       "      <td>5.612</td>\n",
       "      <td>7138.0</td>\n",
       "      <td>1.204819</td>\n",
       "      <td>3.950686</td>\n",
       "      <td>87.627044</td>\n",
       "      <td>...</td>\n",
       "      <td>0</td>\n",
       "      <td>0</td>\n",
       "      <td>0</td>\n",
       "      <td>0</td>\n",
       "      <td>0</td>\n",
       "      <td>1</td>\n",
       "      <td>0</td>\n",
       "      <td>0</td>\n",
       "      <td>0</td>\n",
       "      <td>0</td>\n",
       "    </tr>\n",
       "    <tr>\n",
       "      <th>2015</th>\n",
       "      <th>Weston, WY</th>\n",
       "      <td>12.558802</td>\n",
       "      <td>lower</td>\n",
       "      <td>0</td>\n",
       "      <td>8.415385</td>\n",
       "      <td>6.076</td>\n",
       "      <td>8.608</td>\n",
       "      <td>7208.0</td>\n",
       "      <td>1.054384</td>\n",
       "      <td>3.953940</td>\n",
       "      <td>86.978480</td>\n",
       "      <td>...</td>\n",
       "      <td>0</td>\n",
       "      <td>0</td>\n",
       "      <td>0</td>\n",
       "      <td>0</td>\n",
       "      <td>0</td>\n",
       "      <td>0</td>\n",
       "      <td>1</td>\n",
       "      <td>0</td>\n",
       "      <td>0</td>\n",
       "      <td>0</td>\n",
       "    </tr>\n",
       "    <tr>\n",
       "      <th>2016</th>\n",
       "      <th>Weston, WY</th>\n",
       "      <td>-10.381257</td>\n",
       "      <td>similar</td>\n",
       "      <td>0</td>\n",
       "      <td>7.644231</td>\n",
       "      <td>13.896</td>\n",
       "      <td>7.444</td>\n",
       "      <td>7220.0</td>\n",
       "      <td>1.038781</td>\n",
       "      <td>4.099723</td>\n",
       "      <td>87.816245</td>\n",
       "      <td>...</td>\n",
       "      <td>0</td>\n",
       "      <td>0</td>\n",
       "      <td>0</td>\n",
       "      <td>0</td>\n",
       "      <td>0</td>\n",
       "      <td>0</td>\n",
       "      <td>0</td>\n",
       "      <td>1</td>\n",
       "      <td>0</td>\n",
       "      <td>0</td>\n",
       "    </tr>\n",
       "    <tr>\n",
       "      <th>2017</th>\n",
       "      <th>Weston, WY</th>\n",
       "      <td>-0.153371</td>\n",
       "      <td>lower</td>\n",
       "      <td>0</td>\n",
       "      <td>7.808081</td>\n",
       "      <td>5.941</td>\n",
       "      <td>9.901</td>\n",
       "      <td>6968.0</td>\n",
       "      <td>1.248565</td>\n",
       "      <td>4.118829</td>\n",
       "      <td>87.065369</td>\n",
       "      <td>...</td>\n",
       "      <td>0</td>\n",
       "      <td>0</td>\n",
       "      <td>0</td>\n",
       "      <td>0</td>\n",
       "      <td>0</td>\n",
       "      <td>0</td>\n",
       "      <td>0</td>\n",
       "      <td>0</td>\n",
       "      <td>1</td>\n",
       "      <td>0</td>\n",
       "    </tr>\n",
       "    <tr>\n",
       "      <th>2018</th>\n",
       "      <th>Weston, WY</th>\n",
       "      <td>7.624480</td>\n",
       "      <td>lower</td>\n",
       "      <td>0</td>\n",
       "      <td>8.074468</td>\n",
       "      <td>5.208</td>\n",
       "      <td>9.375</td>\n",
       "      <td>6924.0</td>\n",
       "      <td>1.299827</td>\n",
       "      <td>3.942808</td>\n",
       "      <td>89.519962</td>\n",
       "      <td>...</td>\n",
       "      <td>0</td>\n",
       "      <td>0</td>\n",
       "      <td>0</td>\n",
       "      <td>0</td>\n",
       "      <td>0</td>\n",
       "      <td>0</td>\n",
       "      <td>0</td>\n",
       "      <td>0</td>\n",
       "      <td>0</td>\n",
       "      <td>1</td>\n",
       "    </tr>\n",
       "  </tbody>\n",
       "</table>\n",
       "<p>50127 rows × 27 columns</p>\n",
       "</div>"
      ],
      "text/plain": [
       "                        pct_d_rgdp urate_bin  pos_net_jobs  emp_estabs  \\\n",
       "fips  year GeoName                                                       \n",
       "1001  2002 Autauga, AL    3.202147     lower             1   12.531208   \n",
       "      2003 Autauga, AL    1.434404     lower             1   12.598415   \n",
       "      2004 Autauga, AL   15.061365     lower             1   12.780078   \n",
       "      2005 Autauga, AL    0.333105    higher             1   12.856784   \n",
       "      2006 Autauga, AL    7.440034    higher             1   12.832506   \n",
       "...                            ...       ...           ...         ...   \n",
       "56045 2014 Weston, WY     2.055429     lower             1    8.410000   \n",
       "      2015 Weston, WY    12.558802     lower             0    8.415385   \n",
       "      2016 Weston, WY   -10.381257   similar             0    7.644231   \n",
       "      2017 Weston, WY    -0.153371     lower             0    7.808081   \n",
       "      2018 Weston, WY     7.624480     lower             0    8.074468   \n",
       "\n",
       "                        estabs_entry_rate  estabs_exit_rate      pop  \\\n",
       "fips  year GeoName                                                     \n",
       "1001  2002 Autauga, AL             11.268             9.256  45909.0   \n",
       "      2003 Autauga, AL             10.603             9.940  46800.0   \n",
       "      2004 Autauga, AL             11.140             8.519  48366.0   \n",
       "      2005 Autauga, AL             11.735             8.673  49676.0   \n",
       "      2006 Autauga, AL             10.645             8.766  51328.0   \n",
       "...                                   ...               ...      ...   \n",
       "56045 2014 Weston, WY               9.694             5.612   7138.0   \n",
       "      2015 Weston, WY               6.076             8.608   7208.0   \n",
       "      2016 Weston, WY              13.896             7.444   7220.0   \n",
       "      2017 Weston, WY               5.941             9.901   6968.0   \n",
       "      2018 Weston, WY               5.208             9.375   6924.0   \n",
       "\n",
       "                        pop_pct_black  pop_pct_hisp       lfpr  ...  2009  \\\n",
       "fips  year GeoName                                              ...         \n",
       "1001  2002 Autauga, AL      17.386569      1.611884  74.841638  ...     0   \n",
       "      2003 Autauga, AL      17.493590      1.692308  75.093851  ...     0   \n",
       "      2004 Autauga, AL      17.584667      1.796717  74.459624  ...     0   \n",
       "      2005 Autauga, AL      17.612127      1.986875  74.920228  ...     0   \n",
       "      2006 Autauga, AL      17.898613      2.032029  73.641001  ...     0   \n",
       "...                               ...           ...        ...  ...   ...   \n",
       "56045 2014 Weston, WY        1.204819      3.950686  87.627044  ...     0   \n",
       "      2015 Weston, WY        1.054384      3.953940  86.978480  ...     0   \n",
       "      2016 Weston, WY        1.038781      4.099723  87.816245  ...     0   \n",
       "      2017 Weston, WY        1.248565      4.118829  87.065369  ...     0   \n",
       "      2018 Weston, WY        1.299827      3.942808  89.519962  ...     0   \n",
       "\n",
       "                        2010  2011  2012  2013  2014  2015  2016  2017  2018  \n",
       "fips  year GeoName                                                            \n",
       "1001  2002 Autauga, AL     0     0     0     0     0     0     0     0     0  \n",
       "      2003 Autauga, AL     0     0     0     0     0     0     0     0     0  \n",
       "      2004 Autauga, AL     0     0     0     0     0     0     0     0     0  \n",
       "      2005 Autauga, AL     0     0     0     0     0     0     0     0     0  \n",
       "      2006 Autauga, AL     0     0     0     0     0     0     0     0     0  \n",
       "...                      ...   ...   ...   ...   ...   ...   ...   ...   ...  \n",
       "56045 2014 Weston, WY      0     0     0     0     1     0     0     0     0  \n",
       "      2015 Weston, WY      0     0     0     0     0     1     0     0     0  \n",
       "      2016 Weston, WY      0     0     0     0     0     0     1     0     0  \n",
       "      2017 Weston, WY      0     0     0     0     0     0     0     1     0  \n",
       "      2018 Weston, WY      0     0     0     0     0     0     0     0     1  \n",
       "\n",
       "[50127 rows x 27 columns]"
      ]
     },
     "execution_count": 12,
     "metadata": {},
     "output_type": "execute_result"
    }
   ],
   "source": [
    "df_prepped"
   ]
  },
  {
   "cell_type": "markdown",
   "metadata": {},
   "source": [
    "*************\n",
    "# Polynomial Kernel \n",
    "[TOP](#Support-Vector-Machines---Part-2)\n",
    "\n",
    "Recall that the polynomial kernel adds two additional hyperparameters:\n",
    "\n",
    "- `degree` - the degree of the polynomial kernel\n",
    "- `coef0` - the progressive weight on larger terms\n",
    "\n",
    "Here we are going to perform a grid search to identify the best value of these hyperparameters"
   ]
  },
  {
   "cell_type": "code",
   "execution_count": 5,
   "metadata": {},
   "outputs": [
    {
     "name": "stdout",
     "output_type": "stream",
     "text": [
      "Wall time: 4.61 s\n"
     ]
    },
    {
     "data": {
      "text/plain": [
       "{'C': 100.0, 'coef0': 0.01, 'degree': 1}"
      ]
     },
     "execution_count": 5,
     "metadata": {},
     "output_type": "execute_result"
    }
   ],
   "source": [
    "%%time\n",
    "param_grid = {'C': 10.**np.arange(-1, 4, step = 1),\n",
    "              'degree': [1, 2],\n",
    "              'coef0': 10.**np.arange(-2, 0, step = 1)\n",
    "}\n",
    "\n",
    "svmc_cv = SVC(kernel = 'poly')\n",
    "\n",
    "grid_search = GridSearchCV(svmc_cv, param_grid, cv = 5,\n",
    "                           scoring = 'accuracy').fit(x_train, y_train)\n",
    "\n",
    "best = grid_search.best_params_\n",
    "best"
   ]
  },
  {
   "cell_type": "markdown",
   "metadata": {},
   "source": [
    "How many models did we fit?"
   ]
  },
  {
   "cell_type": "code",
   "execution_count": 6,
   "metadata": {},
   "outputs": [
    {
     "data": {
      "text/plain": [
       "100"
      ]
     },
     "execution_count": 6,
     "metadata": {},
     "output_type": "execute_result"
    }
   ],
   "source": [
    "len(np.arange(-1, 4, step = 1))*2*len(np.arange(-2, 0, step = 1))*5"
   ]
  },
  {
   "cell_type": "markdown",
   "metadata": {},
   "source": [
    "Print the model accuracy."
   ]
  },
  {
   "cell_type": "code",
   "execution_count": 7,
   "metadata": {},
   "outputs": [],
   "source": [
    "clf_poly = SVC(kernel = 'poly', C = best['C'], coef0 = best['coef0'],\n",
    "               degree = best['degree']).fit(x_train, y_train)"
   ]
  },
  {
   "cell_type": "code",
   "execution_count": 8,
   "metadata": {},
   "outputs": [
    {
     "name": "stdout",
     "output_type": "stream",
     "text": [
      "Wall time: 952 ms\n"
     ]
    },
    {
     "data": {
      "text/plain": [
       "{'C': 0.00379269019073225}"
      ]
     },
     "execution_count": 8,
     "metadata": {},
     "output_type": "execute_result"
    }
   ],
   "source": [
    "%%time\n",
    "param_grid  = {\n",
    "   'C': 10.**np.linspace(-5, 2, num = 20), \n",
    "}\n",
    "\n",
    "svmc_cv = LinearSVC(dual = False)\n",
    "\n",
    "grid_search = GridSearchCV(svmc_cv, param_grid, cv = 5,\n",
    "                           scoring = 'accuracy').fit(x_train, y_train)\n",
    "\n",
    "best = grid_search.best_params_\n",
    "best"
   ]
  },
  {
   "cell_type": "code",
   "execution_count": 9,
   "metadata": {},
   "outputs": [
    {
     "data": {
      "text/plain": [
       "0.6458308144924032"
      ]
     },
     "execution_count": 9,
     "metadata": {},
     "output_type": "execute_result"
    }
   ],
   "source": [
    "svmc_poly = LinearSVC(dual = False, C = best['C']).fit(x_train, y_train)\n",
    "acc_poly = svmc_poly.score(x_test, y_test)\n",
    "acc_poly"
   ]
  },
  {
   "cell_type": "markdown",
   "metadata": {},
   "source": [
    "********\n",
    "# Gaussian RBF Kernel\n",
    "[TOP](#Support-Vector-Machines---Part-2)\n",
    "\n",
    "Find the optimal values of `C` and `gamma` to the nearest magnitude ($10^n$)"
   ]
  },
  {
   "cell_type": "code",
   "execution_count": 10,
   "metadata": {},
   "outputs": [
    {
     "name": "stdout",
     "output_type": "stream",
     "text": [
      "Wall time: 1.14 s\n"
     ]
    },
    {
     "data": {
      "text/plain": [
       "{'C': 100.0, 'gamma': 0.0001}"
      ]
     },
     "execution_count": 10,
     "metadata": {},
     "output_type": "execute_result"
    }
   ],
   "source": [
    "%%time\n",
    "param_grid  = {\n",
    "   'C': 10.**np.arange(-1, 4, step = 1), \n",
    "    'gamma': 10.**np.arange(-7, -3, step = 1),\n",
    "}\n",
    "\n",
    "svmc_cv = SVC(kernel = 'rbf')\n",
    "\n",
    "grid_search = GridSearchCV(svmc_cv, param_grid, cv = 5,\n",
    "                           scoring = 'accuracy').fit(x_train, y_train)\n",
    "\n",
    "best = grid_search.best_params_\n",
    "best"
   ]
  },
  {
   "cell_type": "markdown",
   "metadata": {},
   "source": [
    "How many models did we fit?"
   ]
  },
  {
   "cell_type": "code",
   "execution_count": 11,
   "metadata": {},
   "outputs": [
    {
     "data": {
      "text/plain": [
       "100"
      ]
     },
     "execution_count": 11,
     "metadata": {},
     "output_type": "execute_result"
    }
   ],
   "source": [
    "len(np.arange(-1, 4, step = 1))*len(np.arange(-7, -3, step = 1))*5"
   ]
  },
  {
   "cell_type": "markdown",
   "metadata": {},
   "source": [
    "Refit the model on the full training data"
   ]
  },
  {
   "cell_type": "code",
   "execution_count": 47,
   "metadata": {},
   "outputs": [],
   "source": [
    "clf_rbf = SVC(kernel = 'rbf', C = best['C'],\n",
    "              gamma = best['gamma']).fit(x_train, y_train)\n",
    "acc_rbf = clf_rbf.score(x_test, y_test)"
   ]
  },
  {
   "cell_type": "markdown",
   "metadata": {},
   "source": [
    "Print the model accuracy. "
   ]
  },
  {
   "cell_type": "code",
   "execution_count": 48,
   "metadata": {},
   "outputs": [
    {
     "data": {
      "text/plain": [
       "0.6421432313706524"
      ]
     },
     "execution_count": 48,
     "metadata": {},
     "output_type": "execute_result"
    }
   ],
   "source": [
    "acc_rbf"
   ]
  },
  {
   "cell_type": "markdown",
   "metadata": {},
   "source": [
    "Is it better than the polynomial kernel?"
   ]
  },
  {
   "cell_type": "raw",
   "metadata": {},
   "source": [
    "Nope"
   ]
  },
  {
   "cell_type": "markdown",
   "metadata": {},
   "source": [
    "Describe the tuned models flexibility and permitted margin violations"
   ]
  },
  {
   "cell_type": "code",
   "execution_count": 51,
   "metadata": {},
   "outputs": [
    {
     "data": {
      "text/plain": [
       "{'C': 100.0, 'gamma': 0.0001}"
      ]
     },
     "execution_count": 51,
     "metadata": {},
     "output_type": "execute_result"
    }
   ],
   "source": [
    "best"
   ]
  },
  {
   "cell_type": "markdown",
   "metadata": {},
   "source": [
    "less flexible, more cranky"
   ]
  },
  {
   "cell_type": "markdown",
   "metadata": {},
   "source": [
    "****\n",
    "# Comparison\n",
    "[TOP](#Support-Vector-Machines---Part-2)\n",
    "\n",
    "Let's plot things this time."
   ]
  },
  {
   "cell_type": "code",
   "execution_count": 52,
   "metadata": {},
   "outputs": [
    {
     "data": {
      "text/plain": [
       "<sklearn.metrics._plot.confusion_matrix.ConfusionMatrixDisplay at 0x1e835c7c490>"
      ]
     },
     "execution_count": 52,
     "metadata": {},
     "output_type": "execute_result"
    },
    {
     "data": {
      "image/png": "[encoded data removed]",
      "text/plain": [
       "<Figure size 432x288 with 2 Axes>"
      ]
     },
     "metadata": {
      "needs_background": "light"
     },
     "output_type": "display_data"
    }
   ],
   "source": [
    "plot_confusion_matrix(clf_poly, x_test, y_test)"
   ]
  },
  {
   "cell_type": "code",
   "execution_count": 53,
   "metadata": {},
   "outputs": [
    {
     "data": {
      "text/plain": [
       "<sklearn.metrics._plot.confusion_matrix.ConfusionMatrixDisplay at 0x1e834807f40>"
      ]
     },
     "execution_count": 53,
     "metadata": {},
     "output_type": "execute_result"
    },
    {
     "data": {
      "image/png": "[encoded data removed]",
      "text/plain": [
       "<Figure size 432x288 with 2 Axes>"
      ]
     },
     "metadata": {
      "needs_background": "light"
     },
     "output_type": "display_data"
    }
   ],
   "source": [
    "plot_confusion_matrix(clf_rbf, x_test, y_test)"
   ]
  }
 ],
 "metadata": {
  "kernelspec": {
   "display_name": "Python 3",
   "language": "python",
   "name": "python3"
  },
  "language_info": {
   "codemirror_mode": {
    "name": "ipython",
    "version": 3
   },
   "file_extension": ".py",
   "mimetype": "text/x-python",
   "name": "python",
   "nbconvert_exporter": "python",
   "pygments_lexer": "ipython3",
   "version": "3.8.5"
  }
 },
 "nbformat": 4,
 "nbformat_minor": 5
}
