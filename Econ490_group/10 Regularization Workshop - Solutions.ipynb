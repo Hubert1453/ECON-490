{
 "cells": [
  {
   "cell_type": "markdown",
   "metadata": {},
   "source": [
    "## Workshop - Regularization\n",
    "\n",
    "In this workshop, we are going to:\n",
    "\n",
    "1. Tune an elastic-net regression \n",
    "2. Compare the following models:\n",
    "    1. The null model\n",
    "    2. The tuned elastic-net model\n",
    "    3. The trimmed non-regularized model with standardized features\n",
    "    4. The trimmed non-regularized model with non-standardized features\n",
    "    \n",
    "# Preliminaries\n",
    "\n",
    "- Load any necessary packages and/or functions\n",
    "- Load in and prepare the class data\n",
    "- Create x and y with a label of `pct_d_rgdp`\n",
    "- Create `x_train`, `x_test`, `y_train`, `y_test` with\n",
    "    * training size of two-thirds\n",
    "    * random state of 490\n",
    "- Standardize the features\n",
    "- Add constants"
   ]
  },
  {
   "cell_type": "code",
   "execution_count": 1,
   "metadata": {},
   "outputs": [],
   "source": [
    "import numpy as np\n",
    "import pandas as pd\n",
    "import statsmodels.api as sm\n",
    "from sklearn.model_selection import GridSearchCV, train_test_split\n",
    "from sklearn import linear_model as lm"
   ]
  },
  {
   "cell_type": "code",
   "execution_count": 2,
   "metadata": {},
   "outputs": [
    {
     "data": {
      "text/plain": [
       "Index(['pct_d_rgdp', 'urate_bin', 'pos_net_jobs', 'emp_estabs',\n",
       "       'estabs_entry_rate', 'estabs_exit_rate', 'pop', 'pop_pct_black',\n",
       "       'pop_pct_hisp', 'lfpr', 'density', 'year'],\n",
       "      dtype='object')"
      ]
     },
     "execution_count": 2,
     "metadata": {},
     "output_type": "execute_result"
    }
   ],
   "source": [
    "df = pd.read_pickle('C:/Users/johnj/Documents/Data/aml in econ 02 spring 2021/class data/class_data.pkl')\n",
    "df.columns"
   ]
  },
  {
   "cell_type": "code",
   "execution_count": 3,
   "metadata": {},
   "outputs": [
    {
     "data": {
      "text/html": [
       "<div>\n",
       "<style scoped>\n",
       "    .dataframe tbody tr th:only-of-type {\n",
       "        vertical-align: middle;\n",
       "    }\n",
       "\n",
       "    .dataframe tbody tr th {\n",
       "        vertical-align: top;\n",
       "    }\n",
       "\n",
       "    .dataframe thead th {\n",
       "        text-align: right;\n",
       "    }\n",
       "</style>\n",
       "<table border=\"1\" class=\"dataframe\">\n",
       "  <thead>\n",
       "    <tr style=\"text-align: right;\">\n",
       "      <th></th>\n",
       "      <th></th>\n",
       "      <th></th>\n",
       "      <th>pct_d_rgdp</th>\n",
       "      <th>urate_bin</th>\n",
       "      <th>pos_net_jobs</th>\n",
       "      <th>emp_estabs</th>\n",
       "      <th>estabs_entry_rate</th>\n",
       "      <th>estabs_exit_rate</th>\n",
       "      <th>pop</th>\n",
       "      <th>pop_pct_black</th>\n",
       "      <th>pop_pct_hisp</th>\n",
       "      <th>lfpr</th>\n",
       "      <th>density</th>\n",
       "      <th>year</th>\n",
       "    </tr>\n",
       "    <tr>\n",
       "      <th>fips</th>\n",
       "      <th>year</th>\n",
       "      <th>GeoName</th>\n",
       "      <th></th>\n",
       "      <th></th>\n",
       "      <th></th>\n",
       "      <th></th>\n",
       "      <th></th>\n",
       "      <th></th>\n",
       "      <th></th>\n",
       "      <th></th>\n",
       "      <th></th>\n",
       "      <th></th>\n",
       "      <th></th>\n",
       "      <th></th>\n",
       "    </tr>\n",
       "  </thead>\n",
       "  <tbody>\n",
       "    <tr>\n",
       "      <th rowspan=\"5\" valign=\"top\">1001</th>\n",
       "      <th>2002</th>\n",
       "      <th>Autauga, AL</th>\n",
       "      <td>3.202147</td>\n",
       "      <td>lower</td>\n",
       "      <td>1</td>\n",
       "      <td>12.531208</td>\n",
       "      <td>11.268</td>\n",
       "      <td>9.256</td>\n",
       "      <td>45909.0</td>\n",
       "      <td>17.386569</td>\n",
       "      <td>1.611884</td>\n",
       "      <td>74.841638</td>\n",
       "      <td>77.231178</td>\n",
       "      <td>2002</td>\n",
       "    </tr>\n",
       "    <tr>\n",
       "      <th>2003</th>\n",
       "      <th>Autauga, AL</th>\n",
       "      <td>1.434404</td>\n",
       "      <td>lower</td>\n",
       "      <td>1</td>\n",
       "      <td>12.598415</td>\n",
       "      <td>10.603</td>\n",
       "      <td>9.940</td>\n",
       "      <td>46800.0</td>\n",
       "      <td>17.493590</td>\n",
       "      <td>1.692308</td>\n",
       "      <td>75.093851</td>\n",
       "      <td>78.730077</td>\n",
       "      <td>2003</td>\n",
       "    </tr>\n",
       "    <tr>\n",
       "      <th>2004</th>\n",
       "      <th>Autauga, AL</th>\n",
       "      <td>15.061365</td>\n",
       "      <td>lower</td>\n",
       "      <td>1</td>\n",
       "      <td>12.780078</td>\n",
       "      <td>11.140</td>\n",
       "      <td>8.519</td>\n",
       "      <td>48366.0</td>\n",
       "      <td>17.584667</td>\n",
       "      <td>1.796717</td>\n",
       "      <td>74.459624</td>\n",
       "      <td>81.364507</td>\n",
       "      <td>2004</td>\n",
       "    </tr>\n",
       "    <tr>\n",
       "      <th>2005</th>\n",
       "      <th>Autauga, AL</th>\n",
       "      <td>0.333105</td>\n",
       "      <td>higher</td>\n",
       "      <td>1</td>\n",
       "      <td>12.856784</td>\n",
       "      <td>11.735</td>\n",
       "      <td>8.673</td>\n",
       "      <td>49676.0</td>\n",
       "      <td>17.612127</td>\n",
       "      <td>1.986875</td>\n",
       "      <td>74.920228</td>\n",
       "      <td>83.568276</td>\n",
       "      <td>2005</td>\n",
       "    </tr>\n",
       "    <tr>\n",
       "      <th>2006</th>\n",
       "      <th>Autauga, AL</th>\n",
       "      <td>7.440034</td>\n",
       "      <td>higher</td>\n",
       "      <td>1</td>\n",
       "      <td>12.832506</td>\n",
       "      <td>10.645</td>\n",
       "      <td>8.766</td>\n",
       "      <td>51328.0</td>\n",
       "      <td>17.898613</td>\n",
       "      <td>2.032029</td>\n",
       "      <td>73.641001</td>\n",
       "      <td>86.347380</td>\n",
       "      <td>2006</td>\n",
       "    </tr>\n",
       "    <tr>\n",
       "      <th>...</th>\n",
       "      <th>...</th>\n",
       "      <th>...</th>\n",
       "      <td>...</td>\n",
       "      <td>...</td>\n",
       "      <td>...</td>\n",
       "      <td>...</td>\n",
       "      <td>...</td>\n",
       "      <td>...</td>\n",
       "      <td>...</td>\n",
       "      <td>...</td>\n",
       "      <td>...</td>\n",
       "      <td>...</td>\n",
       "      <td>...</td>\n",
       "      <td>...</td>\n",
       "    </tr>\n",
       "    <tr>\n",
       "      <th rowspan=\"5\" valign=\"top\">56045</th>\n",
       "      <th>2014</th>\n",
       "      <th>Weston, WY</th>\n",
       "      <td>2.055429</td>\n",
       "      <td>lower</td>\n",
       "      <td>1</td>\n",
       "      <td>8.410000</td>\n",
       "      <td>9.694</td>\n",
       "      <td>5.612</td>\n",
       "      <td>7138.0</td>\n",
       "      <td>1.204819</td>\n",
       "      <td>3.950686</td>\n",
       "      <td>87.627044</td>\n",
       "      <td>2.976537</td>\n",
       "      <td>2014</td>\n",
       "    </tr>\n",
       "    <tr>\n",
       "      <th>2015</th>\n",
       "      <th>Weston, WY</th>\n",
       "      <td>12.558802</td>\n",
       "      <td>lower</td>\n",
       "      <td>0</td>\n",
       "      <td>8.415385</td>\n",
       "      <td>6.076</td>\n",
       "      <td>8.608</td>\n",
       "      <td>7208.0</td>\n",
       "      <td>1.054384</td>\n",
       "      <td>3.953940</td>\n",
       "      <td>86.978480</td>\n",
       "      <td>3.005727</td>\n",
       "      <td>2015</td>\n",
       "    </tr>\n",
       "    <tr>\n",
       "      <th>2016</th>\n",
       "      <th>Weston, WY</th>\n",
       "      <td>-10.381257</td>\n",
       "      <td>similar</td>\n",
       "      <td>0</td>\n",
       "      <td>7.644231</td>\n",
       "      <td>13.896</td>\n",
       "      <td>7.444</td>\n",
       "      <td>7220.0</td>\n",
       "      <td>1.038781</td>\n",
       "      <td>4.099723</td>\n",
       "      <td>87.816245</td>\n",
       "      <td>3.010731</td>\n",
       "      <td>2016</td>\n",
       "    </tr>\n",
       "    <tr>\n",
       "      <th>2017</th>\n",
       "      <th>Weston, WY</th>\n",
       "      <td>-0.153371</td>\n",
       "      <td>lower</td>\n",
       "      <td>0</td>\n",
       "      <td>7.808081</td>\n",
       "      <td>5.941</td>\n",
       "      <td>9.901</td>\n",
       "      <td>6968.0</td>\n",
       "      <td>1.248565</td>\n",
       "      <td>4.118829</td>\n",
       "      <td>87.065369</td>\n",
       "      <td>2.905647</td>\n",
       "      <td>2017</td>\n",
       "    </tr>\n",
       "    <tr>\n",
       "      <th>2018</th>\n",
       "      <th>Weston, WY</th>\n",
       "      <td>7.624480</td>\n",
       "      <td>lower</td>\n",
       "      <td>0</td>\n",
       "      <td>8.074468</td>\n",
       "      <td>5.208</td>\n",
       "      <td>9.375</td>\n",
       "      <td>6924.0</td>\n",
       "      <td>1.299827</td>\n",
       "      <td>3.942808</td>\n",
       "      <td>89.519962</td>\n",
       "      <td>2.887299</td>\n",
       "      <td>2018</td>\n",
       "    </tr>\n",
       "  </tbody>\n",
       "</table>\n",
       "<p>50834 rows × 12 columns</p>\n",
       "</div>"
      ],
      "text/plain": [
       "                        pct_d_rgdp urate_bin  pos_net_jobs  emp_estabs  \\\n",
       "fips  year GeoName                                                       \n",
       "1001  2002 Autauga, AL    3.202147     lower             1   12.531208   \n",
       "      2003 Autauga, AL    1.434404     lower             1   12.598415   \n",
       "      2004 Autauga, AL   15.061365     lower             1   12.780078   \n",
       "      2005 Autauga, AL    0.333105    higher             1   12.856784   \n",
       "      2006 Autauga, AL    7.440034    higher             1   12.832506   \n",
       "...                            ...       ...           ...         ...   \n",
       "56045 2014 Weston, WY     2.055429     lower             1    8.410000   \n",
       "      2015 Weston, WY    12.558802     lower             0    8.415385   \n",
       "      2016 Weston, WY   -10.381257   similar             0    7.644231   \n",
       "      2017 Weston, WY    -0.153371     lower             0    7.808081   \n",
       "      2018 Weston, WY     7.624480     lower             0    8.074468   \n",
       "\n",
       "                        estabs_entry_rate  estabs_exit_rate      pop  \\\n",
       "fips  year GeoName                                                     \n",
       "1001  2002 Autauga, AL             11.268             9.256  45909.0   \n",
       "      2003 Autauga, AL             10.603             9.940  46800.0   \n",
       "      2004 Autauga, AL             11.140             8.519  48366.0   \n",
       "      2005 Autauga, AL             11.735             8.673  49676.0   \n",
       "      2006 Autauga, AL             10.645             8.766  51328.0   \n",
       "...                                   ...               ...      ...   \n",
       "56045 2014 Weston, WY               9.694             5.612   7138.0   \n",
       "      2015 Weston, WY               6.076             8.608   7208.0   \n",
       "      2016 Weston, WY              13.896             7.444   7220.0   \n",
       "      2017 Weston, WY               5.941             9.901   6968.0   \n",
       "      2018 Weston, WY               5.208             9.375   6924.0   \n",
       "\n",
       "                        pop_pct_black  pop_pct_hisp       lfpr    density  \\\n",
       "fips  year GeoName                                                          \n",
       "1001  2002 Autauga, AL      17.386569      1.611884  74.841638  77.231178   \n",
       "      2003 Autauga, AL      17.493590      1.692308  75.093851  78.730077   \n",
       "      2004 Autauga, AL      17.584667      1.796717  74.459624  81.364507   \n",
       "      2005 Autauga, AL      17.612127      1.986875  74.920228  83.568276   \n",
       "      2006 Autauga, AL      17.898613      2.032029  73.641001  86.347380   \n",
       "...                               ...           ...        ...        ...   \n",
       "56045 2014 Weston, WY        1.204819      3.950686  87.627044   2.976537   \n",
       "      2015 Weston, WY        1.054384      3.953940  86.978480   3.005727   \n",
       "      2016 Weston, WY        1.038781      4.099723  87.816245   3.010731   \n",
       "      2017 Weston, WY        1.248565      4.118829  87.065369   2.905647   \n",
       "      2018 Weston, WY        1.299827      3.942808  89.519962   2.887299   \n",
       "\n",
       "                        year  \n",
       "fips  year GeoName            \n",
       "1001  2002 Autauga, AL  2002  \n",
       "      2003 Autauga, AL  2003  \n",
       "      2004 Autauga, AL  2004  \n",
       "      2005 Autauga, AL  2005  \n",
       "      2006 Autauga, AL  2006  \n",
       "...                      ...  \n",
       "56045 2014 Weston, WY   2014  \n",
       "      2015 Weston, WY   2015  \n",
       "      2016 Weston, WY   2016  \n",
       "      2017 Weston, WY   2017  \n",
       "      2018 Weston, WY   2018  \n",
       "\n",
       "[50834 rows x 12 columns]"
      ]
     },
     "execution_count": 3,
     "metadata": {},
     "output_type": "execute_result"
    }
   ],
   "source": [
    "df"
   ]
  },
  {
   "cell_type": "code",
   "execution_count": 4,
   "metadata": {},
   "outputs": [],
   "source": [
    "df_prepped = df.drop(columns = ['urate_bin', 'year']).join([\n",
    "    pd.get_dummies(df['urate_bin'], drop_first = True),\n",
    "    pd.get_dummies(df.year, drop_first = True)    \n",
    "])"
   ]
  },
  {
   "cell_type": "code",
   "execution_count": 5,
   "metadata": {},
   "outputs": [],
   "source": [
    "y = df_prepped['pct_d_rgdp']\n",
    "x = df_prepped.drop(columns = 'pct_d_rgdp')\n",
    "\n",
    "x_train, x_test, y_train, y_test = train_test_split(x, y, train_size = 2/3, random_state = 490)\n",
    "\n",
    "x_train_std = x_train.apply(lambda x: (x - np.mean(x))/np.std(x), axis = 0)\n",
    "x_test_std  = x_test.apply(lambda x: (x - np.mean(x))/np.std(x), axis = 0)\n",
    "\n",
    "x_train_std = sm.add_constant(x_train_std)\n",
    "x_test_std  = sm.add_constant(x_test_std)\n",
    "x_train     = sm.add_constant(x_train)\n",
    "x_test      = sm.add_constant(x_test)"
   ]
  },
  {
   "cell_type": "markdown",
   "metadata": {},
   "source": [
    "Take a look at `lm.ElasticNet?` and \n",
    "```\n",
    "fit = sm.OLS(y_train, x_train)\n",
    "fit.fit_regularized?\n",
    "```\n",
    "Determine which coefficients are the same, but named differently.\n",
    "Specifically, $\\alpha$ and the weight on the different constraints (i.e. $||\\beta||_2$ and $||\\beta||_1$)."
   ]
  },
  {
   "cell_type": "code",
   "execution_count": 5,
   "metadata": {},
   "outputs": [],
   "source": [
    "# lm.ElasticNet?"
   ]
  },
  {
   "cell_type": "code",
   "execution_count": 6,
   "metadata": {},
   "outputs": [],
   "source": [
    "fit = sm.OLS(y_train, x_train)\n",
    "# fit.fit_regularized?"
   ]
  },
  {
   "cell_type": "markdown",
   "metadata": {},
   "source": [
    "Perform a 5-fold cross-validation grid search with a random state of 490. \n",
    "Identify the optimally tuned hyperparameters.\n",
    "Use this grid:\n",
    "```\n",
    "param_grid = {'alpha': 10.**np.arange(-5, -1, 1), \n",
    "              'l1_ratio': np.arange(0, 1, 0.1)}\n",
    "```\n",
    "You will get a warning message about convergence.\n",
    "We will discuss it after the workshop.\n",
    "Think about why it occuring."
   ]
  },
  {
   "cell_type": "code",
   "execution_count": 6,
   "metadata": {},
   "outputs": [
    {
     "name": "stdout",
     "output_type": "stream",
     "text": [
      "{'alpha': 0.01, 'l1_ratio': 0.0}\n"
     ]
    },
    {
     "name": "stderr",
     "output_type": "stream",
     "text": [
      "C:\\Users\\johnj\\anaconda3\\envs\\AMLinEcon\\lib\\site-packages\\sklearn\\linear_model\\_coordinate_descent.py:529: ConvergenceWarning: Objective did not converge. You might want to increase the number of iterations. Duality gap: 1449757.3812360954, tolerance: 315.5255958178445\n",
      "  model = cd_fast.enet_coordinate_descent(\n"
     ]
    },
    {
     "data": {
      "text/plain": [
       "{'alpha': 0.01, 'l1_ratio': 0.0}"
      ]
     },
     "execution_count": 6,
     "metadata": {},
     "output_type": "execute_result"
    }
   ],
   "source": [
    "param_grid = {'alpha': 10.**np.arange(-5, -1, 1), \n",
    "              'l1_ratio': np.arange(0, 1, 0.1)}\n",
    "\n",
    "cv_enet = lm.ElasticNet(fit_intercept = False, normalize = False,\n",
    "                        random_state = 490)\n",
    "grid_search = GridSearchCV(cv_enet, param_grid, cv = 5,\n",
    "                         scoring = 'neg_root_mean_squared_error',\n",
    "                          n_jobs = 8)\n",
    "grid_search.fit(x_train_std, y_train)\n",
    "print(grid_search.best_params_)\n",
    "best = grid_search.best_params_\n",
    "best"
   ]
  },
  {
   "cell_type": "markdown",
   "metadata": {},
   "source": [
    "****\n",
    "# Question\n",
    "\n",
    "How many models did we just fit?"
   ]
  },
  {
   "cell_type": "code",
   "execution_count": 7,
   "metadata": {},
   "outputs": [
    {
     "data": {
      "text/plain": [
       "200"
      ]
     },
     "execution_count": 7,
     "metadata": {},
     "output_type": "execute_result"
    }
   ],
   "source": [
    "len(np.arange(-5, -1, 1)) * len(np.arange(0, 1, 0.1)) * 5"
   ]
  },
  {
   "cell_type": "markdown",
   "metadata": {},
   "source": [
    "***\n",
    "Using the tuned hyperparameters, fit your elastic net model with `statsmodels`"
   ]
  },
  {
   "cell_type": "code",
   "execution_count": 9,
   "metadata": {},
   "outputs": [
    {
     "data": {
      "text/plain": [
       "const                1.983286\n",
       "pos_net_jobs         0.572045\n",
       "emp_estabs          -0.183756\n",
       "estabs_entry_rate    0.876108\n",
       "estabs_exit_rate    -0.539253\n",
       "pop                 -0.102356\n",
       "pop_pct_black        0.023722\n",
       "pop_pct_hisp         0.315638\n",
       "lfpr                 0.489344\n",
       "density             -0.007976\n",
       "lower                0.611242\n",
       "similar              0.261767\n",
       "2003                -0.091758\n",
       "2004                -0.163169\n",
       "2005                -0.019092\n",
       "2006                 0.356963\n",
       "2007                -0.415763\n",
       "2008                -0.447180\n",
       "2009                -0.635916\n",
       "2010                 0.080947\n",
       "2011                -0.184657\n",
       "2012                -0.479680\n",
       "2013                -0.061949\n",
       "2014                -0.409004\n",
       "2015                -0.328123\n",
       "2016                -0.679548\n",
       "2017                -0.310168\n",
       "2018                -0.158566\n",
       "dtype: float64"
      ]
     },
     "execution_count": 9,
     "metadata": {},
     "output_type": "execute_result"
    }
   ],
   "source": [
    "fit_enet = sm.OLS(y_train, x_train_std).fit_regularized(alpha = best['alpha'], L1_wt = best['l1_ratio'])\n",
    "fit_enet.params"
   ]
  },
  {
   "cell_type": "markdown",
   "metadata": {},
   "source": [
    "Using the selected features refit\n",
    "\n",
    "- the non-regularized model with standardized features\n",
    "- the non-regularized model with non-standardized features"
   ]
  },
  {
   "cell_type": "code",
   "execution_count": 10,
   "metadata": {},
   "outputs": [],
   "source": [
    "fit_ols_std = sm.OLS(y_train, x_train_std).fit()\n",
    "fit_ols     = sm.OLS(y_train, x_train).fit()"
   ]
  },
  {
   "cell_type": "markdown",
   "metadata": {},
   "source": [
    "Compare the percent improvement from the null model RMSE to the elastic-net and OLS model."
   ]
  },
  {
   "cell_type": "code",
   "execution_count": 11,
   "metadata": {},
   "outputs": [],
   "source": [
    "rmse_null = np.sqrt(np.mean(  (y_test - np.mean(y_train))**2  ))"
   ]
  },
  {
   "cell_type": "code",
   "execution_count": 12,
   "metadata": {},
   "outputs": [
    {
     "name": "stdout",
     "output_type": "stream",
     "text": [
      "9.215449872590813\n"
     ]
    },
    {
     "data": {
      "text/plain": [
       "-2.0"
      ]
     },
     "execution_count": 12,
     "metadata": {},
     "output_type": "execute_result"
    }
   ],
   "source": [
    "rmse_enet = np.sqrt(np.mean(  (y_test - fit_enet.predict(x_test_std))**2  ))\n",
    "print(rmse_enet)\n",
    "round((rmse_enet-rmse_null)/rmse_null*100, 2)"
   ]
  },
  {
   "cell_type": "code",
   "execution_count": 13,
   "metadata": {},
   "outputs": [
    {
     "name": "stdout",
     "output_type": "stream",
     "text": [
      "9.215449872590813\n"
     ]
    },
    {
     "data": {
      "text/plain": [
       "-2.0"
      ]
     },
     "execution_count": 13,
     "metadata": {},
     "output_type": "execute_result"
    }
   ],
   "source": [
    "rmse_ols_std = np.sqrt(np.mean(  (y_test - fit_ols_std.predict(x_test_std))**2  ))\n",
    "print(rmse_ols_std)\n",
    "round((rmse_ols_std - rmse_null)/rmse_null*100, 2)"
   ]
  },
  {
   "cell_type": "code",
   "execution_count": 14,
   "metadata": {},
   "outputs": [
    {
     "name": "stdout",
     "output_type": "stream",
     "text": [
      "9.215378381791668\n"
     ]
    },
    {
     "data": {
      "text/plain": [
       "-2.0"
      ]
     },
     "execution_count": 14,
     "metadata": {},
     "output_type": "execute_result"
    }
   ],
   "source": [
    "rmse_ols = np.sqrt(np.mean(  (y_test - fit_ols.predict(x_test))**2  ))\n",
    "print(rmse_ols)\n",
    "round((rmse_ols - rmse_null)/rmse_null*100, 2)"
   ]
  },
  {
   "cell_type": "code",
   "execution_count": null,
   "metadata": {},
   "outputs": [],
   "source": []
  }
 ],
 "metadata": {
  "kernelspec": {
   "display_name": "Python 3",
   "language": "python",
   "name": "python3"
  },
  "language_info": {
   "codemirror_mode": {
    "name": "ipython",
    "version": 3
   },
   "file_extension": ".py",
   "mimetype": "text/x-python",
   "name": "python",
   "nbconvert_exporter": "python",
   "pygments_lexer": "ipython3",
   "version": "3.8.5"
  }
 },
 "nbformat": 4,
 "nbformat_minor": 4
}
