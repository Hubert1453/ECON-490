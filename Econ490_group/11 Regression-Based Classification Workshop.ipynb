{
 "cells": [
  {
   "cell_type": "markdown",
   "metadata": {},
   "source": [
    "Hubert Wang: Econometrics, junior\n",
    "- Favorite food is pizza, last ate a week ago from costco (pepperoni)\n",
    "- Watching tv series with roommates (brooklyn 99, community)\n",
    "\n",
    "\n",
    "Yu Wan: Computer Science + economics, junior\n",
    "- Korean style fried chicken\n",
    "- Watching tv series with roommates (breaking bad, chinese tv shows)"
   ]
  },
  {
   "cell_type": "markdown",
   "metadata": {},
   "source": [
    "## Workshop - Regression-Based Classification\n",
    "\n",
    "Does `statsmodels` marginal effect use the average of covariates or the average predicted values? \n",
    "- Use the class data.\n",
    "- Show your work.\n",
    "\n",
    "Load the necessary packages and data:"
   ]
  },
  {
   "cell_type": "code",
   "execution_count": 1,
   "metadata": {},
   "outputs": [],
   "source": [
    "import numpy as np\n",
    "import pandas as pd\n",
    "from tqdm import tqdm # progress bar\n",
    "\n",
    "import statsmodels.api as sm\n",
    "from sklearn import linear_model as lm\n",
    "\n",
    "from sklearn.model_selection import GridSearchCV, train_test_split, KFold\n",
    "from sklearn.metrics import confusion_matrix, plot_confusion_matrix\n",
    "\n",
    "import matplotlib.pyplot as plt\n",
    "import seaborn as sns\n",
    "sns.set(rc = {'axes.titlesize': 24,\n",
    "             'axes.labelsize': 20,\n",
    "             'xtick.labelsize': 12,\n",
    "             'ytick.labelsize': 12,\n",
    "             'figure.figsize': (8, 4.5)})\n",
    "sns.set_style(\"white\") # for plot_confusion_matrix()"
   ]
  },
  {
   "cell_type": "code",
   "execution_count": 3,
   "metadata": {},
   "outputs": [],
   "source": [
    "df = pd.read_pickle('C:/Users/hubst/Econ490_group/class_data.pkl')\n",
    "\n",
    "df_prepped = df.drop(columns = ['urate_bin', 'year', 'GeoName']).join([\n",
    "    pd.get_dummies(df['urate_bin'], drop_first = True),\n",
    "    pd.get_dummies(df.year, drop_first = True)    \n",
    "])\n",
    "\n",
    "y = df_prepped['pos_net_jobs'].astype(float)\n",
    "x = df_prepped.drop(columns = 'pos_net_jobs')\n",
    "\n",
    "x_train, x_test, y_train, y_test = train_test_split(x, y, train_size = 2/3, random_state = 490)\n",
    "\n",
    "x_train_std = x_train.apply(lambda x: (x - np.mean(x))/np.std(x), axis = 0)\n",
    "x_test_std  = x_test.apply(lambda x: (x - np.mean(x))/np.std(x), axis = 0)\n",
    "\n",
    "x_train_std = sm.add_constant(x_train_std)\n",
    "x_test_std  = sm.add_constant(x_test_std)\n",
    "x_train     = sm.add_constant(x_train)\n",
    "x_test      = sm.add_constant(x_test)"
   ]
  },
  {
   "cell_type": "markdown",
   "metadata": {},
   "source": [
    "Fit a logistic regression using either `sm.Logit()` or `smf.logit()`."
   ]
  },
  {
   "cell_type": "code",
   "execution_count": 4,
   "metadata": {},
   "outputs": [
    {
     "name": "stdout",
     "output_type": "stream",
     "text": [
      "Optimization terminated successfully.\n",
      "         Current function value: 0.598795\n",
      "         Iterations 6\n"
     ]
    }
   ],
   "source": [
    "fit_logit = sm.Logit(y_train, x_train).fit()"
   ]
  },
  {
   "cell_type": "markdown",
   "metadata": {},
   "source": [
    "Get the marginal effects (`.get_margeff()`). Print the summary (`.summary()`)."
   ]
  },
  {
   "cell_type": "code",
   "execution_count": 8,
   "metadata": {},
   "outputs": [
    {
     "name": "stdout",
     "output_type": "stream",
     "text": [
      "<statsmodels.discrete.discrete_margins.DiscreteMargins object at 0x000001FAF5B4BE80>\n",
      "                           Logit Regression Results                           \n",
      "==============================================================================\n",
      "Dep. Variable:           pos_net_jobs   No. Observations:                33418\n",
      "Model:                          Logit   Df Residuals:                    33390\n",
      "Method:                           MLE   Df Model:                           27\n",
      "Date:                Tue, 02 Mar 2021   Pseudo R-squ.:                  0.1267\n",
      "Time:                        14:44:25   Log-Likelihood:                -20011.\n",
      "converged:                       True   LL-Null:                       -22913.\n",
      "Covariance Type:            nonrobust   LLR p-value:                     0.000\n",
      "=====================================================================================\n",
      "                        coef    std err          z      P>|z|      [0.025      0.975]\n",
      "-------------------------------------------------------------------------------------\n",
      "const                -2.1336      0.149    -14.285      0.000      -2.426      -1.841\n",
      "pct_d_rgdp            0.0155      0.001     10.386      0.000       0.013       0.018\n",
      "emp_estabs            0.0417      0.003     14.124      0.000       0.036       0.047\n",
      "estabs_entry_rate     0.2041      0.006     36.385      0.000       0.193       0.215\n",
      "estabs_exit_rate     -0.1647      0.006    -26.840      0.000      -0.177      -0.153\n",
      "pop                9.949e-08   4.81e-08      2.068      0.039     5.2e-09    1.94e-07\n",
      "pop_pct_black        -0.0033      0.001     -3.517      0.000      -0.005      -0.001\n",
      "pop_pct_hisp          0.0059      0.001      5.929      0.000       0.004       0.008\n",
      "lfpr                  0.0019      0.001      1.375      0.169      -0.001       0.005\n",
      "density            8.225e-06   8.04e-06      1.024      0.306   -7.52e-06     2.4e-05\n",
      "lower                 0.3610      0.034     10.697      0.000       0.295       0.427\n",
      "similar               0.1662      0.036      4.631      0.000       0.096       0.237\n",
      "2003                  1.0495      0.069     15.235      0.000       0.914       1.185\n",
      "2004                  1.3234      0.071     18.755      0.000       1.185       1.462\n",
      "2005                  1.2072      0.072     16.755      0.000       1.066       1.348\n",
      "2006                  1.7648      0.076     23.286      0.000       1.616       1.913\n",
      "2007                  0.5726      0.068      8.405      0.000       0.439       0.706\n",
      "2008                  0.8626      0.069     12.501      0.000       0.727       0.998\n",
      "2009                 -0.5327      0.083     -6.441      0.000      -0.695      -0.371\n",
      "2010                  0.2174      0.072      3.034      0.002       0.077       0.358\n",
      "2011                  1.3064      0.070     18.592      0.000       1.169       1.444\n",
      "2012                  1.5542      0.072     21.535      0.000       1.413       1.696\n",
      "2013                  1.2692      0.071     17.903      0.000       1.130       1.408\n",
      "2014                  1.5313      0.073     21.052      0.000       1.389       1.674\n",
      "2015                  1.6098      0.074     21.832      0.000       1.465       1.754\n",
      "2016                  1.3157      0.072     18.249      0.000       1.174       1.457\n",
      "2017                  1.1677      0.071     16.552      0.000       1.029       1.306\n",
      "2018                  1.4274      0.073     19.617      0.000       1.285       1.570\n",
      "=====================================================================================\n"
     ]
    }
   ],
   "source": [
    "print(fit_logit.get_margeff())\n",
    "print(fit_logit.summary())"
   ]
  },
  {
   "cell_type": "code",
   "execution_count": 17,
   "metadata": {},
   "outputs": [
    {
     "data": {
      "text/plain": [
       "pct_d_rgdp                1.950070\n",
       "emp_estabs               13.359081\n",
       "estabs_entry_rate         9.299141\n",
       "estabs_exit_rate          8.880961\n",
       "pop                  103177.530373\n",
       "pop_pct_black             9.530799\n",
       "pop_pct_hisp              8.155588\n",
       "lfpr                     76.466245\n",
       "density                 253.024034\n",
       "lower                     0.379017\n",
       "similar                   0.183713\n",
       "2003                      0.059130\n",
       "2004                      0.058831\n",
       "2005                      0.059309\n",
       "2006                      0.059748\n",
       "2007                      0.059010\n",
       "2008                      0.059190\n",
       "2009                      0.058791\n",
       "2010                      0.058372\n",
       "2011                      0.059050\n",
       "2012                      0.058352\n",
       "2013                      0.058432\n",
       "2014                      0.058511\n",
       "2015                      0.058511\n",
       "2016                      0.058531\n",
       "2017                      0.058252\n",
       "2018                      0.058392\n",
       "dtype: float64"
      ]
     },
     "execution_count": 17,
     "metadata": {},
     "output_type": "execute_result"
    }
   ],
   "source": [
    "np.mean(x)"
   ]
  },
  {
   "cell_type": "markdown",
   "metadata": {},
   "source": [
    "***\n",
    "# Covariate Averages\n",
    "$$\n",
    "\\frac{\\partial p(x_i)}{\\partial \\beta_1} \\approx \\frac{e^{\\hat{\\beta}_0 + \\bar{x}\\hat{\\beta}_1 + \\bar{x}\\hat{\\beta_2}}}{(1 + e^{\\hat{\\beta}_0 + \\bar{x}\\hat{\\beta}_1 + \\bar{x}\\hat{\\beta_2}})^2}\\hat{\\beta}\n",
    "$$"
   ]
  },
  {
   "cell_type": "code",
   "execution_count": 13,
   "metadata": {},
   "outputs": [
    {
     "ename": "NameError",
     "evalue": "name 'average' is not defined",
     "output_type": "error",
     "traceback": [
      "\u001b[1;31m---------------------------------------------------------------------------\u001b[0m",
      "\u001b[1;31mNameError\u001b[0m                                 Traceback (most recent call last)",
      "\u001b[1;32m<ipython-input-13-a2586c841430>\u001b[0m in \u001b[0;36m<module>\u001b[1;34m\u001b[0m\n\u001b[1;32m----> 1\u001b[1;33m \u001b[0maverage\u001b[0m\u001b[1;33m(\u001b[0m\u001b[0mfit_logit\u001b[0m\u001b[1;33m)\u001b[0m\u001b[1;33m\u001b[0m\u001b[1;33m\u001b[0m\u001b[0m\n\u001b[0m",
      "\u001b[1;31mNameError\u001b[0m: name 'average' is not defined"
     ]
    }
   ],
   "source": [
    "exp(-2.1336 + 0.0155 + 0.0417 + 0.2041 + (-0.1647) + 0.00000009949 + (-0.0033) \n",
    "    + 0.0059 + 0.0019 + 0.000008225 + 0.3610 + 0.1662 + 1.0495 + 1.3234 + 1.2072 \n",
    "    + 1.7648 + 0.5726 + 0.8626 + (-0.5327) + 0.2174 + 1.3064 + 1.5542 + 1.2692 + 1.5313 + 1.6098 + 1.3157 + 1.1677 + 1.4274)"
   ]
  },
  {
   "cell_type": "code",
   "execution_count": null,
   "metadata": {},
   "outputs": [],
   "source": []
  },
  {
   "cell_type": "markdown",
   "metadata": {},
   "source": [
    "***\n",
    "# Predicted values Averages\n",
    "$$\n",
    "\\frac{\\partial p(x_i)}{\\partial \\beta_1} \\approx \\frac{1}{n} \\sum_{i=1}\n",
    "^n \\frac{e^{\\hat{y}_i}}{1 + e^{\\hat{y}_i}}\\hat{\\beta}\n",
    "$$"
   ]
  },
  {
   "cell_type": "code",
   "execution_count": null,
   "metadata": {},
   "outputs": [],
   "source": []
  },
  {
   "cell_type": "code",
   "execution_count": null,
   "metadata": {},
   "outputs": [],
   "source": []
  },
  {
   "cell_type": "markdown",
   "metadata": {},
   "source": [
    "*** \n",
    "# Interpretaton\n",
    "\n",
    "Interpret the marginal effect on one feature."
   ]
  },
  {
   "cell_type": "markdown",
   "metadata": {},
   "source": []
  }
 ],
 "metadata": {
  "kernelspec": {
   "display_name": "Python 3",
   "language": "python",
   "name": "python3"
  },
  "language_info": {
   "codemirror_mode": {
    "name": "ipython",
    "version": 3
   },
   "file_extension": ".py",
   "mimetype": "text/x-python",
   "name": "python",
   "nbconvert_exporter": "python",
   "pygments_lexer": "ipython3",
   "version": "3.8.5"
  }
 },
 "nbformat": 4,
 "nbformat_minor": 5
}
