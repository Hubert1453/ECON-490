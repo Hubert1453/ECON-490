{
 "cells": [
  {
   "cell_type": "markdown",
   "metadata": {},
   "source": [
    "## Workshop - OLS Python\n",
    "\n",
    "In this workshop, we are going to:\n",
    "\n",
    "1. perform backward selection on the class data set\n",
    "   1. fit the full model with $\\%\\Delta rGDP$ as the label\n",
    "   2. remove the feature with the highest p-value\n",
    "   3. refit the model\n",
    "   4. repeat steps B. and C. until all features have p-values below 0.05\n",
    "2. evaluatate the model performance\n",
    "\n",
    "*Do not use interactions or polynomial terms in this workshop.*\n",
    "\n",
    "# Preliminaries\n",
    "\n",
    "- Load any necessary packages and/or functions\n",
    "    * For backward select, I recommend using `statsmodels.api` instead of `statsmodels.formula.api`. Your choice.\n",
    "- Load in the class data\n",
    "- Define `x` and `y`\n",
    "- Create a train-test split with\n",
    "    * training size of two-thirds\n",
    "    * random state of 490"
   ]
  },
  {
   "cell_type": "code",
   "execution_count": 1,
   "metadata": {},
   "outputs": [],
   "source": [
    "import pandas as pd\n",
    "import numpy as np\n",
    "\n",
    "import statsmodels.api as sm\n",
    "import statsmodels.formula.api as smf\n",
    "\n",
    "from sklearn.linear_model import LinearRegression\n",
    "from sklearn.model_selection import train_test_split\n",
    "from sklearn.metrics import mean_squared_error"
   ]
  },
  {
   "cell_type": "code",
   "execution_count": 23,
   "metadata": {},
   "outputs": [],
   "source": [
    "df = pd.read_pickle('C:/Users/hubst/Econ490_group/class_data.pkl')"
   ]
  },
  {
   "cell_type": "code",
   "execution_count": 24,
   "metadata": {},
   "outputs": [],
   "source": [
    "y = df['pct_d_rgdp']\n",
    "x = df.drop(columns = 'pct_d_rgdp')"
   ]
  },
  {
   "cell_type": "code",
   "execution_count": null,
   "metadata": {},
   "outputs": [],
   "source": [
    "x = x.join([pd.get_dummies(x['year'], prefix = 'year', drop_first = True),\n",
    "          pd.get_dummies(x['urate_bin'], prefix = 'urate', drop_first = True)]).drop(columns = ['year', 'urate_bin'])\n",
    "x = sm.add_constant(x)\n",
    "\n",
    "x['lfpr:urate_lower'] = x.lfpr * x.urate_lower\n",
    "x['lfpr:urate_similar'] = x.lfpr * x.urate_similar\n",
    "x['emp_estabs_sq'] = x.emp_estabs**2\n",
    "\n",
    "x.drop(columns = ['GeoName', 'pos_net_jobs', 'estabs_entry_rate', 'estabs_exit_rate',\n",
    "                  'pop', 'pop_pct_black', 'pop_pct_hisp', 'density'], inplace = True)\n",
    "\n",
    "x.sort_index(axis = 'columns', inplace = True)\n",
    "\n",
    "x.columns"
   ]
  },
  {
   "cell_type": "code",
   "execution_count": 25,
   "metadata": {},
   "outputs": [],
   "source": [
    "x.drop(columns = ['GeoName', 'urate_bin'], inplace = True)\n",
    "x.drop(columns = ['pop_pct_black', 'density', 'emp_estabs'], inplace = True)"
   ]
  },
  {
   "cell_type": "code",
   "execution_count": 26,
   "metadata": {},
   "outputs": [],
   "source": [
    "x_train, x_test, y_train, y_test = train_test_split(x, y, train_size = 2/3, random_state = 490)"
   ]
  },
  {
   "cell_type": "markdown",
   "metadata": {},
   "source": [
    "*****\n",
    "# Backward Selection "
   ]
  },
  {
   "cell_type": "code",
   "execution_count": 27,
   "metadata": {},
   "outputs": [
    {
     "name": "stdout",
     "output_type": "stream",
     "text": [
      "                                 OLS Regression Results                                \n",
      "=======================================================================================\n",
      "Dep. Variable:             pct_d_rgdp   R-squared (uncentered):                   0.068\n",
      "Model:                            OLS   Adj. R-squared (uncentered):              0.068\n",
      "Method:                 Least Squares   F-statistic:                              350.7\n",
      "Date:                Tue, 23 Feb 2021   Prob (F-statistic):                        0.00\n",
      "Time:                        14:54:53   Log-Likelihood:                     -1.2105e+05\n",
      "No. Observations:               33418   AIC:                                  2.421e+05\n",
      "Df Residuals:                   33411   BIC:                                  2.422e+05\n",
      "Df Model:                           7                                                  \n",
      "Covariance Type:            nonrobust                                                  \n",
      "=====================================================================================\n",
      "                        coef    std err          t      P>|t|      [0.025      0.975]\n",
      "-------------------------------------------------------------------------------------\n",
      "pos_net_jobs          1.1618      0.104     11.138      0.000       0.957       1.366\n",
      "estabs_entry_rate     0.3323      0.019     17.846      0.000       0.296       0.369\n",
      "estabs_exit_rate     -0.1612      0.022     -7.415      0.000      -0.204      -0.119\n",
      "pop               -5.425e-07   1.55e-07     -3.504      0.000   -8.46e-07   -2.39e-07\n",
      "pop_pct_hisp          0.0293      0.004      7.499      0.000       0.022       0.037\n",
      "lfpr                  0.0699      0.005     15.350      0.000       0.061       0.079\n",
      "year                 -0.0029      0.000    -14.377      0.000      -0.003      -0.003\n",
      "==============================================================================\n",
      "Omnibus:                    33748.667   Durbin-Watson:                   1.988\n",
      "Prob(Omnibus):                  0.000   Jarque-Bera (JB):         11124603.754\n",
      "Skew:                           4.369   Prob(JB):                         0.00\n",
      "Kurtosis:                      91.956   Cond. No.                     7.26e+05\n",
      "==============================================================================\n",
      "\n",
      "Notes:\n",
      "[1] R² is computed without centering (uncentered) since the model does not contain a constant.\n",
      "[2] Standard Errors assume that the covariance matrix of the errors is correctly specified.\n",
      "[3] The condition number is large, 7.26e+05. This might indicate that there are\n",
      "strong multicollinearity or other numerical problems.\n"
     ]
    }
   ],
   "source": [
    "x_train.drop(columns = ['pop_pct_black', 'density', 'emp_estabs', 'year_2003'], inplace = True)\n",
    "fit_sm = sm.OLS(y_train, x_train).fit()\n",
    "print(fit_sm.summary())"
   ]
  },
  {
   "cell_type": "markdown",
   "metadata": {},
   "source": [
    "**********\n",
    "# Testing\n",
    "\n",
    "Evaluate two RMSEs:\n",
    "\n",
    "1. null model\n",
    "2. backward-selected model\n",
    "\n",
    "Then, determine the percent improvement of the backward-selected model from the null model."
   ]
  },
  {
   "cell_type": "code",
   "execution_count": 32,
   "metadata": {},
   "outputs": [
    {
     "data": {
      "text/plain": [
       "9.15424055100316"
      ]
     },
     "execution_count": 32,
     "metadata": {},
     "output_type": "execute_result"
    }
   ],
   "source": [
    "y_hat_sm = fit_sm.predict(x_test)\n",
    "y_hat_sm.head()\n",
    "rmse_sm = np.sqrt(np.mean((y_test - y_hat_sm)**2))\n",
    "rmse_sm"
   ]
  },
  {
   "cell_type": "code",
   "execution_count": 22,
   "metadata": {},
   "outputs": [
    {
     "data": {
      "text/plain": [
       "(16709, 10)"
      ]
     },
     "execution_count": 22,
     "metadata": {},
     "output_type": "execute_result"
    }
   ],
   "source": [
    "x_test.shape"
   ]
  },
  {
   "cell_type": "code",
   "execution_count": null,
   "metadata": {},
   "outputs": [],
   "source": []
  }
 ],
 "metadata": {
  "kernelspec": {
   "display_name": "Python 3",
   "language": "python",
   "name": "python3"
  },
  "language_info": {
   "codemirror_mode": {
    "name": "ipython",
    "version": 3
   },
   "file_extension": ".py",
   "mimetype": "text/x-python",
   "name": "python",
   "nbconvert_exporter": "python",
   "pygments_lexer": "ipython3",
   "version": "3.8.5"
  }
 },
 "nbformat": 4,
 "nbformat_minor": 4
}
