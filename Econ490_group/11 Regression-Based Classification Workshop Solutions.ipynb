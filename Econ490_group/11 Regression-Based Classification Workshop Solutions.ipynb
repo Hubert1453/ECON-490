{
 "cells": [
  {
   "cell_type": "markdown",
   "id": "italic-bullet",
   "metadata": {},
   "source": [
    "## Workshop - Regression-Based Classification\n",
    "\n",
    "Does `statsmodels` marginal effect use the average of covariates or the average predicted values? \n",
    "- Use the class data.\n",
    "- Show your work.\n",
    "\n",
    "Load the necessary packages and data:"
   ]
  },
  {
   "cell_type": "code",
   "execution_count": 1,
   "id": "extra-antique",
   "metadata": {},
   "outputs": [],
   "source": [
    "import pandas as pd\n",
    "import numpy as np\n",
    "import statsmodels.formula.api as smf"
   ]
  },
  {
   "cell_type": "code",
   "execution_count": 2,
   "id": "extra-negative",
   "metadata": {},
   "outputs": [
    {
     "data": {
      "text/html": [
       "<div>\n",
       "<style scoped>\n",
       "    .dataframe tbody tr th:only-of-type {\n",
       "        vertical-align: middle;\n",
       "    }\n",
       "\n",
       "    .dataframe tbody tr th {\n",
       "        vertical-align: top;\n",
       "    }\n",
       "\n",
       "    .dataframe thead th {\n",
       "        text-align: right;\n",
       "    }\n",
       "</style>\n",
       "<table border=\"1\" class=\"dataframe\">\n",
       "  <thead>\n",
       "    <tr style=\"text-align: right;\">\n",
       "      <th></th>\n",
       "      <th></th>\n",
       "      <th></th>\n",
       "      <th>pct_d_rgdp</th>\n",
       "      <th>urate_bin</th>\n",
       "      <th>pos_net_jobs</th>\n",
       "      <th>emp_estabs</th>\n",
       "      <th>estabs_entry_rate</th>\n",
       "      <th>estabs_exit_rate</th>\n",
       "      <th>pop</th>\n",
       "      <th>pop_pct_black</th>\n",
       "      <th>pop_pct_hisp</th>\n",
       "      <th>lfpr</th>\n",
       "      <th>density</th>\n",
       "      <th>year</th>\n",
       "    </tr>\n",
       "    <tr>\n",
       "      <th>fips</th>\n",
       "      <th>year</th>\n",
       "      <th>GeoName</th>\n",
       "      <th></th>\n",
       "      <th></th>\n",
       "      <th></th>\n",
       "      <th></th>\n",
       "      <th></th>\n",
       "      <th></th>\n",
       "      <th></th>\n",
       "      <th></th>\n",
       "      <th></th>\n",
       "      <th></th>\n",
       "      <th></th>\n",
       "      <th></th>\n",
       "    </tr>\n",
       "  </thead>\n",
       "  <tbody>\n",
       "    <tr>\n",
       "      <th rowspan=\"5\" valign=\"top\">1001</th>\n",
       "      <th>2002</th>\n",
       "      <th>Autauga, AL</th>\n",
       "      <td>3.202147</td>\n",
       "      <td>lower</td>\n",
       "      <td>1</td>\n",
       "      <td>12.531208</td>\n",
       "      <td>11.268</td>\n",
       "      <td>9.256</td>\n",
       "      <td>45909.0</td>\n",
       "      <td>17.386569</td>\n",
       "      <td>1.611884</td>\n",
       "      <td>74.841638</td>\n",
       "      <td>77.231178</td>\n",
       "      <td>2002</td>\n",
       "    </tr>\n",
       "    <tr>\n",
       "      <th>2003</th>\n",
       "      <th>Autauga, AL</th>\n",
       "      <td>1.434404</td>\n",
       "      <td>lower</td>\n",
       "      <td>1</td>\n",
       "      <td>12.598415</td>\n",
       "      <td>10.603</td>\n",
       "      <td>9.940</td>\n",
       "      <td>46800.0</td>\n",
       "      <td>17.493590</td>\n",
       "      <td>1.692308</td>\n",
       "      <td>75.093851</td>\n",
       "      <td>78.730077</td>\n",
       "      <td>2003</td>\n",
       "    </tr>\n",
       "    <tr>\n",
       "      <th>2004</th>\n",
       "      <th>Autauga, AL</th>\n",
       "      <td>15.061365</td>\n",
       "      <td>lower</td>\n",
       "      <td>1</td>\n",
       "      <td>12.780078</td>\n",
       "      <td>11.140</td>\n",
       "      <td>8.519</td>\n",
       "      <td>48366.0</td>\n",
       "      <td>17.584667</td>\n",
       "      <td>1.796717</td>\n",
       "      <td>74.459624</td>\n",
       "      <td>81.364507</td>\n",
       "      <td>2004</td>\n",
       "    </tr>\n",
       "    <tr>\n",
       "      <th>2005</th>\n",
       "      <th>Autauga, AL</th>\n",
       "      <td>0.333105</td>\n",
       "      <td>higher</td>\n",
       "      <td>1</td>\n",
       "      <td>12.856784</td>\n",
       "      <td>11.735</td>\n",
       "      <td>8.673</td>\n",
       "      <td>49676.0</td>\n",
       "      <td>17.612127</td>\n",
       "      <td>1.986875</td>\n",
       "      <td>74.920228</td>\n",
       "      <td>83.568276</td>\n",
       "      <td>2005</td>\n",
       "    </tr>\n",
       "    <tr>\n",
       "      <th>2006</th>\n",
       "      <th>Autauga, AL</th>\n",
       "      <td>7.440034</td>\n",
       "      <td>higher</td>\n",
       "      <td>1</td>\n",
       "      <td>12.832506</td>\n",
       "      <td>10.645</td>\n",
       "      <td>8.766</td>\n",
       "      <td>51328.0</td>\n",
       "      <td>17.898613</td>\n",
       "      <td>2.032029</td>\n",
       "      <td>73.641001</td>\n",
       "      <td>86.347380</td>\n",
       "      <td>2006</td>\n",
       "    </tr>\n",
       "  </tbody>\n",
       "</table>\n",
       "</div>"
      ],
      "text/plain": [
       "                       pct_d_rgdp urate_bin  pos_net_jobs  emp_estabs  \\\n",
       "fips year GeoName                                                       \n",
       "1001 2002 Autauga, AL    3.202147     lower             1   12.531208   \n",
       "     2003 Autauga, AL    1.434404     lower             1   12.598415   \n",
       "     2004 Autauga, AL   15.061365     lower             1   12.780078   \n",
       "     2005 Autauga, AL    0.333105    higher             1   12.856784   \n",
       "     2006 Autauga, AL    7.440034    higher             1   12.832506   \n",
       "\n",
       "                       estabs_entry_rate  estabs_exit_rate      pop  \\\n",
       "fips year GeoName                                                     \n",
       "1001 2002 Autauga, AL             11.268             9.256  45909.0   \n",
       "     2003 Autauga, AL             10.603             9.940  46800.0   \n",
       "     2004 Autauga, AL             11.140             8.519  48366.0   \n",
       "     2005 Autauga, AL             11.735             8.673  49676.0   \n",
       "     2006 Autauga, AL             10.645             8.766  51328.0   \n",
       "\n",
       "                       pop_pct_black  pop_pct_hisp       lfpr    density  year  \n",
       "fips year GeoName                                                               \n",
       "1001 2002 Autauga, AL      17.386569      1.611884  74.841638  77.231178  2002  \n",
       "     2003 Autauga, AL      17.493590      1.692308  75.093851  78.730077  2003  \n",
       "     2004 Autauga, AL      17.584667      1.796717  74.459624  81.364507  2004  \n",
       "     2005 Autauga, AL      17.612127      1.986875  74.920228  83.568276  2005  \n",
       "     2006 Autauga, AL      17.898613      2.032029  73.641001  86.347380  2006  "
      ]
     },
     "execution_count": 2,
     "metadata": {},
     "output_type": "execute_result"
    }
   ],
   "source": [
    "df = pd.read_pickle('C:/Users/johnj/Documents/Data/aml in econ 02 spring 2021/class data/class_data.pkl')\n",
    "df.head()"
   ]
  },
  {
   "cell_type": "markdown",
   "id": "surrounded-crowd",
   "metadata": {},
   "source": [
    "Fit a logistic regression using either `sm.Logit()` or `smf.logit()`."
   ]
  },
  {
   "cell_type": "code",
   "execution_count": 3,
   "id": "nutritional-sailing",
   "metadata": {},
   "outputs": [
    {
     "name": "stdout",
     "output_type": "stream",
     "text": [
      "Optimization terminated successfully.\n",
      "         Current function value: 0.667049\n",
      "         Iterations 5\n"
     ]
    }
   ],
   "source": [
    "fit_logit = smf.logit(data = df, formula = 'pos_net_jobs ~ pct_d_rgdp + estabs_entry_rate').fit()"
   ]
  },
  {
   "cell_type": "markdown",
   "id": "apart-daughter",
   "metadata": {},
   "source": [
    "Get the marginal effects (`.get_margeff()`). Print the summary (`.summary()`)."
   ]
  },
  {
   "cell_type": "code",
   "execution_count": 4,
   "id": "progressive-casting",
   "metadata": {},
   "outputs": [
    {
     "data": {
      "text/html": [
       "<table class=\"simpletable\">\n",
       "<caption>Logit Marginal Effects</caption>\n",
       "<tr>\n",
       "  <th>Dep. Variable:</th> <td>pos_net_jobs</td>\n",
       "</tr>\n",
       "<tr>\n",
       "  <th>Method:</th>            <td>dydx</td>    \n",
       "</tr>\n",
       "<tr>\n",
       "  <th>At:</th>               <td>overall</td>  \n",
       "</tr>\n",
       "</table>\n",
       "<table class=\"simpletable\">\n",
       "<tr>\n",
       "          <th></th>             <th>dy/dx</th>    <th>std err</th>      <th>z</th>      <th>P>|z|</th>  <th>[0.025</th>    <th>0.975]</th>  \n",
       "</tr>\n",
       "<tr>\n",
       "  <th>pct_d_rgdp</th>        <td>    0.0048</td> <td>    0.000</td> <td>   18.276</td> <td> 0.000</td> <td>    0.004</td> <td>    0.005</td>\n",
       "</tr>\n",
       "<tr>\n",
       "  <th>estabs_entry_rate</th> <td>    0.0282</td> <td>    0.001</td> <td>   37.372</td> <td> 0.000</td> <td>    0.027</td> <td>    0.030</td>\n",
       "</tr>\n",
       "</table>"
      ],
      "text/plain": [
       "<class 'statsmodels.iolib.summary.Summary'>\n",
       "\"\"\"\n",
       "        Logit Marginal Effects       \n",
       "=====================================\n",
       "Dep. Variable:           pos_net_jobs\n",
       "Method:                          dydx\n",
       "At:                           overall\n",
       "=====================================================================================\n",
       "                       dy/dx    std err          z      P>|z|      [0.025      0.975]\n",
       "-------------------------------------------------------------------------------------\n",
       "pct_d_rgdp            0.0048      0.000     18.276      0.000       0.004       0.005\n",
       "estabs_entry_rate     0.0282      0.001     37.372      0.000       0.027       0.030\n",
       "=====================================================================================\n",
       "\"\"\""
      ]
     },
     "execution_count": 4,
     "metadata": {},
     "output_type": "execute_result"
    }
   ],
   "source": [
    "fit_logit.get_margeff().summary()"
   ]
  },
  {
   "cell_type": "markdown",
   "id": "basic-agenda",
   "metadata": {},
   "source": [
    "***\n",
    "# Covariate Averages\n",
    "$$\n",
    "\\frac{\\partial p(x_i)}{\\partial \\beta} \\approx \\frac{e^{\\hat{\\beta}_0 + \\bar{x}\\hat{\\beta}_1 + \\bar{x}\\hat{\\beta_2}}}{(1 + e^{\\hat{\\beta}_0 + \\bar{x}\\hat{\\beta}_1 + \\bar{x}\\hat{\\beta_2}})^2}\\hat{\\beta}\n",
    "$$"
   ]
  },
  {
   "cell_type": "code",
   "execution_count": 5,
   "id": "processed-antibody",
   "metadata": {},
   "outputs": [],
   "source": [
    "beta = fit_logit.params\n",
    "avgs = np.array([1., np.mean(df.pct_d_rgdp), np.mean(df.estabs_entry_rate)])"
   ]
  },
  {
   "cell_type": "code",
   "execution_count": 6,
   "id": "gross-murray",
   "metadata": {},
   "outputs": [
    {
     "data": {
      "text/plain": [
       "Intercept           -0.574506\n",
       "pct_d_rgdp           0.006311\n",
       "estabs_entry_rate    0.009561\n",
       "dtype: float64"
      ]
     },
     "execution_count": 6,
     "metadata": {},
     "output_type": "execute_result"
    }
   ],
   "source": [
    "(  np.exp(sum(beta*avgs))  )/(  (1 + np.exp(beta*avgs))**2  )*beta"
   ]
  },
  {
   "cell_type": "markdown",
   "id": "handmade-level",
   "metadata": {},
   "source": [
    "***\n",
    "# Predicted values Averages\n",
    "$$\n",
    "\\frac{\\partial p(x_i)}{\\partial \\beta} \\approx \\frac{1}{n} \\sum_{i=1}\n",
    "^n \\frac{e^{\\hat{y}_i}}{1 + e^{\\hat{y}_i}}\\hat{\\beta}\n",
    "$$"
   ]
  },
  {
   "cell_type": "code",
   "execution_count": 7,
   "id": "packed-burst",
   "metadata": {},
   "outputs": [],
   "source": [
    "yhat = fit_logit.fittedvalues"
   ]
  },
  {
   "cell_type": "code",
   "execution_count": 8,
   "id": "brazilian-positive",
   "metadata": {},
   "outputs": [
    {
     "data": {
      "text/plain": [
       "Intercept           -0.209411\n",
       "pct_d_rgdp           0.004793\n",
       "estabs_entry_rate    0.028197\n",
       "dtype: float64"
      ]
     },
     "execution_count": 8,
     "metadata": {},
     "output_type": "execute_result"
    }
   ],
   "source": [
    "np.mean(  (np.exp(yhat))/(  (1 + np.exp(yhat)))**2  )*beta"
   ]
  },
  {
   "cell_type": "markdown",
   "id": "hungarian-variable",
   "metadata": {},
   "source": [
    "*** \n",
    "# Interpretaton\n",
    "\n",
    "Interpret the marginal effect on one features."
   ]
  },
  {
   "cell_type": "raw",
   "id": "facial-residence",
   "metadata": {},
   "source": [
    "An increase in the establishment entry rate by one percentage point is associated with\n",
    "an increase in the probability of positive net job creation rate of 0.03. "
   ]
  }
 ],
 "metadata": {
  "kernelspec": {
   "display_name": "Python 3",
   "language": "python",
   "name": "python3"
  },
  "language_info": {
   "codemirror_mode": {
    "name": "ipython",
    "version": 3
   },
   "file_extension": ".py",
   "mimetype": "text/x-python",
   "name": "python",
   "nbconvert_exporter": "python",
   "pygments_lexer": "ipython3",
   "version": "3.8.5"
  }
 },
 "nbformat": 4,
 "nbformat_minor": 5
}
