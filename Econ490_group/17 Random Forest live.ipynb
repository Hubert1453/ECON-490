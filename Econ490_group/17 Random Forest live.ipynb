{
 "cells": [
  {
   "cell_type": "markdown",
   "metadata": {},
   "source": [
    "## Random Forest\n",
    "\n",
    "#### Table of Contents\n",
    "\n",
    "- [Preliminaries](#Preliminaries)\n",
    "- [Null Model](#Null-Model)\n",
    "- [Decision Tree](#Decision-Tree)\n",
    "- [Bagging](#Bagging)\n",
    "- [Random Forest](#Random-Forest)\n",
    "- [Comparison](#Comparison)\n",
    "\n",
    "First, let's create some functions to help us in the future."
   ]
  },
  {
   "cell_type": "code",
   "execution_count": 1,
   "metadata": {},
   "outputs": [],
   "source": [
    "%run metrics.py"
   ]
  },
  {
   "cell_type": "code",
   "execution_count": 2,
   "metadata": {},
   "outputs": [
    {
     "name": "stdout",
     "output_type": "stream",
     "text": [
      "Variable   Type        Data/Info\n",
      "--------------------------------\n",
      "acc        function    <function acc at 0x000001EA80122160>\n",
      "rmse       function    <function rmse at 0x000001EA801221F0>\n"
     ]
    }
   ],
   "source": [
    "%whos"
   ]
  },
  {
   "cell_type": "markdown",
   "metadata": {},
   "source": [
    "***********\n",
    "# Preliminaries\n",
    "[TOP](#Random-Forest)\n",
    "\n",
    "We will be comparing three models predicting the label `urate_bin`\n",
    "\n",
    "1. decision tree\n",
    "2. bagged decision trees\n",
    "3. random forest\n",
    "\n",
    "Loading the packages and prepping the data."
   ]
  },
  {
   "cell_type": "code",
   "execution_count": 6,
   "metadata": {},
   "outputs": [],
   "source": [
    "# utilties\n",
    "import pandas as pd\n",
    "\n",
    "# processing\n",
    "from sklearn.metrics import plot_confusion_matrix\n",
    "from sklearn.model_selection import GridSearchCV, train_test_split\n",
    "\n",
    "# alogrithm\n",
    "from sklearn.tree import DecisionTreeClassifier\n",
    "from sklearn.ensemble import RandomForestClassifier, BaggingClassifier\n",
    "\n",
    "# plotting\n",
    "import matplotlib.pyplot as plt\n",
    "import seaborn as sns"
   ]
  },
  {
   "cell_type": "code",
   "execution_count": 7,
   "metadata": {},
   "outputs": [],
   "source": [
    "df = pd.read_pickle('C:/Users/johnj/Documents/Data/aml in econ 02 spring 2021/class data/class_data.pkl')"
   ]
  },
  {
   "cell_type": "code",
   "execution_count": 8,
   "metadata": {},
   "outputs": [],
   "source": [
    "y = df['urate_bin'].astype('category')\n",
    "x = df.drop(columns = 'urate_bin')\n",
    "\n",
    "x_train, x_test, y_train, y_test = train_test_split(x, y,\n",
    "                                                   train_size = 2/3,\n",
    "                                                   random_state = 490)"
   ]
  },
  {
   "cell_type": "markdown",
   "metadata": {},
   "source": [
    "****\n",
    "# Null Model\n",
    "[TOP](#Random-Forest)"
   ]
  },
  {
   "cell_type": "code",
   "execution_count": 10,
   "metadata": {},
   "outputs": [
    {
     "data": {
      "text/plain": [
       "0.43416937149601653"
      ]
     },
     "execution_count": 10,
     "metadata": {},
     "output_type": "execute_result"
    }
   ],
   "source": [
    "yhat_null = y_train.value_counts().index[0]\n",
    "acc_null = acc(yhat_null, y_test)\n",
    "acc_null"
   ]
  },
  {
   "cell_type": "markdown",
   "metadata": {},
   "source": [
    "****************\n",
    "# Decision Tree\n",
    "[TOP](#Random-Forest)\n",
    "\n",
    "To compare the tree-based models, we are going to start with a single decision tree classifier."
   ]
  },
  {
   "cell_type": "code",
   "execution_count": 11,
   "metadata": {},
   "outputs": [
    {
     "name": "stdout",
     "output_type": "stream",
     "text": [
      "Fitting 5 folds for each of 39 candidates, totalling 195 fits\n"
     ]
    },
    {
     "name": "stderr",
     "output_type": "stream",
     "text": [
      "[Parallel(n_jobs=10)]: Using backend LokyBackend with 10 concurrent workers.\n",
      "[Parallel(n_jobs=10)]: Done  21 tasks      | elapsed:    3.3s\n",
      "[Parallel(n_jobs=10)]: Done 142 tasks      | elapsed:    7.5s\n",
      "[Parallel(n_jobs=10)]: Done 195 out of 195 | elapsed:    9.4s finished\n"
     ]
    },
    {
     "data": {
      "text/plain": [
       "{'max_leaf_nodes': 38}"
      ]
     },
     "execution_count": 11,
     "metadata": {},
     "output_type": "execute_result"
    }
   ],
   "source": [
    "param_grid = {\n",
    "    'max_leaf_nodes': range(1, 40)\n",
    "}\n",
    "\n",
    "dtc_cv = DecisionTreeClassifier(random_state = 490)\n",
    "\n",
    "grid_search = GridSearchCV(dtc_cv, param_grid,\n",
    "                          cv = 5, \n",
    "                          scoring = 'accuracy',\n",
    "                          n_jobs = 10, \n",
    "                          verbose = 2).fit(x_train, y_train)\n",
    "best_dtc = grid_search.best_params_\n",
    "best_dtc"
   ]
  },
  {
   "cell_type": "code",
   "execution_count": 12,
   "metadata": {},
   "outputs": [
    {
     "data": {
      "text/plain": [
       "0.6692239598701681"
      ]
     },
     "execution_count": 12,
     "metadata": {},
     "output_type": "execute_result"
    }
   ],
   "source": [
    "clf_dtc = DecisionTreeClassifier(random_state = 490,\n",
    "                                max_leaf_nodes = best_dtc['max_leaf_nodes'])\n",
    "clf_dtc.fit(x_train, y_train)\n",
    "acc_dtc = clf_dtc.score(x_test, y_test)\n",
    "acc_dtc"
   ]
  },
  {
   "cell_type": "markdown",
   "metadata": {},
   "source": [
    "**********\n",
    "# Bagging\n",
    "[TOP](#Random-Forest)\n",
    "\n",
    "Remember that bagged trees consider ALL features."
   ]
  },
  {
   "cell_type": "code",
   "execution_count": 14,
   "metadata": {},
   "outputs": [
    {
     "name": "stderr",
     "output_type": "stream",
     "text": [
      "[Parallel(n_jobs=10)]: Using backend LokyBackend with 10 concurrent workers.\n",
      "[Parallel(n_jobs=10)]: Done   2 out of  10 | elapsed:   23.8s remaining:  1.6min\n",
      "[Parallel(n_jobs=10)]: Done  10 out of  10 | elapsed:   24.6s finished\n"
     ]
    },
    {
     "data": {
      "text/plain": [
       "BaggingClassifier(n_estimators=500, n_jobs=10, oob_score=True, random_state=490,\n",
       "                  verbose=1)"
      ]
     },
     "execution_count": 14,
     "metadata": {},
     "output_type": "execute_result"
    }
   ],
   "source": [
    "clf_bc = BaggingClassifier(n_estimators = 500,\n",
    "                          random_state = 490,\n",
    "                          oob_score = True,\n",
    "                          n_jobs = 10,\n",
    "                          verbose = 1)\n",
    "clf_bc.fit(x_train, y_train)"
   ]
  },
  {
   "cell_type": "code",
   "execution_count": 15,
   "metadata": {},
   "outputs": [
    {
     "data": {
      "text/plain": [
       "0.7560860456195225"
      ]
     },
     "execution_count": 15,
     "metadata": {},
     "output_type": "execute_result"
    }
   ],
   "source": [
    "clf_bc.oob_score_"
   ]
  },
  {
   "cell_type": "code",
   "execution_count": 16,
   "metadata": {},
   "outputs": [
    {
     "name": "stderr",
     "output_type": "stream",
     "text": [
      "[Parallel(n_jobs=10)]: Using backend LokyBackend with 10 concurrent workers.\n",
      "[Parallel(n_jobs=10)]: Done   2 out of  10 | elapsed:    0.7s remaining:    3.0s\n",
      "[Parallel(n_jobs=10)]: Done  10 out of  10 | elapsed:    2.4s finished\n"
     ]
    },
    {
     "data": {
      "text/plain": [
       "0.7592800236057834"
      ]
     },
     "execution_count": 16,
     "metadata": {},
     "output_type": "execute_result"
    }
   ],
   "source": [
    "acc_bc = clf_bc.score(x_test, y_test)\n",
    "acc_bc"
   ]
  },
  {
   "cell_type": "markdown",
   "metadata": {},
   "source": [
    "Alternatively..."
   ]
  },
  {
   "cell_type": "code",
   "execution_count": 17,
   "metadata": {},
   "outputs": [
    {
     "name": "stderr",
     "output_type": "stream",
     "text": [
      "[Parallel(n_jobs=10)]: Using backend ThreadingBackend with 10 concurrent workers.\n",
      "[Parallel(n_jobs=10)]: Done  30 tasks      | elapsed:    1.3s\n",
      "[Parallel(n_jobs=10)]: Done 180 tasks      | elapsed:    8.2s\n",
      "[Parallel(n_jobs=10)]: Done 430 tasks      | elapsed:   20.0s\n",
      "[Parallel(n_jobs=10)]: Done 500 out of 500 | elapsed:   24.0s finished\n"
     ]
    },
    {
     "data": {
      "text/plain": [
       "RandomForestClassifier(max_features=None, n_estimators=500, n_jobs=10,\n",
       "                       oob_score=True, random_state=490, verbose=1)"
      ]
     },
     "execution_count": 17,
     "metadata": {},
     "output_type": "execute_result"
    }
   ],
   "source": [
    "clf_bag_tree = RandomForestClassifier(n_estimators = 500,\n",
    "                          random_state = 490,\n",
    "                          max_features = None,\n",
    "                          oob_score = True,\n",
    "                          n_jobs = 10,\n",
    "                          verbose = 1)\n",
    "clf_bag_tree.fit(x_train, y_train)"
   ]
  },
  {
   "cell_type": "code",
   "execution_count": 18,
   "metadata": {},
   "outputs": [
    {
     "data": {
      "text/plain": [
       "0.757384402018354"
      ]
     },
     "execution_count": 18,
     "metadata": {},
     "output_type": "execute_result"
    }
   ],
   "source": [
    "clf_bag_tree.oob_score_"
   ]
  },
  {
   "cell_type": "code",
   "execution_count": 19,
   "metadata": {},
   "outputs": [
    {
     "name": "stderr",
     "output_type": "stream",
     "text": [
      "[Parallel(n_jobs=10)]: Using backend ThreadingBackend with 10 concurrent workers.\n",
      "[Parallel(n_jobs=10)]: Done  30 tasks      | elapsed:    0.0s\n",
      "[Parallel(n_jobs=10)]: Done 180 tasks      | elapsed:    0.0s\n",
      "[Parallel(n_jobs=10)]: Done 430 tasks      | elapsed:    0.2s\n",
      "[Parallel(n_jobs=10)]: Done 500 out of 500 | elapsed:    0.2s finished\n"
     ]
    },
    {
     "data": {
      "text/plain": [
       "0.7601062260253763"
      ]
     },
     "execution_count": 19,
     "metadata": {},
     "output_type": "execute_result"
    }
   ],
   "source": [
    "acc_bag_tree = clf_bag_tree.score(x_test, y_test)\n",
    "acc_bag_tree"
   ]
  },
  {
   "cell_type": "markdown",
   "metadata": {},
   "source": [
    "*********\n",
    "# Random Forest\n",
    "[TOP](#Random-Forest)\n",
    "\n",
    "\n",
    "Let's see if we can beat the bagged model!"
   ]
  },
  {
   "cell_type": "code",
   "execution_count": 20,
   "metadata": {},
   "outputs": [
    {
     "name": "stderr",
     "output_type": "stream",
     "text": [
      "[Parallel(n_jobs=10)]: Using backend ThreadingBackend with 10 concurrent workers.\n",
      "[Parallel(n_jobs=10)]: Done  30 tasks      | elapsed:    0.5s\n",
      "[Parallel(n_jobs=10)]: Done 180 tasks      | elapsed:    2.8s\n",
      "[Parallel(n_jobs=10)]: Done 430 tasks      | elapsed:    6.7s\n",
      "[Parallel(n_jobs=10)]: Done 500 out of 500 | elapsed:    7.8s finished\n"
     ]
    },
    {
     "data": {
      "text/plain": [
       "RandomForestClassifier(max_features='sqrt', n_estimators=500, n_jobs=10,\n",
       "                       oob_score=True, random_state=490, verbose=1)"
      ]
     },
     "execution_count": 20,
     "metadata": {},
     "output_type": "execute_result"
    }
   ],
   "source": [
    "clf_rf = RandomForestClassifier(n_estimators = 500,\n",
    "                          random_state = 490,\n",
    "                          max_features = 'sqrt',\n",
    "                          oob_score = True,\n",
    "                          n_jobs = 10,\n",
    "                          verbose = 1)\n",
    "clf_rf.fit(x_train, y_train)"
   ]
  },
  {
   "cell_type": "code",
   "execution_count": 21,
   "metadata": {},
   "outputs": [
    {
     "data": {
      "text/plain": [
       "0.7558204727197616"
      ]
     },
     "execution_count": 21,
     "metadata": {},
     "output_type": "execute_result"
    }
   ],
   "source": [
    "clf_rf.oob_score_"
   ]
  },
  {
   "cell_type": "code",
   "execution_count": 23,
   "metadata": {},
   "outputs": [
    {
     "name": "stderr",
     "output_type": "stream",
     "text": [
      "[Parallel(n_jobs=10)]: Using backend ThreadingBackend with 10 concurrent workers.\n",
      "[Parallel(n_jobs=10)]: Done  30 tasks      | elapsed:    0.0s\n",
      "[Parallel(n_jobs=10)]: Done 180 tasks      | elapsed:    0.1s\n",
      "[Parallel(n_jobs=10)]: Done 430 tasks      | elapsed:    0.2s\n",
      "[Parallel(n_jobs=10)]: Done 500 out of 500 | elapsed:    0.3s finished\n"
     ]
    },
    {
     "data": {
      "text/plain": [
       "0.7596931248155798"
      ]
     },
     "execution_count": 23,
     "metadata": {},
     "output_type": "execute_result"
    }
   ],
   "source": [
    "acc_rf = clf_rf.score(x_test, y_test)\n",
    "acc_rf"
   ]
  },
  {
   "cell_type": "code",
   "execution_count": 26,
   "metadata": {},
   "outputs": [],
   "source": [
    "df_plot = pd.DataFrame(clf_rf.feature_importances_,\n",
    "                      index = x_train.columns,\n",
    "                      columns = ['Feature Importance']\n",
    "                      ).sort_values(by = 'Feature Importance',\n",
    "                                    ascending = False)"
   ]
  },
  {
   "cell_type": "code",
   "execution_count": 27,
   "metadata": {},
   "outputs": [
    {
     "data": {
      "image/png": "[encoded data removed]",
      "text/plain": [
       "<Figure size 432x288 with 1 Axes>"
      ]
     },
     "metadata": {
      "needs_background": "light"
     },
     "output_type": "display_data"
    }
   ],
   "source": [
    "sns.barplot(data = df_plot,\n",
    "           x = 'Feature Importance',\n",
    "           y = df_plot.index,\n",
    "           color = 'darkorange')\n",
    "\n",
    "plt.show()"
   ]
  },
  {
   "cell_type": "markdown",
   "metadata": {},
   "source": [
    "************\n",
    "# Comparison\n",
    "[TOP](#Random-Forest)"
   ]
  },
  {
   "cell_type": "code",
   "execution_count": 29,
   "metadata": {},
   "outputs": [
    {
     "data": {
      "image/png": "[encoded data removed]",
      "text/plain": [
       "<Figure size 432x288 with 2 Axes>"
      ]
     },
     "metadata": {
      "needs_background": "light"
     },
     "output_type": "display_data"
    }
   ],
   "source": [
    "sk_fig = plot_confusion_matrix(clf_dtc, x_test, y_test)\n",
    "plt.title('Decision Tree')\n",
    "\n",
    "plt.show()"
   ]
  },
  {
   "cell_type": "code",
   "execution_count": 30,
   "metadata": {},
   "outputs": [
    {
     "name": "stderr",
     "output_type": "stream",
     "text": [
      "[Parallel(n_jobs=10)]: Using backend ThreadingBackend with 10 concurrent workers.\n",
      "[Parallel(n_jobs=10)]: Done  30 tasks      | elapsed:    0.0s\n",
      "[Parallel(n_jobs=10)]: Done 180 tasks      | elapsed:    0.1s\n",
      "[Parallel(n_jobs=10)]: Done 430 tasks      | elapsed:    0.2s\n",
      "[Parallel(n_jobs=10)]: Done 500 out of 500 | elapsed:    0.3s finished\n"
     ]
    },
    {
     "data": {
      "image/png": "[encoded data removed]",
      "text/plain": [
       "<Figure size 432x288 with 2 Axes>"
      ]
     },
     "metadata": {
      "needs_background": "light"
     },
     "output_type": "display_data"
    }
   ],
   "source": [
    "sk_fig = plot_confusion_matrix(clf_bag_tree, x_test, y_test)\n",
    "plt.title('Bagged Tree')\n",
    "\n",
    "plt.show()"
   ]
  },
  {
   "cell_type": "code",
   "execution_count": 31,
   "metadata": {},
   "outputs": [
    {
     "name": "stderr",
     "output_type": "stream",
     "text": [
      "[Parallel(n_jobs=10)]: Using backend ThreadingBackend with 10 concurrent workers.\n",
      "[Parallel(n_jobs=10)]: Done  30 tasks      | elapsed:    0.0s\n",
      "[Parallel(n_jobs=10)]: Done 180 tasks      | elapsed:    0.1s\n",
      "[Parallel(n_jobs=10)]: Done 430 tasks      | elapsed:    0.3s\n",
      "[Parallel(n_jobs=10)]: Done 500 out of 500 | elapsed:    0.3s finished\n"
     ]
    },
    {
     "data": {
      "image/png": "[encoded data removed]",
      "text/plain": [
       "<Figure size 432x288 with 2 Axes>"
      ]
     },
     "metadata": {
      "needs_background": "light"
     },
     "output_type": "display_data"
    }
   ],
   "source": [
    "sk_fig = plot_confusion_matrix(clf_rf, x_test, y_test)\n",
    "plt.title('Random Forest')\n",
    "\n",
    "plt.show()"
   ]
  },
  {
   "cell_type": "markdown",
   "metadata": {},
   "source": [
    "********************\n",
    "# `sklearn` is pretty cool\n",
    "\n",
    "So, check this out!"
   ]
  },
  {
   "cell_type": "code",
   "execution_count": 33,
   "metadata": {},
   "outputs": [],
   "source": [
    "classifiers = [DecisionTreeClassifier(max_leaf_nodes = best_dtc ['max_leaf_nodes']),\n",
    "              BaggingClassifier(n_estimators = 100,\n",
    "                               random_state = 490,\n",
    "                               n_jobs = 10),\n",
    "              RandomForestClassifier(n_estimators = 100,\n",
    "                                    max_features = 'sqrt',\n",
    "                                    random_state = 490,\n",
    "                                    n_jobs = 10)]"
   ]
  },
  {
   "cell_type": "code",
   "execution_count": 35,
   "metadata": {},
   "outputs": [
    {
     "name": "stdout",
     "output_type": "stream",
     "text": [
      "Wall time: 8.95 s\n"
     ]
    }
   ],
   "source": [
    "%%time\n",
    "for clf in classifiers:\n",
    "    clf.fit(x_train, y_train)"
   ]
  },
  {
   "cell_type": "code",
   "execution_count": 52,
   "metadata": {},
   "outputs": [],
   "source": [
    "fig, ax = plt.subplots(nrows = 1, ncols = 3,\n",
    "                      figsize = (16, 4))\n",
    "plt.close()"
   ]
  },
  {
   "cell_type": "code",
   "execution_count": 53,
   "metadata": {},
   "outputs": [
    {
     "data": {
      "text/plain": [
       "array([ True,  True,  True])"
      ]
     },
     "execution_count": 53,
     "metadata": {},
     "output_type": "execute_result"
    }
   ],
   "source": [
    "type(ax)\n",
    "type(ax).__name__\n",
    "ax.shape\n",
    "ax[0]\n",
    "ax\n",
    "ax.flatten()\n",
    "ax == ax.flatten()"
   ]
  },
  {
   "cell_type": "code",
   "execution_count": 55,
   "metadata": {},
   "outputs": [
    {
     "data": {
      "image/png": "[encoded data removed]",
      "text/plain": [
       "<Figure size 1152x288 with 6 Axes>"
      ]
     },
     "metadata": {
      "needs_background": "light"
     },
     "output_type": "display_data"
    }
   ],
   "source": [
    "_, ax = plt.subplots(nrows = 1, ncols = 3,\n",
    "                      figsize = (16, 4))\n",
    "\n",
    "for clf, axis in zip(classifiers, ax.flatten()):\n",
    "    plot_confusion_matrix(clf,\n",
    "                         x_test, \n",
    "                         y_test, \n",
    "                         ax = axis)\n",
    "    axis.title.set_text(type(clf).__name__)\n",
    "    \n",
    "plt.tight_layout()"
   ]
  }
 ],
 "metadata": {
  "kernelspec": {
   "display_name": "Python 3",
   "language": "python",
   "name": "python3"
  },
  "language_info": {
   "codemirror_mode": {
    "name": "ipython",
    "version": 3
   },
   "file_extension": ".py",
   "mimetype": "text/x-python",
   "name": "python",
   "nbconvert_exporter": "python",
   "pygments_lexer": "ipython3",
   "version": "3.8.5"
  }
 },
 "nbformat": 4,
 "nbformat_minor": 4
}
