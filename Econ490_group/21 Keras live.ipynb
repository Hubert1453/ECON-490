{
 "cells": [
  {
   "cell_type": "markdown",
   "metadata": {},
   "source": [
    "## Keras\n",
    "\n",
    "***\n",
    "My goal is not to fit a good model.\n",
    "My goal is to show you how to implement what is covered in the slides.\n",
    "***\n",
    "\n",
    "#### Table of Contents\n",
    "\n",
    "- [Preliminaries](#Preliminaries)\n",
    "- [Null Model](#Null-Model)\n",
    "- [Initialization](#Initialization)\n",
    "- [Compilation](#Compilation)\n",
    "- [Fitting](#Fitting)\n",
    "- [Evaluation](#Evaluation)\n",
    "- [Prediction](#Prediction)\n",
    "\n",
    "\n",
    "****************\n",
    "# Preliminaries\n",
    "[TOP](#Keras)\n",
    "\n",
    "Remember, standardizing your features affects the cost function; standardizing helps correctly and quickly finding the optimal solution.\n",
    "Let us grab our custom `stdz()` function."
   ]
  },
  {
   "cell_type": "code",
   "execution_count": 1,
   "metadata": {},
   "outputs": [],
   "source": [
    "%run metrics.py"
   ]
  },
  {
   "cell_type": "markdown",
   "metadata": {},
   "source": [
    "Here are the packages and functions that we will need."
   ]
  },
  {
   "cell_type": "code",
   "execution_count": 2,
   "metadata": {},
   "outputs": [],
   "source": [
    "# utilities\n",
    "import numpy as np\n",
    "import pandas as pd\n",
    "\n",
    "# processing\n",
    "from sklearn.preprocessing import OneHotEncoder\n",
    "from sklearn.model_selection import train_test_split\n",
    "\n",
    "# algorithms\n",
    "from tensorflow import keras\n",
    "\n",
    "# plotting\n",
    "from matplotlib import pyplot as plt"
   ]
  },
  {
   "cell_type": "markdown",
   "metadata": {},
   "source": [
    "# Setting the Seed....\n",
    "\n",
    "It is quite an involved process. \n",
    "Not only do we need to set the seed for `TensorFlow`, but we also need to set it for `NumPy` and in the backend because they are all used when fitting a neural network.\n",
    "\n",
    "Check out the [documentation](https://keras.io/getting_started/faq/#how-can-i-obtain-reproducible-results-using-keras-during-development) for more details."
   ]
  },
  {
   "cell_type": "code",
   "execution_count": 4,
   "metadata": {},
   "outputs": [],
   "source": [
    "import os\n",
    "import random\n",
    "import tensorflow as tf\n",
    "\n",
    "np.random.seed(490)\n",
    "os.environ['PYTHONHASSEED'] = '0'\n",
    "random.seed(490)\n",
    "tf.random.set_seed(490)"
   ]
  },
  {
   "cell_type": "markdown",
   "metadata": {},
   "source": [
    "Okay, let's load in our data.\n",
    "\n",
    "Predicting categorical data requires much more setup than the regression data.\n",
    "\n",
    "* With continuous labels, you simply proceed as we have been throughout the class up to this point.\n",
    "- Discrete labels require the data to be transformed via `OneHotEncoder()`"
   ]
  },
  {
   "cell_type": "code",
   "execution_count": 5,
   "metadata": {},
   "outputs": [],
   "source": [
    "df = pd.read_pickle('C:/Users/johnj/Documents/Data/aml in econ 02 spring 2021/class data/class_data.pkl')"
   ]
  },
  {
   "cell_type": "code",
   "execution_count": 6,
   "metadata": {},
   "outputs": [],
   "source": [
    "df_prepped = df.drop(columns = 'year').join([\n",
    "    pd.get_dummies(df['year'], drop_first = True)\n",
    "])"
   ]
  },
  {
   "cell_type": "code",
   "execution_count": 7,
   "metadata": {},
   "outputs": [],
   "source": [
    "y = df_prepped['urate_bin']\n",
    "x = df_prepped.drop(columns = 'urate_bin')"
   ]
  },
  {
   "cell_type": "markdown",
   "metadata": {},
   "source": [
    "This is a step-by-step how to prepare categorical data for `OneHotEncoder()`."
   ]
  },
  {
   "cell_type": "code",
   "execution_count": 12,
   "metadata": {},
   "outputs": [],
   "source": [
    "ohe = OneHotEncoder().fit(np.array(y).reshape(-1, 1))"
   ]
  },
  {
   "cell_type": "markdown",
   "metadata": {},
   "source": [
    "Okay, time to split the data."
   ]
  },
  {
   "cell_type": "code",
   "execution_count": 14,
   "metadata": {},
   "outputs": [],
   "source": [
    "x_train, x_test, y_train, y_test = train_test_split(x, y,\n",
    "                                                   train_size = 2/3,\n",
    "                                                   random_state = 490)\n",
    "\n",
    "x_train = x_train.apply(stdz)\n",
    "x_test  = x_test.apply(stdz)\n",
    "\n",
    "y_train = np.array(y_train).reshape(-1, 1)\n",
    "y_test  = np.array(y_test).reshape(-1, 1)\n",
    "\n",
    "y_train = ohe.transform(y_train).toarray()\n",
    "y_test  = ohe.transform(y_test).toarray()"
   ]
  },
  {
   "cell_type": "markdown",
   "metadata": {},
   "source": [
    "Just to reiterate how we have transformed our label:"
   ]
  },
  {
   "cell_type": "code",
   "execution_count": 15,
   "metadata": {},
   "outputs": [
    {
     "data": {
      "text/plain": [
       "array([[0., 1., 0.],\n",
       "       [0., 0., 1.],\n",
       "       [1., 0., 0.],\n",
       "       [0., 1., 0.],\n",
       "       [0., 1., 0.]])"
      ]
     },
     "execution_count": 15,
     "metadata": {},
     "output_type": "execute_result"
    }
   ],
   "source": [
    "y_train[0:5, :]"
   ]
  },
  {
   "cell_type": "markdown",
   "metadata": {},
   "source": [
    "***********\n",
    "# Null Model\n",
    "[TOP](#Keras)\n",
    "\n",
    "We are going to have to fit the null model differently than before because it is now an `np.array()`, not a `pd.Series()`."
   ]
  },
  {
   "cell_type": "code",
   "execution_count": 19,
   "metadata": {},
   "outputs": [
    {
     "data": {
      "text/plain": [
       "0.43416937149601653"
      ]
     },
     "execution_count": 19,
     "metadata": {},
     "output_type": "execute_result"
    }
   ],
   "source": [
    "y_train_counts = y_train.sum(axis = 0)\n",
    "yhat_null = np.argmax(y_train_counts)\n",
    "\n",
    "acc_null = y_test[:, yhat_null].sum()/y_test.sum()\n",
    "acc_null"
   ]
  },
  {
   "cell_type": "markdown",
   "metadata": {},
   "source": [
    "*****************\n",
    "# Initialization\n",
    "[TOP](#Keras)\n",
    "\n",
    "I would not recommend actually fitting this model.\n",
    "This is purely for expositional purposes.\n",
    "\n",
    "I am going to show you how to add activation functions in multiple ways:"
   ]
  },
  {
   "cell_type": "code",
   "execution_count": 20,
   "metadata": {},
   "outputs": [],
   "source": [
    "from tensorflow.keras.layers import LeakyReLU"
   ]
  },
  {
   "cell_type": "markdown",
   "metadata": {},
   "source": [
    "Let's determine our input and output `shape`."
   ]
  },
  {
   "cell_type": "code",
   "execution_count": 21,
   "metadata": {},
   "outputs": [
    {
     "data": {
      "text/plain": [
       "(33889, 26)"
      ]
     },
     "execution_count": 21,
     "metadata": {},
     "output_type": "execute_result"
    }
   ],
   "source": [
    "x_train.shape"
   ]
  },
  {
   "cell_type": "code",
   "execution_count": 22,
   "metadata": {},
   "outputs": [
    {
     "data": {
      "text/plain": [
       "(33889, 3)"
      ]
     },
     "execution_count": 22,
     "metadata": {},
     "output_type": "execute_result"
    }
   ],
   "source": [
    "y_train.shape"
   ]
  },
  {
   "cell_type": "markdown",
   "metadata": {},
   "source": [
    "Okay, let's define our first neural network!"
   ]
  },
  {
   "cell_type": "code",
   "execution_count": 23,
   "metadata": {},
   "outputs": [],
   "source": [
    "model = keras.models.Sequential()\n",
    "model.add(keras.layers.Input(shape = x_train.shape[1]))\n",
    "model.add(keras.layers.Dense(300, activation = 'relu'))\n",
    "model.add(keras.layers.Dense(200, activation = LeakyReLU(alpha = 0.1)))\n",
    "model.add(keras.layers.Dense(100, activation = 'elu'))\n",
    "model.add(keras.layers.Dense(100, activation = keras.layers.ELU(alpha = 1.0)))\n",
    "model.add(keras.layers.Dense(y_train.shape[1], activation = 'softmax'))"
   ]
  },
  {
   "cell_type": "markdown",
   "metadata": {},
   "source": [
    "Want to see something crazy?"
   ]
  },
  {
   "cell_type": "code",
   "execution_count": 24,
   "metadata": {},
   "outputs": [
    {
     "name": "stdout",
     "output_type": "stream",
     "text": [
      "Model: \"sequential\"\n",
      "_________________________________________________________________\n",
      "Layer (type)                 Output Shape              Param #   \n",
      "=================================================================\n",
      "dense (Dense)                (None, 300)               8100      \n",
      "_________________________________________________________________\n",
      "dense_1 (Dense)              (None, 200)               60200     \n",
      "_________________________________________________________________\n",
      "dense_2 (Dense)              (None, 100)               20100     \n",
      "_________________________________________________________________\n",
      "dense_3 (Dense)              (None, 100)               10100     \n",
      "_________________________________________________________________\n",
      "dense_4 (Dense)              (None, 3)                 303       \n",
      "=================================================================\n",
      "Total params: 98,803\n",
      "Trainable params: 98,803\n",
      "Non-trainable params: 0\n",
      "_________________________________________________________________\n"
     ]
    }
   ],
   "source": [
    "model.summary()"
   ]
  },
  {
   "cell_type": "markdown",
   "metadata": {},
   "source": [
    "Holy parameters, Batman!\n",
    "\n",
    "Let's see how we got so many:"
   ]
  },
  {
   "cell_type": "code",
   "execution_count": 25,
   "metadata": {},
   "outputs": [
    {
     "data": {
      "text/plain": [
       "8100"
      ]
     },
     "execution_count": 25,
     "metadata": {},
     "output_type": "execute_result"
    }
   ],
   "source": [
    "# Dense\n",
    "(1 + x_train.shape[1])*300"
   ]
  },
  {
   "cell_type": "code",
   "execution_count": 26,
   "metadata": {},
   "outputs": [
    {
     "data": {
      "text/plain": [
       "60200"
      ]
     },
     "execution_count": 26,
     "metadata": {},
     "output_type": "execute_result"
    }
   ],
   "source": [
    "# dense_1\n",
    "(1 + 300)*200"
   ]
  },
  {
   "cell_type": "code",
   "execution_count": 27,
   "metadata": {},
   "outputs": [
    {
     "data": {
      "text/plain": [
       "20100"
      ]
     },
     "execution_count": 27,
     "metadata": {},
     "output_type": "execute_result"
    }
   ],
   "source": [
    "# dense_2\n",
    "(1 + 200)*100"
   ]
  },
  {
   "cell_type": "code",
   "execution_count": 28,
   "metadata": {},
   "outputs": [
    {
     "data": {
      "text/plain": [
       "10100"
      ]
     },
     "execution_count": 28,
     "metadata": {},
     "output_type": "execute_result"
    }
   ],
   "source": [
    "# dense_3 \n",
    "(1 + 100)*100"
   ]
  },
  {
   "cell_type": "code",
   "execution_count": 29,
   "metadata": {},
   "outputs": [
    {
     "data": {
      "text/plain": [
       "303"
      ]
     },
     "execution_count": 29,
     "metadata": {},
     "output_type": "execute_result"
    }
   ],
   "source": [
    "(1 + 100)*y_train.shape[1]"
   ]
  },
  {
   "cell_type": "markdown",
   "metadata": {},
   "source": [
    "Here is an alternative way to define a sequential NN:"
   ]
  },
  {
   "cell_type": "code",
   "execution_count": 30,
   "metadata": {},
   "outputs": [
    {
     "name": "stdout",
     "output_type": "stream",
     "text": [
      "Model: \"sequential_1\"\n",
      "_________________________________________________________________\n",
      "Layer (type)                 Output Shape              Param #   \n",
      "=================================================================\n",
      "dense_5 (Dense)              (None, 300)               8100      \n",
      "_________________________________________________________________\n",
      "dense_6 (Dense)              (None, 200)               60200     \n",
      "_________________________________________________________________\n",
      "dense_7 (Dense)              (None, 100)               20100     \n",
      "_________________________________________________________________\n",
      "dense_8 (Dense)              (None, 100)               10100     \n",
      "_________________________________________________________________\n",
      "dense_9 (Dense)              (None, 3)                 303       \n",
      "=================================================================\n",
      "Total params: 98,803\n",
      "Trainable params: 98,803\n",
      "Non-trainable params: 0\n",
      "_________________________________________________________________\n"
     ]
    }
   ],
   "source": [
    "model2 = keras.models.Sequential([\n",
    "    keras.layers.Input(shape = x_train.shape[1]),\n",
    "    keras.layers.Dense(300, activation = 'relu'),\n",
    "    keras.layers.Dense(200, activation = LeakyReLU(alpha = 0.1)),\n",
    "    keras.layers.Dense(100, activation = 'elu'),\n",
    "    keras.layers.Dense(100, activation = keras.layers.ELU(alpha = 1.0)),\n",
    "    keras.layers.Dense(y_train.shape[1], activation = 'softmax')\n",
    "])\n",
    "model2.summary()"
   ]
  },
  {
   "cell_type": "markdown",
   "metadata": {},
   "source": [
    "*********************\n",
    "# Compilation\n",
    "[TOP](#Keras)\n",
    "\n",
    "I am going to show you three different ways to compile the model:\n",
    "\n",
    "1. the easy way\n",
    "2. with a custom optimizer\n",
    "3. with a custom optimizer and custom learning rate\n",
    "\n",
    "The easy way:"
   ]
  },
  {
   "cell_type": "code",
   "execution_count": 38,
   "metadata": {},
   "outputs": [],
   "source": [
    "model.compile(loss = 'categorical_crossentropy',\n",
    "             metrics = ['accuracy', 'categorical_crossentropy'],\n",
    "             optimizer = 'rmsprop')"
   ]
  },
  {
   "cell_type": "markdown",
   "metadata": {},
   "source": [
    "Custom optimizer:"
   ]
  },
  {
   "cell_type": "code",
   "execution_count": 32,
   "metadata": {},
   "outputs": [],
   "source": [
    "model.compile(loss = 'categorical_crossentropy',\n",
    "             metrics = ['accurcay'],\n",
    "             optimizer = keras.optimizers.RMSprop(learning_rate = 0.001,\n",
    "                                                 rho = 0.9,\n",
    "                                                 momentum = 0.0,\n",
    "                                                 epsilon = 1e-7))"
   ]
  },
  {
   "cell_type": "markdown",
   "metadata": {},
   "source": [
    "Now we shall fit a custom learning rate schedule.\n",
    "The default values for an exponential decay learning schedule is too extreme for our setting.\n",
    "We are going to do some math to adjust the default values.\n",
    "\n",
    "When we fit, we will have:\n",
    "\n",
    "- all the training data over batches of size 32 (the default)\n",
    "- 20% validation_fraction\n",
    "- 30 epochs"
   ]
  },
  {
   "cell_type": "code",
   "execution_count": 33,
   "metadata": {},
   "outputs": [
    {
     "data": {
      "text/plain": [
       "25416.75"
      ]
     },
     "execution_count": 33,
     "metadata": {},
     "output_type": "execute_result"
    }
   ],
   "source": [
    "x_train.shape[0]/32*(1 - 0.2)*30"
   ]
  },
  {
   "cell_type": "code",
   "execution_count": 34,
   "metadata": {},
   "outputs": [],
   "source": [
    "lr_exp = keras.optimizers.schedules.ExponentialDecay(\n",
    "    initial_learning_rate = 0.1,\n",
    "    decay_steps = 100000,\n",
    "    decay_rate = 0.96)\n",
    "\n",
    "lr_exp = keras.optimizers.schedules.ExponentialDecay(\n",
    "    initial_learning_rate = 0.1,\n",
    "    decay_steps = 5000,\n",
    "    decay_rate = 0.3)"
   ]
  },
  {
   "cell_type": "code",
   "execution_count": 39,
   "metadata": {},
   "outputs": [],
   "source": [
    "model.compile(loss = 'categorical_crossentropy',\n",
    "             metrics = ['accuracy'],\n",
    "             optimizer = keras.optimizers.RMSprop(learning_rate = lr_exp,\n",
    "                                                 rho = 0.9,\n",
    "                                                 momentum = 0.0,\n",
    "                                                 epsilon = 1e-7))"
   ]
  },
  {
   "cell_type": "markdown",
   "metadata": {},
   "source": [
    "*********\n",
    "# Fitting \n",
    "[TOP](#Keras)\n",
    "\n",
    "Before we can fit our final model, we will set up early stopping.\n",
    "This is the same idea as in boosting ensembles."
   ]
  },
  {
   "cell_type": "code",
   "execution_count": 36,
   "metadata": {},
   "outputs": [],
   "source": [
    "es = keras.callbacks.EarlyStopping(patience = 4)"
   ]
  },
  {
   "cell_type": "markdown",
   "metadata": {},
   "source": [
    "Here we go!"
   ]
  },
  {
   "cell_type": "code",
   "execution_count": 40,
   "metadata": {},
   "outputs": [
    {
     "name": "stdout",
     "output_type": "stream",
     "text": [
      "Epoch 1/30\n",
      "848/848 [==============================] - 2s 2ms/step - loss: 1998.6832 - accuracy: 0.3960 - val_loss: 5.1809 - val_accuracy: 0.1809\n",
      "Epoch 2/30\n",
      "848/848 [==============================] - 1s 2ms/step - loss: 4.9581 - accuracy: 0.3659 - val_loss: 5.5680 - val_accuracy: 0.1809\n",
      "Epoch 3/30\n",
      "848/848 [==============================] - 1s 2ms/step - loss: 4.1037 - accuracy: 0.3595 - val_loss: 1.8062 - val_accuracy: 0.4447\n",
      "Epoch 4/30\n",
      "848/848 [==============================] - 1s 2ms/step - loss: 3.2981 - accuracy: 0.3660 - val_loss: 2.1270 - val_accuracy: 0.3744\n",
      "Epoch 5/30\n",
      "848/848 [==============================] - 1s 2ms/step - loss: 2.6608 - accuracy: 0.3745 - val_loss: 2.2401 - val_accuracy: 0.4447\n",
      "Epoch 6/30\n",
      "848/848 [==============================] - 1s 2ms/step - loss: 2.1955 - accuracy: 0.3818 - val_loss: 2.4362 - val_accuracy: 0.4447\n",
      "Epoch 7/30\n",
      "848/848 [==============================] - 1s 2ms/step - loss: 1.9069 - accuracy: 0.3720 - val_loss: 1.1168 - val_accuracy: 0.4447\n",
      "Epoch 8/30\n",
      "848/848 [==============================] - 2s 2ms/step - loss: 1.6097 - accuracy: 0.3879 - val_loss: 1.4191 - val_accuracy: 0.3744\n",
      "Epoch 9/30\n",
      "848/848 [==============================] - 1s 2ms/step - loss: 1.4747 - accuracy: 0.3774 - val_loss: 1.1198 - val_accuracy: 0.1809\n",
      "Epoch 10/30\n",
      "848/848 [==============================] - 2s 2ms/step - loss: 1.3221 - accuracy: 0.3899 - val_loss: 1.8151 - val_accuracy: 0.1809\n",
      "Epoch 11/30\n",
      "848/848 [==============================] - 1s 2ms/step - loss: 1.2445 - accuracy: 0.3918 - val_loss: 1.5539 - val_accuracy: 0.4447\n"
     ]
    }
   ],
   "source": [
    "history = model.fit(x_train, y_train,\n",
    "                   batch_size = 32,\n",
    "                   epochs = 30,\n",
    "                   validation_split = 0.2,\n",
    "                   callbacks = [es])"
   ]
  },
  {
   "cell_type": "markdown",
   "metadata": {},
   "source": [
    "We can take a look at the performance of training over time:"
   ]
  },
  {
   "cell_type": "code",
   "execution_count": 42,
   "metadata": {},
   "outputs": [
    {
     "data": {
      "text/html": [
       "<div>\n",
       "<style scoped>\n",
       "    .dataframe tbody tr th:only-of-type {\n",
       "        vertical-align: middle;\n",
       "    }\n",
       "\n",
       "    .dataframe tbody tr th {\n",
       "        vertical-align: top;\n",
       "    }\n",
       "\n",
       "    .dataframe thead th {\n",
       "        text-align: right;\n",
       "    }\n",
       "</style>\n",
       "<table border=\"1\" class=\"dataframe\">\n",
       "  <thead>\n",
       "    <tr style=\"text-align: right;\">\n",
       "      <th></th>\n",
       "      <th>loss</th>\n",
       "      <th>accuracy</th>\n",
       "      <th>val_loss</th>\n",
       "      <th>val_accuracy</th>\n",
       "    </tr>\n",
       "  </thead>\n",
       "  <tbody>\n",
       "    <tr>\n",
       "      <th>0</th>\n",
       "      <td>413.461792</td>\n",
       "      <td>0.379477</td>\n",
       "      <td>5.180948</td>\n",
       "      <td>0.180879</td>\n",
       "    </tr>\n",
       "    <tr>\n",
       "      <th>1</th>\n",
       "      <td>4.767755</td>\n",
       "      <td>0.361145</td>\n",
       "      <td>5.568022</td>\n",
       "      <td>0.180879</td>\n",
       "    </tr>\n",
       "    <tr>\n",
       "      <th>2</th>\n",
       "      <td>3.841892</td>\n",
       "      <td>0.364686</td>\n",
       "      <td>1.806191</td>\n",
       "      <td>0.444674</td>\n",
       "    </tr>\n",
       "    <tr>\n",
       "      <th>3</th>\n",
       "      <td>3.136300</td>\n",
       "      <td>0.365608</td>\n",
       "      <td>2.126998</td>\n",
       "      <td>0.374447</td>\n",
       "    </tr>\n",
       "    <tr>\n",
       "      <th>4</th>\n",
       "      <td>2.522124</td>\n",
       "      <td>0.379440</td>\n",
       "      <td>2.240052</td>\n",
       "      <td>0.444674</td>\n",
       "    </tr>\n",
       "  </tbody>\n",
       "</table>\n",
       "</div>"
      ],
      "text/plain": [
       "         loss  accuracy  val_loss  val_accuracy\n",
       "0  413.461792  0.379477  5.180948      0.180879\n",
       "1    4.767755  0.361145  5.568022      0.180879\n",
       "2    3.841892  0.364686  1.806191      0.444674\n",
       "3    3.136300  0.365608  2.126998      0.374447\n",
       "4    2.522124  0.379440  2.240052      0.444674"
      ]
     },
     "execution_count": 42,
     "metadata": {},
     "output_type": "execute_result"
    }
   ],
   "source": [
    "history.history\n",
    "train_results = pd.DataFrame(history.history)\n",
    "train_results.head()"
   ]
  },
  {
   "cell_type": "markdown",
   "metadata": {},
   "source": [
    "And plot it!"
   ]
  },
  {
   "cell_type": "code",
   "execution_count": 45,
   "metadata": {},
   "outputs": [
    {
     "data": {
      "image/png": "[encoded data removed]",
      "text/plain": [
       "<Figure size 432x288 with 1 Axes>"
      ]
     },
     "metadata": {
      "needs_background": "light"
     },
     "output_type": "display_data"
    }
   ],
   "source": [
    "train_results.plot()\n",
    "\n",
    "plt.ylim(0, 2)\n",
    "plt.grid(True)\n",
    "\n",
    "plt.show()"
   ]
  },
  {
   "cell_type": "markdown",
   "metadata": {},
   "source": [
    "***************\n",
    "# Evaluation\n",
    "[TOP](#Keras)\n",
    "\n",
    "Evaluation is perhaps one of the easiest parts:"
   ]
  },
  {
   "cell_type": "code",
   "execution_count": 46,
   "metadata": {},
   "outputs": [
    {
     "name": "stdout",
     "output_type": "stream",
     "text": [
      "530/530 [==============================] - 0s 860us/step - loss: 1.5751 - accuracy: 0.43420s - loss: 1.5654 - accura\n"
     ]
    },
    {
     "data": {
      "text/plain": [
       "[1.5750983953475952, 0.43416938185691833]"
      ]
     },
     "execution_count": 46,
     "metadata": {},
     "output_type": "execute_result"
    }
   ],
   "source": [
    "model_perf = model.evaluate(x_test, y_test)\n",
    "model_perf"
   ]
  },
  {
   "cell_type": "markdown",
   "metadata": {},
   "source": [
    "Let's save our accuracy"
   ]
  },
  {
   "cell_type": "code",
   "execution_count": 47,
   "metadata": {},
   "outputs": [
    {
     "data": {
      "text/plain": [
       "0.43416938185691833"
      ]
     },
     "execution_count": 47,
     "metadata": {},
     "output_type": "execute_result"
    }
   ],
   "source": [
    "acc_nn = model_perf[1]\n",
    "acc_nn"
   ]
  },
  {
   "cell_type": "markdown",
   "metadata": {},
   "source": [
    "Yikes.\n",
    "What was the null accuracy again?"
   ]
  },
  {
   "cell_type": "code",
   "execution_count": 48,
   "metadata": {},
   "outputs": [
    {
     "data": {
      "text/plain": [
       "0.43416937149601653"
      ]
     },
     "execution_count": 48,
     "metadata": {},
     "output_type": "execute_result"
    }
   ],
   "source": [
    "acc_null"
   ]
  },
  {
   "cell_type": "markdown",
   "metadata": {},
   "source": [
    "What was the percetage point gain from the null model?"
   ]
  },
  {
   "cell_type": "code",
   "execution_count": 49,
   "metadata": {},
   "outputs": [
    {
     "data": {
      "text/plain": [
       "1.0360901803174727e-08"
      ]
     },
     "execution_count": 49,
     "metadata": {},
     "output_type": "execute_result"
    }
   ],
   "source": [
    "acc_nn - acc_null"
   ]
  },
  {
   "cell_type": "markdown",
   "metadata": {},
   "source": [
    "Well... at least it is positive..."
   ]
  },
  {
   "cell_type": "markdown",
   "metadata": {},
   "source": [
    "****************\n",
    "# Prediction\n",
    "[TOP](#Keras)\n",
    "\n",
    "And now for some fancy prediction"
   ]
  },
  {
   "cell_type": "code",
   "execution_count": 52,
   "metadata": {},
   "outputs": [
    {
     "data": {
      "text/plain": [
       "array([0, 0, 0, 0, 0], dtype=int64)"
      ]
     },
     "execution_count": 52,
     "metadata": {},
     "output_type": "execute_result"
    }
   ],
   "source": [
    "yhat = model.predict(x_test.iloc[0:5, :])\n",
    "yhat\n",
    "np.argmax(yhat, axis = 1)"
   ]
  },
  {
   "cell_type": "code",
   "execution_count": null,
   "metadata": {},
   "outputs": [],
   "source": []
  }
 ],
 "metadata": {
  "kernelspec": {
   "display_name": "Python 3",
   "language": "python",
   "name": "python3"
  },
  "language_info": {
   "codemirror_mode": {
    "name": "ipython",
    "version": 3
   },
   "file_extension": ".py",
   "mimetype": "text/x-python",
   "name": "python",
   "nbconvert_exporter": "python",
   "pygments_lexer": "ipython3",
   "version": "3.8.5"
  }
 },
 "nbformat": 4,
 "nbformat_minor": 5
}
